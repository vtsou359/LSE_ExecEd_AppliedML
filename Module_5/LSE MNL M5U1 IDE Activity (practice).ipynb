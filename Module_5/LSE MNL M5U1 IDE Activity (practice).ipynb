{
 "cells": [
  {
   "cell_type": "markdown",
   "metadata": {
    "id": "ZHWKdpETbEoa"
   },
   "source": [
    "# LSE Machine Learning: Practical Applications\n",
    "## Module 5 Unit 1 IDE Activity (Practice)\n",
    "### In this IDE activity, you have the opportunity to practise the execution of logistic regression on a data set in R.\n",
    "As you complete this activity, you are required to read the text cells throughout the notebook and then run the code in the cells that follow. Be mindful of the syntax used to execute certain functionalities within R to produce a desired result. In completing this activity, you should gain the necessary practical skills to complete the IDE Activity (Assessment) that follows."
   ]
  },
  {
   "cell_type": "markdown",
   "metadata": {
    "id": "p946raTRbWIt"
   },
   "source": [
    "### Step 1: Load the relevant packages"
   ]
  },
  {
   "cell_type": "markdown",
   "metadata": {
    "id": "mdEQjOGwa5Vv"
   },
   "source": [
    "The functionality to estimate logistic regression is in base R and does not have to be loaded separately. However, you need to load the tidyverse package for data manipulation purposes. To interpret the coefficients in the logistic regression, the `margins` package is used."
   ]
  },
  {
   "cell_type": "code",
   "execution_count": 9,
   "metadata": {
    "id": "uWjHuu_xa5Vy"
   },
   "outputs": [
    {
     "name": "stderr",
     "output_type": "stream",
     "text": [
      "Warning message in system(\"timedatectl\", intern = TRUE):\n",
      "“running command 'timedatectl' had status 1”\n",
      "── \u001b[1mAttaching packages\u001b[22m ─────────────────────────────────────── tidyverse 1.3.0 ──\n",
      "\n",
      "\u001b[32m✔\u001b[39m \u001b[34mggplot2\u001b[39m 3.3.0     \u001b[32m✔\u001b[39m \u001b[34mpurrr  \u001b[39m 0.3.4\n",
      "\u001b[32m✔\u001b[39m \u001b[34mtibble \u001b[39m 3.1.2     \u001b[32m✔\u001b[39m \u001b[34mdplyr  \u001b[39m 1.0.4\n",
      "\u001b[32m✔\u001b[39m \u001b[34mtidyr  \u001b[39m 1.1.3     \u001b[32m✔\u001b[39m \u001b[34mstringr\u001b[39m 1.4.0\n",
      "\u001b[32m✔\u001b[39m \u001b[34mreadr  \u001b[39m 1.4.0     \u001b[32m✔\u001b[39m \u001b[34mforcats\u001b[39m 0.5.1\n",
      "\n",
      "── \u001b[1mConflicts\u001b[22m ────────────────────────────────────────── tidyverse_conflicts() ──\n",
      "\u001b[31m✖\u001b[39m \u001b[34mdplyr\u001b[39m::\u001b[32mfilter()\u001b[39m masks \u001b[34mstats\u001b[39m::filter()\n",
      "\u001b[31m✖\u001b[39m \u001b[34mdplyr\u001b[39m::\u001b[32mlag()\u001b[39m    masks \u001b[34mstats\u001b[39m::lag()\n",
      "\n"
     ]
    }
   ],
   "source": [
    "#!install.packages(\"margins\") \n",
    "\n",
    "library(tidyverse)\n",
    "library(margins)  #to obtain the average marginal effects"
   ]
  },
  {
   "cell_type": "markdown",
   "metadata": {
    "id": "EmWT_u85ypn9"
   },
   "source": [
    "### Step 2: Load the data"
   ]
  },
  {
   "cell_type": "markdown",
   "metadata": {
    "id": "uXHq7uvva5V3"
   },
   "source": [
    "To execute logistic regression, load the credit card data set."
   ]
  },
  {
   "cell_type": "code",
   "execution_count": 10,
   "metadata": {
    "id": "98cd_S1Ea5V4"
   },
   "outputs": [],
   "source": [
    "credit_data <- read.csv(\"Credit.csv\")"
   ]
  },
  {
   "cell_type": "markdown",
   "metadata": {
    "id": "-92Sb7asa5V7"
   },
   "source": [
    "Once the data set is loaded into R, use the `str()` function to analyse the structure of the data frame. Using the `head()` function, also consider the first few rows of the data."
   ]
  },
  {
   "cell_type": "code",
   "execution_count": 11,
   "metadata": {
    "id": "SJzhEYZKa5V9"
   },
   "outputs": [
    {
     "name": "stdout",
     "output_type": "stream",
     "text": [
      "'data.frame':\t10000 obs. of  4 variables:\n",
      " $ default: Factor w/ 2 levels \"No\",\"Yes\": 1 1 1 1 1 1 1 1 1 1 ...\n",
      " $ student: Factor w/ 2 levels \"No\",\"Yes\": 1 2 1 1 1 2 1 2 1 1 ...\n",
      " $ balance: num  730 817 1074 529 786 ...\n",
      " $ income : num  44362 12106 31767 35704 38463 ...\n"
     ]
    },
    {
     "data": {
      "text/html": [
       "<table class=\"dataframe\">\n",
       "<caption>A data.frame: 6 × 4</caption>\n",
       "<thead>\n",
       "\t<tr><th></th><th scope=col>default</th><th scope=col>student</th><th scope=col>balance</th><th scope=col>income</th></tr>\n",
       "\t<tr><th></th><th scope=col>&lt;fct&gt;</th><th scope=col>&lt;fct&gt;</th><th scope=col>&lt;dbl&gt;</th><th scope=col>&lt;dbl&gt;</th></tr>\n",
       "</thead>\n",
       "<tbody>\n",
       "\t<tr><th scope=row>1</th><td>No</td><td>No </td><td> 729.5265</td><td>44361.625</td></tr>\n",
       "\t<tr><th scope=row>2</th><td>No</td><td>Yes</td><td> 817.1804</td><td>12106.135</td></tr>\n",
       "\t<tr><th scope=row>3</th><td>No</td><td>No </td><td>1073.5492</td><td>31767.139</td></tr>\n",
       "\t<tr><th scope=row>4</th><td>No</td><td>No </td><td> 529.2506</td><td>35704.494</td></tr>\n",
       "\t<tr><th scope=row>5</th><td>No</td><td>No </td><td> 785.6559</td><td>38463.496</td></tr>\n",
       "\t<tr><th scope=row>6</th><td>No</td><td>Yes</td><td> 919.5885</td><td> 7491.559</td></tr>\n",
       "</tbody>\n",
       "</table>\n"
      ],
      "text/latex": [
       "A data.frame: 6 × 4\n",
       "\\begin{tabular}{r|llll}\n",
       "  & default & student & balance & income\\\\\n",
       "  & <fct> & <fct> & <dbl> & <dbl>\\\\\n",
       "\\hline\n",
       "\t1 & No & No  &  729.5265 & 44361.625\\\\\n",
       "\t2 & No & Yes &  817.1804 & 12106.135\\\\\n",
       "\t3 & No & No  & 1073.5492 & 31767.139\\\\\n",
       "\t4 & No & No  &  529.2506 & 35704.494\\\\\n",
       "\t5 & No & No  &  785.6559 & 38463.496\\\\\n",
       "\t6 & No & Yes &  919.5885 &  7491.559\\\\\n",
       "\\end{tabular}\n"
      ],
      "text/markdown": [
       "\n",
       "A data.frame: 6 × 4\n",
       "\n",
       "| <!--/--> | default &lt;fct&gt; | student &lt;fct&gt; | balance &lt;dbl&gt; | income &lt;dbl&gt; |\n",
       "|---|---|---|---|---|\n",
       "| 1 | No | No  |  729.5265 | 44361.625 |\n",
       "| 2 | No | Yes |  817.1804 | 12106.135 |\n",
       "| 3 | No | No  | 1073.5492 | 31767.139 |\n",
       "| 4 | No | No  |  529.2506 | 35704.494 |\n",
       "| 5 | No | No  |  785.6559 | 38463.496 |\n",
       "| 6 | No | Yes |  919.5885 |  7491.559 |\n",
       "\n"
      ],
      "text/plain": [
       "  default student balance   income   \n",
       "1 No      No       729.5265 44361.625\n",
       "2 No      Yes      817.1804 12106.135\n",
       "3 No      No      1073.5492 31767.139\n",
       "4 No      No       529.2506 35704.494\n",
       "5 No      No       785.6559 38463.496\n",
       "6 No      Yes      919.5885  7491.559"
      ]
     },
     "metadata": {},
     "output_type": "display_data"
    }
   ],
   "source": [
    "str(credit_data)\n",
    "head(credit_data)"
   ]
  },
  {
   "cell_type": "markdown",
   "metadata": {
    "id": "mMxUobz7a5WA"
   },
   "source": [
    "The first rows indicate that all the columns are relevant. However, the first two variables are categorical in nature and are not saved as factor variables. These variables must be saved as factor variables using the `as.factor()` function. Once this has been done, confirm that the new structure of the data is correct."
   ]
  },
  {
   "cell_type": "code",
   "execution_count": 12,
   "metadata": {
    "id": "YHdwi4taa5WB"
   },
   "outputs": [
    {
     "name": "stdout",
     "output_type": "stream",
     "text": [
      "'data.frame':\t10000 obs. of  4 variables:\n",
      " $ default: Factor w/ 2 levels \"No\",\"Yes\": 1 1 1 1 1 1 1 1 1 1 ...\n",
      " $ student: Factor w/ 2 levels \"No\",\"Yes\": 1 2 1 1 1 2 1 2 1 1 ...\n",
      " $ balance: num  730 817 1074 529 786 ...\n",
      " $ income : num  44362 12106 31767 35704 38463 ...\n"
     ]
    }
   ],
   "source": [
    "credit_data$default <- as.factor(credit_data$default)\n",
    "credit_data$student <- as.factor(credit_data$student)\n",
    "str(credit_data)"
   ]
  },
  {
   "cell_type": "markdown",
   "metadata": {
    "id": "FB9Y8TR_a5WE"
   },
   "source": [
    "Once the data is ready, the logistic regression model can be fitted onto the data set. In this example, the ***default*** variable is the variable to be predicted, and all other variables are predictors."
   ]
  },
  {
   "cell_type": "markdown",
   "metadata": {
    "id": "N6rxPcTh2Xr5"
   },
   "source": [
    "### Step 3: Interpret the output"
   ]
  },
  {
   "cell_type": "markdown",
   "metadata": {
    "id": "B5SjrRk12eep"
   },
   "source": [
    "Use the `glm()` function to estimate the logistic regression model."
   ]
  },
  {
   "cell_type": "code",
   "execution_count": 18,
   "metadata": {
    "id": "zNtrez-ta5WF"
   },
   "outputs": [
    {
     "ename": "ERROR",
     "evalue": "Error in glm.control(iter = 1000): unused argument (iter = 1000)\n",
     "output_type": "error",
     "traceback": [
      "Error in glm.control(iter = 1000): unused argument (iter = 1000)\nTraceback:\n",
      "1. glm(default ~ ., data = credit_data, family = binomial(link = logit), \n .     iter = 1000)",
      "2. do.call(\"glm.control\", control)"
     ]
    }
   ],
   "source": [
    "logitReg <- glm(default ~., data = credit_data, family = binomial(link = logit))\n",
    "summary(logitReg)"
   ]
  },
  {
   "cell_type": "markdown",
   "metadata": {
    "id": "1N_0gSJq3xCQ"
   },
   "source": [
    "In this summary, the significance of the variables is shown, indicating that the ***student*** and ***balance*** varaibles are significant. The output shows that these variables are all statistically significant. To determine the relationship between these variables, the `margins()` function may be used. In the output the average marginal effect (AME) is the average change in **probability** with a unit increase in the predictor."
   ]
  },
  {
   "cell_type": "code",
   "execution_count": 17,
   "metadata": {
    "id": "qusUqapma5WI"
   },
   "outputs": [
    {
     "data": {
      "text/html": [
       "<table class=\"dataframe\">\n",
       "<caption>A summary.margins: 3 × 7</caption>\n",
       "<thead>\n",
       "\t<tr><th></th><th scope=col>factor</th><th scope=col>AME</th><th scope=col>SE</th><th scope=col>z</th><th scope=col>p</th><th scope=col>lower</th><th scope=col>upper</th></tr>\n",
       "\t<tr><th></th><th scope=col>&lt;chr&gt;</th><th scope=col>&lt;dbl&gt;</th><th scope=col>&lt;dbl&gt;</th><th scope=col>&lt;dbl&gt;</th><th scope=col>&lt;dbl&gt;</th><th scope=col>&lt;dbl&gt;</th><th scope=col>&lt;dbl&gt;</th></tr>\n",
       "</thead>\n",
       "<tbody>\n",
       "\t<tr><th scope=row>1</th><td>balance   </td><td> 1.232348e-04</td><td>4.851866e-06</td><td>25.3994633</td><td>2.556535e-142</td><td> 1.137253e-04</td><td> 1.327443e-04</td></tr>\n",
       "\t<tr><th scope=row>2</th><td>income    </td><td> 6.516621e-08</td><td>1.765025e-07</td><td> 0.3692085</td><td> 7.119723e-01</td><td>-2.807722e-07</td><td> 4.111047e-07</td></tr>\n",
       "\t<tr><th scope=row>3</th><td>studentYes</td><td>-1.326965e-02</td><td>4.659183e-03</td><td>-2.8480647</td><td> 4.398599e-03</td><td>-2.240148e-02</td><td>-4.137823e-03</td></tr>\n",
       "</tbody>\n",
       "</table>\n"
      ],
      "text/latex": [
       "A summary.margins: 3 × 7\n",
       "\\begin{tabular}{r|lllllll}\n",
       "  & factor & AME & SE & z & p & lower & upper\\\\\n",
       "  & <chr> & <dbl> & <dbl> & <dbl> & <dbl> & <dbl> & <dbl>\\\\\n",
       "\\hline\n",
       "\t1 & balance    &  1.232348e-04 & 4.851866e-06 & 25.3994633 & 2.556535e-142 &  1.137253e-04 &  1.327443e-04\\\\\n",
       "\t2 & income     &  6.516621e-08 & 1.765025e-07 &  0.3692085 &  7.119723e-01 & -2.807722e-07 &  4.111047e-07\\\\\n",
       "\t3 & studentYes & -1.326965e-02 & 4.659183e-03 & -2.8480647 &  4.398599e-03 & -2.240148e-02 & -4.137823e-03\\\\\n",
       "\\end{tabular}\n"
      ],
      "text/markdown": [
       "\n",
       "A summary.margins: 3 × 7\n",
       "\n",
       "| <!--/--> | factor &lt;chr&gt; | AME &lt;dbl&gt; | SE &lt;dbl&gt; | z &lt;dbl&gt; | p &lt;dbl&gt; | lower &lt;dbl&gt; | upper &lt;dbl&gt; |\n",
       "|---|---|---|---|---|---|---|---|\n",
       "| 1 | balance    |  1.232348e-04 | 4.851866e-06 | 25.3994633 | 2.556535e-142 |  1.137253e-04 |  1.327443e-04 |\n",
       "| 2 | income     |  6.516621e-08 | 1.765025e-07 |  0.3692085 |  7.119723e-01 | -2.807722e-07 |  4.111047e-07 |\n",
       "| 3 | studentYes | -1.326965e-02 | 4.659183e-03 | -2.8480647 |  4.398599e-03 | -2.240148e-02 | -4.137823e-03 |\n",
       "\n"
      ],
      "text/plain": [
       "  factor     AME           SE           z          p             lower        \n",
       "1 balance     1.232348e-04 4.851866e-06 25.3994633 2.556535e-142  1.137253e-04\n",
       "2 income      6.516621e-08 1.765025e-07  0.3692085  7.119723e-01 -2.807722e-07\n",
       "3 studentYes -1.326965e-02 4.659183e-03 -2.8480647  4.398599e-03 -2.240148e-02\n",
       "  upper        \n",
       "1  1.327443e-04\n",
       "2  4.111047e-07\n",
       "3 -4.137823e-03"
      ]
     },
     "metadata": {},
     "output_type": "display_data"
    }
   ],
   "source": [
    "summary(margins(logitReg))"
   ]
  },
  {
   "cell_type": "markdown",
   "metadata": {
    "id": "hxO9ibT45uMk"
   },
   "source": [
    "### Step 4: Make the prediction"
   ]
  },
  {
   "cell_type": "markdown",
   "metadata": {
    "id": "e3oPvNI9a5WM"
   },
   "source": [
    "Now that the model has been fitted and interpreted, it can be used to make predictions on a hypothetical individual. Predict the expected probability of a student, with a balance of USD2,000 and an income of USD30,000, to default on their credit card repayments."
   ]
  },
  {
   "cell_type": "code",
   "execution_count": 15,
   "metadata": {
    "id": "47cOJFUMa5WN"
   },
   "outputs": [
    {
     "data": {
      "text/html": [
       "<strong>1:</strong> 0.51204592181216"
      ],
      "text/latex": [
       "\\textbf{1:} 0.51204592181216"
      ],
      "text/markdown": [
       "**1:** 0.51204592181216"
      ],
      "text/plain": [
       "        1 \n",
       "0.5120459 "
      ]
     },
     "metadata": {},
     "output_type": "display_data"
    }
   ],
   "source": [
    "newData <- data.frame(\"Yes\", 2000, 30000)\n",
    "colnames(newData) <- c(\"student\", \"balance\", \"income\")\n",
    "predict(logitReg, newData, type = \"response\")"
   ]
  },
  {
   "cell_type": "markdown",
   "metadata": {
    "id": "ZS7A_fMh60NA"
   },
   "source": [
    "The output of this cell shows that the likelihood of this hypothetical individual defaulting on their credit card repayments is 51.2%."
   ]
  }
 ],
 "metadata": {
  "colab": {
   "collapsed_sections": [],
   "name": "LSE MNL M5 U1 IDE Activity (practice).ipynb",
   "provenance": []
  },
  "kernelspec": {
   "display_name": "LSE-MNL-R",
   "language": "R",
   "name": "lse-mnl-r"
  },
  "language_info": {
   "codemirror_mode": "r",
   "file_extension": ".r",
   "mimetype": "text/x-r-source",
   "name": "R",
   "pygments_lexer": "r",
   "version": "3.6.3"
  }
 },
 "nbformat": 4,
 "nbformat_minor": 1
}
