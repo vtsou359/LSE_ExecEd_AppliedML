{
 "cells": [
  {
   "cell_type": "markdown",
   "metadata": {
    "colab_type": "text",
    "id": "vV4prYfjtUBX"
   },
   "source": [
    "# LSE Machine Learning: Practical Applications\n",
    "\n",
    "## Module 5 Unit 2 IDE Activity (Practice) | Generative models in text classification\n",
    "\n",
    "### In this IDE notebook, you have the opportunity to engage with a practical example of generative models and how it is executed in R.\n",
    "As you complete this activity, you are required to read the text cells throughout the notebook and then run the code in the cells that follow. Be mindful of the syntax used to execute certain functionalities within R to produce a desired result. In completing this activity, you should gain the necessary practical skills to complete the IDE activity (assessment) that follows."
   ]
  },
  {
   "cell_type": "markdown",
   "metadata": {
    "colab_type": "text",
    "id": "1OERltNyui_P"
   },
   "source": [
    "### Step 1: Illustrate the relevant R packages\n",
    "\n"
   ]
  },
  {
   "cell_type": "markdown",
   "metadata": {
    "colab_type": "text",
    "id": "HyrWyvigtMZK"
   },
   "source": [
    "The first step in the process is to load the necessary libraries. Tidyverse is not needed for this example, because the data has already been cleaned. The library required for naive Bayes classification is the `e1071` library. The `caret` library is also loaded to test the model's performance."
   ]
  },
  {
   "cell_type": "code",
   "execution_count": 1,
   "metadata": {
    "colab": {},
    "colab_type": "code",
    "id": "L_IudV5LtMZM"
   },
   "outputs": [
    {
     "name": "stderr",
     "output_type": "stream",
     "text": [
      "Loading required package: lattice\n",
      "\n",
      "Loading required package: ggplot2\n",
      "\n"
     ]
    }
   ],
   "source": [
    "library(e1071)\n",
    "library(caret)"
   ]
  },
  {
   "cell_type": "markdown",
   "metadata": {
    "colab_type": "text",
    "id": "hcsLPrNevARV"
   },
   "source": [
    "### Step 2: Load the data"
   ]
  },
  {
   "cell_type": "markdown",
   "metadata": {
    "colab_type": "text",
    "id": "ouXiX1EAtMZQ"
   },
   "source": [
    "Load the two RDS objects, `Class.RDS` and `dtm.RDS`. Both of these objects have been cleaned for easy use with the naive Bayes classifier. `Class.RDS` is the class of each word (i.e. positive or negative) and the variable being predicted; `dtm.RDS` provides the cleaned predictor variables."
   ]
  },
  {
   "cell_type": "code",
   "execution_count": 2,
   "metadata": {
    "colab": {},
    "colab_type": "code",
    "id": "BDLxJPwvtMZR"
   },
   "outputs": [],
   "source": [
    "class <- readRDS(\"Class.RDS\")\n",
    "dtm <- readRDS(\"dtm.RDS\")"
   ]
  },
  {
   "cell_type": "markdown",
   "metadata": {
    "colab_type": "text",
    "id": "_Qmda_YKwl3j"
   },
   "source": [
    "### Step 3: Estimate the model"
   ]
  },
  {
   "cell_type": "markdown",
   "metadata": {
    "colab_type": "text",
    "id": "eppBuJyatMZU"
   },
   "source": [
    "Before estimating the model, split the two sets of data into training and testing data sets. The first 1,500 data points are used to form the training data set, and the remaining 500 data points are used to form the test data set. Remember that the ***class*** variable is in vector form."
   ]
  },
  {
   "cell_type": "code",
   "execution_count": null,
   "metadata": {
    "colab": {},
    "colab_type": "code",
    "id": "gCqgRB10tMZV"
   },
   "outputs": [],
   "source": [
    "trainClass <- class[1:1500]\n",
    "testClass <- class[1501:2000]\n",
    "\n",
    "trainDTM <- dtm[1:1500, ]\n",
    "testDTM <- dtm[1501:2000, ]"
   ]
  },
  {
   "cell_type": "markdown",
   "metadata": {
    "colab_type": "text",
    "id": "q0bOFCZXtMZY"
   },
   "source": [
    "Once the data sets have been split, the model can be estimated using the `classifier()` function to perform the naive Bayes classification. The parameters used are the dtm object and the class object."
   ]
  },
  {
   "cell_type": "code",
   "execution_count": null,
   "metadata": {
    "colab": {},
    "colab_type": "code",
    "id": "MywpnI3ptMZY"
   },
   "outputs": [],
   "source": [
    "classifier <- naiveBayes(trainDTM, trainClass)"
   ]
  },
  {
   "cell_type": "markdown",
   "metadata": {
    "colab_type": "text",
    "id": "VyUYJ3mytMZb"
   },
   "source": [
    "Now use the `predict()` function to predict the classification on the training data set."
   ]
  },
  {
   "cell_type": "markdown",
   "metadata": {
    "colab_type": "text",
    "id": "k43gsEo2PwO8"
   },
   "source": [
    "Note that it could take some time for this cell to run."
   ]
  },
  {
   "cell_type": "code",
   "execution_count": null,
   "metadata": {
    "colab": {},
    "colab_type": "code",
    "id": "B7DQWZkRtMZc"
   },
   "outputs": [],
   "source": [
    "testPreds <- predict(classifier, newdata = testDTM)"
   ]
  },
  {
   "cell_type": "markdown",
   "metadata": {
    "colab_type": "text",
    "id": "pQgjnk_8zACd"
   },
   "source": [
    "### Step 4: Test the model's performance"
   ]
  },
  {
   "cell_type": "markdown",
   "metadata": {
    "colab_type": "text",
    "id": "KLRn2Ni1tMZf"
   },
   "source": [
    "Create a confusion matrix using the `confusionMatrix()` function. The prediction argument is the predictions that were created in the previous step, and it originates from the ***training class*** vector."
   ]
  },
  {
   "cell_type": "code",
   "execution_count": null,
   "metadata": {
    "colab": {},
    "colab_type": "code",
    "id": "hQYdParxtMZh"
   },
   "outputs": [],
   "source": [
    "confusionMatrix(testPreds, testClass)"
   ]
  },
  {
   "cell_type": "markdown",
   "metadata": {
    "colab_type": "text",
    "id": "OSrus4T142w5"
   },
   "source": [
    "The accuracy of the model is indicative of the percentage of times the model predicts the class correctly. In this case, the accuracy of the model is 0.8, meaning that the model correctly predicts whether the review is positive or negative 80% of the time."
   ]
  },
  {
   "cell_type": "markdown",
   "metadata": {
    "colab_type": "text",
    "id": "oTvO_k7-3yke"
   },
   "source": [
    "**Note:** Navigate to the IDE activity (assessment) in the next component to replicate some of these steps on a new data set."
   ]
  }
 ],
 "metadata": {
  "colab": {
   "collapsed_sections": [],
   "name": "LSE MNL M5 U2 IDE Activity notebook (practice)_v03_BL.ipynb",
   "provenance": []
  },
  "kernelspec": {
   "display_name": "R",
   "language": "R",
   "name": "ir"
  },
  "language_info": {
   "codemirror_mode": "r",
   "file_extension": ".r",
   "mimetype": "text/x-r-source",
   "name": "R",
   "pygments_lexer": "r",
   "version": "3.6.3"
  }
 },
 "nbformat": 4,
 "nbformat_minor": 1
}
