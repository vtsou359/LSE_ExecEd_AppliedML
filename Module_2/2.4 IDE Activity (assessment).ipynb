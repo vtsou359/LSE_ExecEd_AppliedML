{
 "cells": [
  {
   "cell_type": "markdown",
   "metadata": {
    "colab_type": "text",
    "deletable": false,
    "editable": false,
    "id": "nhpDKruoVnRz",
    "nbgrader": {
     "cell_type": "markdown",
     "checksum": "0f50153784a88c6759811c958396f753",
     "grade": false,
     "grade_id": "cell-f7283c33a7cd000d",
     "locked": true,
     "schema_version": 3,
     "solution": false,
     "task": false
    }
   },
   "source": [
    "# LSE Machine Learning: Practical Applications\n",
    "## Module 2 Unit 2 IDE Activity (assessment)\n",
    "### In this IDE activity, you are required to apply the different steps of the machine learning pipeline to estimate and evaluate the model fit of both KNN and polynomial regression models.\n",
    "The instructions are positioned as text cells throughout this notebook before each step. As a result, you are required to first read the text cells above a code cell, familiarise yourself with the required step, and execute the step. Note that you are only required to execute some of the steps throughout the notebook. You are encouraged to refer to Video 1 in this unit's lesson to familiarise yourself with executing the machine learning pipeline in R."
   ]
  },
  {
   "cell_type": "markdown",
   "metadata": {
    "colab_type": "text",
    "deletable": false,
    "editable": false,
    "id": "Qc5AATSsYdZB",
    "nbgrader": {
     "cell_type": "markdown",
     "checksum": "2bee9e754779ee6f65572b9669fc8121",
     "grade": false,
     "grade_id": "cell-d68b1445a2435525",
     "locked": true,
     "schema_version": 3,
     "solution": false,
     "task": false
    }
   },
   "source": [
    "# Data set 1: Wine quality data set\n",
    "In the first section of the assessment, you are required to apply the machine learning pipeline to the wine quality data set. Based on the type of data, the KNN classifier should be fitted onto this data set to produce the output."
   ]
  },
  {
   "cell_type": "markdown",
   "metadata": {
    "colab_type": "text",
    "deletable": false,
    "editable": false,
    "id": "pTwkPdmDVnR2",
    "nbgrader": {
     "cell_type": "markdown",
     "checksum": "fb5313dc2ec9c288b83e0df2c3812441",
     "grade": false,
     "grade_id": "cell-18aa295553537291",
     "locked": true,
     "schema_version": 3,
     "solution": false,
     "task": false
    }
   },
   "source": [
    "1. Load in the relevant data set."
   ]
  },
  {
   "cell_type": "code",
   "execution_count": 1,
   "metadata": {
    "colab": {},
    "colab_type": "code",
    "deletable": false,
    "id": "xMHq65-aVnR2",
    "nbgrader": {
     "cell_type": "code",
     "checksum": "3199d0eb03c5e48c7e715488595fc459",
     "grade": true,
     "grade_id": "cell-05a5269bad786aaf",
     "locked": false,
     "points": 0,
     "schema_version": 3,
     "solution": true,
     "task": false
    }
   },
   "outputs": [],
   "source": [
    "\n",
    "library(data.table)\n",
    "data <- fread(\"Wine quality.csv\")\n",
    "data<-data[ , wine :=as.factor(wine)]\n",
    "\n",
    "\n"
   ]
  },
  {
   "cell_type": "markdown",
   "metadata": {
    "colab_type": "text",
    "deletable": false,
    "editable": false,
    "id": "cASih2T0VnR5",
    "nbgrader": {
     "cell_type": "markdown",
     "checksum": "4803549e27c29d08d55f5e0667ba3263",
     "grade": false,
     "grade_id": "cell-b8d9034b62b75043",
     "locked": true,
     "schema_version": 3,
     "solution": false,
     "task": false
    }
   },
   "source": [
    "2. Analyse the structure of the data."
   ]
  },
  {
   "cell_type": "code",
   "execution_count": 2,
   "metadata": {
    "colab": {},
    "colab_type": "code",
    "id": "YCK9-cdpVnR6",
    "outputId": "b1d69c88-17f2-41a8-ee44-6d149cda6ebd"
   },
   "outputs": [
    {
     "name": "stdout",
     "output_type": "stream",
     "text": [
      "Classes ‘data.table’ and 'data.frame':\t6497 obs. of  13 variables:\n",
      " $ fixed.acidity       : num  6.2 6.2 7 10.4 6.2 5.6 7.1 8.2 6.5 6.3 ...\n",
      " $ volatile.acidity    : num  0.28 0.33 0.32 0.64 0.28 0.49 0.21 0.38 0.18 0.28 ...\n",
      " $ citric.acid         : num  0.33 0.19 0.24 0.24 0.27 0.13 0.37 0.32 0.26 0.29 ...\n",
      " $ residual.sugar      : num  1.7 5.6 6.2 2.8 10.3 4.5 2.4 2.5 1.4 6.8 ...\n",
      " $ chlorides           : num  0.029 0.042 0.048 0.105 0.03 0.039 0.026 0.08 0.041 0.051 ...\n",
      " $ free.sulfur.dioxide : num  24 22 31 29 26 17 23 24 40 40 ...\n",
      " $ total.sulfur.dioxide: num  111 143 228 53 108 116 100 71 141 143 ...\n",
      " $ density             : num  0.99 0.994 0.996 1 0.994 ...\n",
      " $ pH                  : num  3.24 3.15 3.23 3.24 3.2 3.42 3.15 3.27 3.34 3.43 ...\n",
      " $ sulphates           : num  0.5 0.63 0.62 0.67 0.36 0.9 0.38 0.85 0.72 0.59 ...\n",
      " $ alcohol             : num  12.1 9.9 9.4 9.9 10.7 13.7 11.4 11 9.5 11 ...\n",
      " $ quality             : int  6 5 6 5 6 7 7 6 6 6 ...\n",
      " $ wine                : Factor w/ 2 levels \"red\",\"white\": 2 2 2 1 2 2 2 1 2 2 ...\n",
      " - attr(*, \".internal.selfref\")=<externalptr> \n"
     ]
    }
   ],
   "source": [
    "str(data)"
   ]
  },
  {
   "cell_type": "markdown",
   "metadata": {
    "colab_type": "text",
    "deletable": false,
    "editable": false,
    "id": "oJ7YPKkwVnR8",
    "nbgrader": {
     "cell_type": "markdown",
     "checksum": "136ced0ff5bc44159445be1cd8132ae5",
     "grade": false,
     "grade_id": "cell-088ff9f41c5d55be",
     "locked": true,
     "schema_version": 3,
     "solution": false,
     "task": false
    }
   },
   "source": [
    "3. Load the caret and dplyr() packages to estimate KNN models."
   ]
  },
  {
   "cell_type": "code",
   "execution_count": 3,
   "metadata": {
    "colab": {},
    "colab_type": "code",
    "deletable": false,
    "id": "ap9eRMklVnR9",
    "nbgrader": {
     "cell_type": "code",
     "checksum": "3270298476640497494afab561ddbdd0",
     "grade": true,
     "grade_id": "cell-cfa02172b7c35cf1",
     "locked": false,
     "points": 0,
     "schema_version": 3,
     "solution": true,
     "task": false
    },
    "outputId": "90f4aa59-b3bb-43ed-b455-3d712385965a"
   },
   "outputs": [
    {
     "name": "stderr",
     "output_type": "stream",
     "text": [
      "Loading required package: lattice\n",
      "\n",
      "Loading required package: ggplot2\n",
      "\n",
      "\n",
      "Attaching package: ‘dplyr’\n",
      "\n",
      "\n",
      "The following objects are masked from ‘package:data.table’:\n",
      "\n",
      "    between, first, last\n",
      "\n",
      "\n",
      "The following objects are masked from ‘package:stats’:\n",
      "\n",
      "    filter, lag\n",
      "\n",
      "\n",
      "The following objects are masked from ‘package:base’:\n",
      "\n",
      "    intersect, setdiff, setequal, union\n",
      "\n",
      "\n"
     ]
    }
   ],
   "source": [
    "library(caret)\n",
    "library(dplyr)"
   ]
  },
  {
   "cell_type": "markdown",
   "metadata": {
    "colab_type": "text",
    "deletable": false,
    "editable": false,
    "id": "Yb4wuVfXVnR_",
    "nbgrader": {
     "cell_type": "markdown",
     "checksum": "4f38088459c7b402e63f86d049eadd14",
     "grade": false,
     "grade_id": "cell-9b8e449019a0188d",
     "locked": true,
     "schema_version": 3,
     "solution": false,
     "task": false
    }
   },
   "source": [
    "4. Separate the variables into predictor and predicted variables using the dplyr `select()` function, and convert the predicted variable into a factor."
   ]
  },
  {
   "cell_type": "code",
   "execution_count": 4,
   "metadata": {
    "colab": {},
    "colab_type": "code",
    "id": "PX9Lw8YGVnSA"
   },
   "outputs": [],
   "source": [
    "y <- data$wine\n",
    "y <- as.factor(y)\n",
    "x <- data %>% select(-wine)"
   ]
  },
  {
   "cell_type": "markdown",
   "metadata": {
    "colab_type": "text",
    "deletable": false,
    "editable": false,
    "id": "zElZdmy-VnSC",
    "nbgrader": {
     "cell_type": "markdown",
     "checksum": "6e4ebf78685aa55dfb629fc03dc2d785",
     "grade": false,
     "grade_id": "cell-d0657fab74b2c4c5",
     "locked": true,
     "schema_version": 3,
     "solution": false,
     "task": false
    }
   },
   "source": [
    "5. Estimate a model with *k* = 5, generate predictions, and produce the confusion matrix."
   ]
  },
  {
   "cell_type": "code",
   "execution_count": 5,
   "metadata": {
    "colab": {},
    "colab_type": "code",
    "deletable": false,
    "id": "ndhf8wG1VnSC",
    "nbgrader": {
     "cell_type": "code",
     "checksum": "c8ac2cbe0548e7afab3440247d59156b",
     "grade": true,
     "grade_id": "cell-b1bb753774975ab6",
     "locked": false,
     "points": 0,
     "schema_version": 3,
     "solution": true,
     "task": false
    },
    "outputId": "f562abf8-4878-4f09-862a-8f2c1a466e7b"
   },
   "outputs": [
    {
     "data": {
      "text/plain": [
       "Confusion Matrix and Statistics\n",
       "\n",
       "          Reference\n",
       "Prediction  red white\n",
       "     red   1433    91\n",
       "     white  166  4807\n",
       "                                          \n",
       "               Accuracy : 0.9604          \n",
       "                 95% CI : (0.9554, 0.9651)\n",
       "    No Information Rate : 0.7539          \n",
       "    P-Value [Acc > NIR] : < 2.2e-16       \n",
       "                                          \n",
       "                  Kappa : 0.8917          \n",
       "                                          \n",
       " Mcnemar's Test P-Value : 3.912e-06       \n",
       "                                          \n",
       "            Sensitivity : 0.8962          \n",
       "            Specificity : 0.9814          \n",
       "         Pos Pred Value : 0.9403          \n",
       "         Neg Pred Value : 0.9666          \n",
       "             Prevalence : 0.2461          \n",
       "         Detection Rate : 0.2206          \n",
       "   Detection Prevalence : 0.2346          \n",
       "      Balanced Accuracy : 0.9388          \n",
       "                                          \n",
       "       'Positive' Class : red             \n",
       "                                          "
      ]
     },
     "metadata": {},
     "output_type": "display_data"
    }
   ],
   "source": [
    "knn_model <- knn3(x, y, k = 5)\n",
    "knn_pred <- predict(knn_model, data[, -13], type = \"class\")\n",
    "confusionMatrix(knn_pred,y)"
   ]
  },
  {
   "cell_type": "markdown",
   "metadata": {
    "colab_type": "text",
    "deletable": false,
    "editable": false,
    "id": "x46qSuS9VnSG",
    "nbgrader": {
     "cell_type": "markdown",
     "checksum": "9d8c930e1ed73df8b11b2c98822fe378",
     "grade": false,
     "grade_id": "cell-69aaa638bbce7128",
     "locked": true,
     "schema_version": 3,
     "solution": false,
     "task": false
    }
   },
   "source": [
    "6. Repeat Instruction 5, but with *k* = 3."
   ]
  },
  {
   "cell_type": "code",
   "execution_count": 6,
   "metadata": {
    "colab": {},
    "colab_type": "code",
    "id": "rg7EuDEAVnSH",
    "outputId": "c14498db-bcef-4ba7-f5a0-945b5be9b831"
   },
   "outputs": [
    {
     "data": {
      "text/plain": [
       "Confusion Matrix and Statistics\n",
       "\n",
       "          Reference\n",
       "Prediction  red white\n",
       "     red   1495    81\n",
       "     white  104  4817\n",
       "                                          \n",
       "               Accuracy : 0.9715          \n",
       "                 95% CI : (0.9672, 0.9754)\n",
       "    No Information Rate : 0.7539          \n",
       "    P-Value [Acc > NIR] : <2e-16          \n",
       "                                          \n",
       "                  Kappa : 0.9229          \n",
       "                                          \n",
       " Mcnemar's Test P-Value : 0.1058          \n",
       "                                          \n",
       "            Sensitivity : 0.9350          \n",
       "            Specificity : 0.9835          \n",
       "         Pos Pred Value : 0.9486          \n",
       "         Neg Pred Value : 0.9789          \n",
       "             Prevalence : 0.2461          \n",
       "         Detection Rate : 0.2301          \n",
       "   Detection Prevalence : 0.2426          \n",
       "      Balanced Accuracy : 0.9592          \n",
       "                                          \n",
       "       'Positive' Class : red             \n",
       "                                          "
      ]
     },
     "metadata": {},
     "output_type": "display_data"
    }
   ],
   "source": [
    "knn_model <- knn3(wine ~., data = data, k = 3)\n",
    "knn_pred <- predict(knn_model, data[, -13], type = \"class\")\n",
    "confusionMatrix(knn_pred, data$wine)"
   ]
  },
  {
   "cell_type": "markdown",
   "metadata": {
    "colab_type": "text",
    "deletable": false,
    "editable": false,
    "id": "nVXac2JsVnSJ",
    "nbgrader": {
     "cell_type": "markdown",
     "checksum": "3f9a5617631b6142bb88b4ac6a7a72ed",
     "grade": false,
     "grade_id": "cell-a3550d17a2c58fb4",
     "locked": true,
     "schema_version": 3,
     "solution": false,
     "task": false
    }
   },
   "source": [
    "7. Create a variable of the tuning parameters to be odd values between *k* = 3 and *k* = 25."
   ]
  },
  {
   "cell_type": "code",
   "execution_count": 7,
   "metadata": {
    "colab": {},
    "colab_type": "code",
    "id": "NgXNwH9LVnSK"
   },
   "outputs": [],
   "source": [
    "hyper_grid <- expand.grid(k = seq(3, 25, by = 2))"
   ]
  },
  {
   "cell_type": "markdown",
   "metadata": {
    "colab_type": "text",
    "deletable": false,
    "editable": false,
    "id": "D9CQwxpZVnSM",
    "nbgrader": {
     "cell_type": "markdown",
     "checksum": "49e22e10c485c8bdd688791feff3d46e",
     "grade": false,
     "grade_id": "cell-93e0b02d7da1d1ea",
     "locked": true,
     "schema_version": 3,
     "solution": false,
     "task": false
    }
   },
   "source": [
    "8. Create the control for the cross-validation of the leave-out-one-group cross-validation method with 70% of the group used for training (no repetitions). Create a control to save the predictions. Note: The value of *p* should be 0.7 if only 70% of the group is used to train the model."
   ]
  },
  {
   "cell_type": "code",
   "execution_count": 8,
   "metadata": {
    "colab": {},
    "colab_type": "code",
    "deletable": false,
    "id": "Hu7MOg-TVnSM",
    "nbgrader": {
     "cell_type": "code",
     "checksum": "ff87cab649f9d2147493966f2ac81ee3",
     "grade": true,
     "grade_id": "cell-5e4e744a5b4a8a56",
     "locked": false,
     "points": 0,
     "schema_version": 3,
     "solution": true,
     "task": false
    }
   },
   "outputs": [],
   "source": [
    "set.seed(12345)\n",
    "ctrl<-trainControl(method=\"LGOCV\",\n",
    "                  p=0.7,\n",
    "                  number=1,\n",
    "                  savePredictions=TRUE)\n"
   ]
  },
  {
   "cell_type": "markdown",
   "metadata": {
    "colab_type": "text",
    "deletable": false,
    "editable": false,
    "id": "SZzskxG6VnSO",
    "nbgrader": {
     "cell_type": "markdown",
     "checksum": "6b69459f2982380d23c3c8c19e86919e",
     "grade": false,
     "grade_id": "cell-47c0ff70fe8080c3",
     "locked": true,
     "schema_version": 3,
     "solution": false,
     "task": false
    }
   },
   "source": [
    "9. Estimate the models across the tuning parameters and generate the output of the estimation, as well as a plot."
   ]
  },
  {
   "cell_type": "code",
   "execution_count": 9,
   "metadata": {
    "colab": {},
    "colab_type": "code",
    "deletable": false,
    "id": "9xw_01ZnVnSP",
    "nbgrader": {
     "cell_type": "code",
     "checksum": "fa6d70e402b7b651df08005bb43b873c",
     "grade": true,
     "grade_id": "cell-145fceee590ed1b9",
     "locked": false,
     "points": 0,
     "schema_version": 3,
     "solution": true,
     "task": false
    },
    "outputId": "39445d82-a3f8-4a24-a3e9-1b246cd25393"
   },
   "outputs": [
    {
     "data": {
      "text/plain": [
       "k-Nearest Neighbors \n",
       "\n",
       "6497 samples\n",
       "  12 predictor\n",
       "   2 classes: 'red', 'white' \n",
       "\n",
       "No pre-processing\n",
       "Resampling: Repeated Train/Test Splits Estimated (1 reps, 70%) \n",
       "Summary of sample sizes: 4549 \n",
       "Resampling results across tuning parameters:\n",
       "\n",
       "  k   Accuracy   Kappa    \n",
       "   3  0.9394251  0.8350387\n",
       "   5  0.9419918  0.8400973\n",
       "   7  0.9399384  0.8341985\n",
       "   9  0.9399384  0.8344370\n",
       "  11  0.9378850  0.8282828\n",
       "  13  0.9353183  0.8202797\n",
       "  15  0.9358316  0.8218352\n",
       "  17  0.9342916  0.8168961\n",
       "  19  0.9337782  0.8153313\n",
       "  21  0.9317248  0.8093277\n",
       "  23  0.9301848  0.8054521\n",
       "  25  0.9332649  0.8140351\n",
       "\n",
       "Accuracy was used to select the optimal model using the largest value.\n",
       "The final value used for the model was k = 5."
      ]
     },
     "metadata": {},
     "output_type": "display_data"
    },
    {
     "data": {
      "image/png": "[encoded data removed]",
      "text/plain": [
       "plot without title"
      ]
     },
     "metadata": {
      "image/png": {
       "height": 420,
       "width": 420
      }
     },
     "output_type": "display_data"
    }
   ],
   "source": [
    "knn_models <- train(x, y, method=\"knn\", tuneGrid=hyper_grid, trControl=ctrl)\n",
    "knn_models\n",
    "plot(knn_models)"
   ]
  },
  {
   "cell_type": "markdown",
   "metadata": {
    "colab_type": "text",
    "deletable": false,
    "editable": false,
    "id": "DWVak1TkZrqN",
    "nbgrader": {
     "cell_type": "markdown",
     "checksum": "916806e5282e1acaeb9510459373337f",
     "grade": false,
     "grade_id": "cell-f370c14bcbb75e57",
     "locked": true,
     "schema_version": 3,
     "solution": false,
     "task": false
    }
   },
   "source": [
    "# Data set 2: Combined cycle power plant\n",
    "In the second section of the assessment, you are required to apply the steps of the machine learning pipeline to the combined cycle power plant (CCPP) data set. Due to the nature of the data, polynomial regression should be used."
   ]
  },
  {
   "cell_type": "markdown",
   "metadata": {
    "colab_type": "text",
    "deletable": false,
    "editable": false,
    "id": "0yeIBfpGVnSR",
    "nbgrader": {
     "cell_type": "markdown",
     "checksum": "91786fe204e00a433e029cbbb7e4aee4",
     "grade": false,
     "grade_id": "cell-64207f7807fb9716",
     "locked": true,
     "schema_version": 3,
     "solution": false,
     "task": false
    }
   },
   "source": [
    "1. Load the relevant data set."
   ]
  },
  {
   "cell_type": "code",
   "execution_count": 10,
   "metadata": {
    "colab": {},
    "colab_type": "code",
    "id": "Ghkt6wXRahXt"
   },
   "outputs": [],
   "source": [
    "data <- read.csv(\"Combined cycle power plant.csv\")"
   ]
  },
  {
   "cell_type": "markdown",
   "metadata": {
    "colab_type": "text",
    "deletable": false,
    "editable": false,
    "id": "pwGCCi6NaXjq",
    "nbgrader": {
     "cell_type": "markdown",
     "checksum": "2a29d2e6f7ce335a16d367973bd5313e",
     "grade": false,
     "grade_id": "cell-af36870bec1d6563",
     "locked": true,
     "schema_version": 3,
     "solution": false,
     "task": false
    }
   },
   "source": [
    "2. Load the ISLR package and view the structure of the data."
   ]
  },
  {
   "cell_type": "code",
   "execution_count": 11,
   "metadata": {
    "colab": {},
    "colab_type": "code",
    "id": "ytZkgy4qVnSR",
    "outputId": "d92309d4-46e9-4b62-8e59-b23d22d1e2d7"
   },
   "outputs": [
    {
     "name": "stdout",
     "output_type": "stream",
     "text": [
      "'data.frame':\t47840 obs. of  5 variables:\n",
      " $ AT: num  14.96 25.18 5.11 20.86 10.82 ...\n",
      " $ V : num  41.8 63 39.4 57.3 37.5 ...\n",
      " $ AP: num  1024 1020 1012 1010 1009 ...\n",
      " $ RH: num  73.2 59.1 92.1 76.6 96.6 ...\n",
      " $ PE: num  463 444 489 446 474 ...\n"
     ]
    }
   ],
   "source": [
    "library(ISLR)\n",
    "str(data)"
   ]
  },
  {
   "cell_type": "markdown",
   "metadata": {
    "colab_type": "text",
    "deletable": false,
    "editable": false,
    "id": "ywvdmM7OVnST",
    "nbgrader": {
     "cell_type": "markdown",
     "checksum": "0dceed79ecdf7c9aa55aea3f08096a65",
     "grade": false,
     "grade_id": "cell-a9afcb738a317491",
     "locked": true,
     "schema_version": 3,
     "solution": false,
     "task": false
    }
   },
   "source": [
    "3. The variable that should be predicted is _**PE**_. _**V**_ is the predictor\n",
    "variable. Select the features _**PE**_ and _**V**_ from the data set."
   ]
  },
  {
   "cell_type": "code",
   "execution_count": 12,
   "metadata": {
    "colab": {},
    "colab_type": "code",
    "id": "CTKYCh6hVnSU"
   },
   "outputs": [],
   "source": [
    "PE <- data$PE\n",
    "V <- data$V"
   ]
  },
  {
   "cell_type": "markdown",
   "metadata": {
    "colab_type": "text",
    "id": "RZfiBv5yVnSX"
   },
   "source": [
    "4. Plot _**PE**_ against _**V**_."
   ]
  },
  {
   "cell_type": "code",
   "execution_count": 13,
   "metadata": {
    "colab": {},
    "colab_type": "code",
    "deletable": false,
    "id": "I8cKLUxqVnSY",
    "nbgrader": {
     "cell_type": "code",
     "checksum": "0c0ecd06df9bedd8131c6a2f1299a612",
     "grade": true,
     "grade_id": "cell-6235f6ca6804f1c3",
     "locked": false,
     "points": 0,
     "schema_version": 3,
     "solution": true,
     "task": false
    },
    "outputId": "595fae7c-74a1-4765-db1b-caa0411d56b7"
   },
   "outputs": [
    {
     "data": {
      "image/png": "[encoded data removed]",
      "text/plain": [
       "plot without title"
      ]
     },
     "metadata": {
      "image/png": {
       "height": 420,
       "width": 420
      }
     },
     "output_type": "display_data"
    }
   ],
   "source": [
    "# YOUR CODE HERE\n",
    "plot(PE,V)"
   ]
  },
  {
   "cell_type": "markdown",
   "metadata": {
    "colab_type": "text",
    "deletable": false,
    "editable": false,
    "id": "Xbv2ct1vVnSb",
    "nbgrader": {
     "cell_type": "markdown",
     "checksum": "e2062530abd6352930888cb40e38e4fd",
     "grade": false,
     "grade_id": "cell-4587a4b488499dbd",
     "locked": true,
     "schema_version": 3,
     "solution": false,
     "task": false
    }
   },
   "source": [
    "5. Create polynomial data of _**V**_ to the polynomial order 3."
   ]
  },
  {
   "cell_type": "code",
   "execution_count": 14,
   "metadata": {
    "colab": {},
    "colab_type": "code",
    "deletable": false,
    "id": "b42p-LYHVnSb",
    "nbgrader": {
     "cell_type": "code",
     "checksum": "20e00d7ffc0a833792e86a499101ab88",
     "grade": true,
     "grade_id": "cell-ee84155a14248796",
     "locked": false,
     "points": 0,
     "schema_version": 3,
     "solution": true,
     "task": false
    }
   },
   "outputs": [],
   "source": "poly_v<-poly(V,3)"
  },
  {
   "cell_type": "markdown",
   "metadata": {
    "colab_type": "text",
    "deletable": false,
    "editable": false,
    "id": "5g9whftpVnSd",
    "nbgrader": {
     "cell_type": "markdown",
     "checksum": "a330f03e0d3fcfe39aa9fe55a92194b5",
     "grade": false,
     "grade_id": "cell-62ece7801986b7eb",
     "locked": true,
     "schema_version": 3,
     "solution": false,
     "task": false
    }
   },
   "source": [
    "6. Estimate the polynomial regression and generate the summary statistics."
   ]
  },
  {
   "cell_type": "code",
   "execution_count": 15,
   "metadata": {
    "colab": {},
    "colab_type": "code",
    "id": "0OngN7lCVnSe",
    "outputId": "cd2c21f8-3551-4dcc-bde2-658062462141"
   },
   "outputs": [
    {
     "data": {
      "text/plain": [
       "\n",
       "Call:\n",
       "lm(formula = PE ~ poly_v)\n",
       "\n",
       "Residuals:\n",
       "    Min      1Q  Median      3Q     Max \n",
       "-40.529  -4.983  -0.160   5.251  38.418 \n",
       "\n",
       "Coefficients:\n",
       "              Estimate Std. Error   t value Pr(>|t|)    \n",
       "(Intercept)  4.544e+02  3.701e-02 12276.594  < 2e-16 ***\n",
       "poly_v1     -3.247e+03  8.095e+00  -401.067  < 2e-16 ***\n",
       "poly_v2      5.058e+02  8.095e+00    62.483  < 2e-16 ***\n",
       "poly_v3      4.462e+01  8.095e+00     5.512 3.57e-08 ***\n",
       "---\n",
       "Signif. codes:  0 ‘***’ 0.001 ‘**’ 0.01 ‘*’ 0.05 ‘.’ 0.1 ‘ ’ 1\n",
       "\n",
       "Residual standard error: 8.095 on 47836 degrees of freedom\n",
       "Multiple R-squared:  0.775,\tAdjusted R-squared:  0.775 \n",
       "F-statistic: 5.493e+04 on 3 and 47836 DF,  p-value: < 2.2e-16\n"
      ]
     },
     "metadata": {},
     "output_type": "display_data"
    }
   ],
   "source": [
    "poly_reg <- lm(PE ~ poly_v)\n",
    "summary(poly_reg)"
   ]
  },
  {
   "cell_type": "markdown",
   "metadata": {
    "colab_type": "text",
    "deletable": false,
    "editable": false,
    "id": "sCth0jD4VnSg",
    "nbgrader": {
     "cell_type": "markdown",
     "checksum": "03a01d8294f27ec2a3f0bb1c189cc531",
     "grade": false,
     "grade_id": "cell-45ffdbfbce7952ea",
     "locked": true,
     "schema_version": 3,
     "solution": false,
     "task": false
    }
   },
   "source": [
    "7. Create polynomial data of _**V**_ to the polynomial order 10, estimate the polynomial regression, and generate the summary statistics."
   ]
  },
  {
   "cell_type": "code",
   "execution_count": 16,
   "metadata": {
    "colab": {},
    "colab_type": "code",
    "deletable": false,
    "id": "DqfrrEjRVnSh",
    "nbgrader": {
     "cell_type": "code",
     "checksum": "f6f164d588fd0d9ece5511800bc460f4",
     "grade": true,
     "grade_id": "cell-9474af67f4930ba8",
     "locked": false,
     "points": 0,
     "schema_version": 3,
     "solution": true,
     "task": false
    },
    "outputId": "ba591686-b2e2-4fb4-c820-5efd9b1db84a"
   },
   "outputs": [
    {
     "data": {
      "text/plain": [
       "\n",
       "Call:\n",
       "lm(formula = PE ~ poly_v)\n",
       "\n",
       "Residuals:\n",
       "    Min      1Q  Median      3Q     Max \n",
       "-38.612  -4.950  -0.322   4.967  39.427 \n",
       "\n",
       "Coefficients:\n",
       "              Estimate Std. Error   t value Pr(>|t|)    \n",
       "(Intercept)   454.3650     0.0354 12836.071  < 2e-16 ***\n",
       "poly_v1     -3246.6803     7.7423  -419.345  < 2e-16 ***\n",
       "poly_v2       505.8034     7.7423    65.330  < 2e-16 ***\n",
       "poly_v3        44.6193     7.7423     5.763 8.31e-09 ***\n",
       "poly_v4      -255.2895     7.7423   -32.973  < 2e-16 ***\n",
       "poly_v5       334.4187     7.7423    43.194  < 2e-16 ***\n",
       "poly_v6       101.0293     7.7423    13.049  < 2e-16 ***\n",
       "poly_v7      -274.9004     7.7423   -35.506  < 2e-16 ***\n",
       "poly_v8        14.1416     7.7423     1.827   0.0678 .  \n",
       "poly_v9        46.9824     7.7423     6.068 1.30e-09 ***\n",
       "poly_v10      -50.3367     7.7423    -6.502 8.03e-11 ***\n",
       "---\n",
       "Signif. codes:  0 ‘***’ 0.001 ‘**’ 0.01 ‘*’ 0.05 ‘.’ 0.1 ‘ ’ 1\n",
       "\n",
       "Residual standard error: 7.742 on 47829 degrees of freedom\n",
       "Multiple R-squared:  0.7942,\tAdjusted R-squared:  0.7942 \n",
       "F-statistic: 1.846e+04 on 10 and 47829 DF,  p-value: < 2.2e-16\n"
      ]
     },
     "metadata": {},
     "output_type": "display_data"
    }
   ],
   "source": [
    "poly_v<-poly(V,10)\n",
    "poly_reg <- lm(PE ~ poly_v)\n",
    "summary(poly_reg)"
   ]
  },
  {
   "cell_type": "markdown",
   "metadata": {
    "colab_type": "text",
    "deletable": false,
    "editable": false,
    "id": "vXgtPu8NVnSj",
    "nbgrader": {
     "cell_type": "markdown",
     "checksum": "045b124dfadea9180cdadfb4a21e2c2c",
     "grade": false,
     "grade_id": "cell-43542d51272f948d",
     "locked": true,
     "schema_version": 3,
     "solution": false,
     "task": false
    }
   },
   "source": [
    "8. Load the caret package."
   ]
  },
  {
   "cell_type": "code",
   "execution_count": 17,
   "metadata": {
    "colab": {},
    "colab_type": "code",
    "id": "ChhLUC5nVnSj"
   },
   "outputs": [],
   "source": [
    "library(caret)"
   ]
  },
  {
   "cell_type": "markdown",
   "metadata": {
    "colab_type": "text",
    "deletable": false,
    "editable": false,
    "id": "D80qo4fKVnS2",
    "nbgrader": {
     "cell_type": "markdown",
     "checksum": "18f6382fd155718aa4fbe9b96ce61976",
     "grade": false,
     "grade_id": "cell-293f7bdc8d07eaa2",
     "locked": true,
     "schema_version": 3,
     "solution": false,
     "task": false
    }
   },
   "source": [
    "9. Set up the cross-validation parameters such that *k*-fold repeated cross-validation is used in accordance with the following specifics: 5 folds and 2 repeats. Save the values."
   ]
  },
  {
   "cell_type": "code",
   "execution_count": 18,
   "metadata": {
    "colab": {},
    "colab_type": "code",
    "deletable": false,
    "id": "xdK-V3YKVnS5",
    "nbgrader": {
     "cell_type": "code",
     "checksum": "c0268c88fe9b534c820271d22560f910",
     "grade": true,
     "grade_id": "cell-b4334ab4b86762fb",
     "locked": false,
     "points": 0,
     "schema_version": 3,
     "solution": true,
     "task": false
    }
   },
   "outputs": [],
   "source": [
    "set.seed(12345)\n",
    "fitControl<-trainControl(method=\"repeatedcv\",\n",
    "                        number=5,\n",
    "                        repeats=2)"
   ]
  },
  {
   "cell_type": "markdown",
   "metadata": {
    "colab_type": "text",
    "deletable": false,
    "editable": false,
    "id": "gdvo16fiVnS8",
    "nbgrader": {
     "cell_type": "markdown",
     "checksum": "90173170d3758a01771b8d466499e244",
     "grade": false,
     "grade_id": "cell-16b3477e46ebea46",
     "locked": true,
     "schema_version": 3,
     "solution": false,
     "task": false
    }
   },
   "source": [
    "10. Create an object for the R-squared variable."
   ]
  },
  {
   "cell_type": "code",
   "execution_count": 19,
   "metadata": {
    "colab": {},
    "colab_type": "code",
    "id": "bh4YcU47VnS9"
   },
   "outputs": [],
   "source": [
    "R2 <- c()"
   ]
  },
  {
   "cell_type": "markdown",
   "metadata": {
    "colab_type": "text",
    "deletable": false,
    "editable": false,
    "id": "xIu1IpJXVnS-",
    "nbgrader": {
     "cell_type": "markdown",
     "checksum": "b1fa349777c9b13534300090c10a5f4d",
     "grade": false,
     "grade_id": "cell-ac8a92c069a6454b",
     "locked": true,
     "schema_version": 3,
     "solution": false,
     "task": false
    }
   },
   "source": [
    "11. Create a for loop that estimates the model across tuning parameters of a polynomial of order 1 to order 10."
   ]
  },
  {
   "cell_type": "code",
   "execution_count": 20,
   "metadata": {
    "colab": {},
    "colab_type": "code",
    "id": "Glrx3iweVnS_"
   },
   "outputs": [],
   "source": [
    "for (d in 1:10) {\n",
    "    f <- bquote(PE ~ poly(V, .(d)))\n",
    "    LinearRegressor <- caret::train(as.formula(f), data = data, method = \"lm\",trControl = fitControl)\n",
    "    R2 <- c(R2, LinearRegressor$results$Rsquared)\n",
    "}\n",
    "\n"
   ]
  },
  {
   "cell_type": "markdown",
   "metadata": {
    "colab_type": "text",
    "deletable": false,
    "editable": false,
    "id": "dwIj3m5HVnTC",
    "nbgrader": {
     "cell_type": "markdown",
     "checksum": "5eec1dad68d277446c72d2b8c56851f0",
     "grade": false,
     "grade_id": "cell-c8e12abe71f31cc7",
     "locked": true,
     "schema_version": 3,
     "solution": false,
     "task": false
    }
   },
   "source": [
    "12. Print out the R-squared value across various tuning parameters, as well as a line plot."
   ]
  },
  {
   "cell_type": "code",
   "execution_count": 21,
   "metadata": {
    "colab": {},
    "colab_type": "code",
    "deletable": false,
    "id": "Z5oUzQaKVnTC",
    "nbgrader": {
     "cell_type": "code",
     "checksum": "b174ccf840789d568d5d4f7dfe79694c",
     "grade": true,
     "grade_id": "cell-b7cf9b533b92b55a",
     "locked": false,
     "points": 0,
     "schema_version": 3,
     "solution": true,
     "task": false
    },
    "outputId": "35f39a56-09b0-4a61-b015-5b869647d723"
   },
   "outputs": [
    {
     "name": "stdout",
     "output_type": "stream",
     "text": [
      " [1] 0.7565368 0.7748835 0.7749972 0.7796931 0.7877109 0.7884480 0.7938740\n",
      " [8] 0.7938888 0.7940270 0.7941988\n"
     ]
    },
    {
     "data": {
      "image/png": "[encoded data removed]",
      "text/plain": [
       "plot without title"
      ]
     },
     "metadata": {
      "image/png": {
       "height": 420,
       "width": 420
      }
     },
     "output_type": "display_data"
    }
   ],
   "source": [
    "# YOUR CODE HERE\n",
    "print(R2)\n",
    "plot(R2, type=\"l\")\n",
    "\n",
    "\n"
   ]
  },
  {
   "cell_type": "markdown",
   "metadata": {
    "colab_type": "text",
    "deletable": false,
    "editable": false,
    "id": "PUoia9wSg3um",
    "nbgrader": {
     "cell_type": "markdown",
     "checksum": "048e10083e1bb80de2a117a351f79fe4",
     "grade": false,
     "grade_id": "cell-79d101b5b03b4bc4",
     "locked": true,
     "schema_version": 3,
     "solution": false,
     "task": false
    }
   },
   "source": [
    "**NOTE:** Remember to submit this IDE activity after completion, and navigate to the next component to share your thoughts and reflections with your peers in the small group discussion forum."
   ]
  }
 ],
 "metadata": {
  "colab": {
   "collapsed_sections": [],
   "name": "LSE MNL M2U2 IDE Activity notebook (assessment)_v05_BL.ipynb",
   "provenance": []
  },
  "kernelspec": {
   "display_name": "R",
   "language": "R",
   "name": "ir"
  },
  "language_info": {
   "codemirror_mode": "r",
   "file_extension": ".r",
   "mimetype": "text/x-r-source",
   "name": "R",
   "pygments_lexer": "r",
   "version": "3.6.3"
  }
 },
 "nbformat": 4,
 "nbformat_minor": 1
}
