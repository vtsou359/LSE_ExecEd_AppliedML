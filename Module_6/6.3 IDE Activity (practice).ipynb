{
 "cells": [
  {
   "cell_type": "markdown",
   "metadata": {
    "colab_type": "text",
    "id": "m9HIZPjFdMNu"
   },
   "source": [
    "# LSE Machine Learning: Practical Applications\n",
    "## Module 6 Unit 1 IDE Activity (Practice)\n",
    "### In this IDE activity, tree-based methods are applied to the baseball player data set.\n",
    "As you work through this activity, you are required to read the text cells throughout the notebook and then run the code in the cells that follow. Be mindful of the syntax used to execute certain functionalities within R to produce the desired result. By completing this activity, you should gain the necessary practical skills to complete the IDE Activity (Assessment) that follows."
   ]
  },
  {
   "cell_type": "markdown",
   "metadata": {
    "colab_type": "text",
    "id": "UPcgxW3ldU98"
   },
   "source": [
    "## Section A: Execute a regression tree in R."
   ]
  },
  {
   "cell_type": "markdown",
   "metadata": {
    "colab_type": "text",
    "id": "Xxo2dxYRlMnM"
   },
   "source": [
    "### Step 1: Load and install the relevant R packages"
   ]
  },
  {
   "cell_type": "markdown",
   "metadata": {
    "colab_type": "text",
    "id": "3yE23_CYda_I"
   },
   "source": [
    "The first step is to load the relevant packages into R. In this example, the ```ISLR``` package for loading the data set and the ```tree``` package to create and demonstrate tree objects are used."
   ]
  },
  {
   "cell_type": "code",
   "execution_count": 3,
   "metadata": {
    "colab": {},
    "colab_type": "code",
    "id": "V2hzEkPEdMOB"
   },
   "outputs": [],
   "source": [
    "library(ISLR)\n",
    "library(tree)"
   ]
  },
  {
   "cell_type": "markdown",
   "metadata": {
    "colab_type": "text",
    "id": "CFJrggiDdiyJ"
   },
   "source": [
    "### Step 2: Load the data"
   ]
  },
  {
   "cell_type": "markdown",
   "metadata": {
    "colab_type": "text",
    "id": "Mk39L9S8dMOT"
   },
   "source": [
    "In this example, the hitters data set is used. This data set contains information about the salaries of baseball players, loaded from the ```ISLR``` package. To gain a basic understanding of the data used in this section, you can display the head and plot two of the elements that may play the biggest role in affecting the salary of baseball players."
   ]
  },
  {
   "cell_type": "code",
   "execution_count": 4,
   "metadata": {
    "colab": {},
    "colab_type": "code",
    "id": "N8PpdJVedMOY",
    "outputId": "6510818e-d709-4d0e-d25c-4f58b8835215"
   },
   "outputs": [
    {
     "data": {
      "text/html": [
       "<table class=\"dataframe\">\n",
       "<caption>A data.frame: 6 × 20</caption>\n",
       "<thead>\n",
       "\t<tr><th></th><th scope=col>AtBat</th><th scope=col>Hits</th><th scope=col>HmRun</th><th scope=col>Runs</th><th scope=col>RBI</th><th scope=col>Walks</th><th scope=col>Years</th><th scope=col>CAtBat</th><th scope=col>CHits</th><th scope=col>CHmRun</th><th scope=col>CRuns</th><th scope=col>CRBI</th><th scope=col>CWalks</th><th scope=col>League</th><th scope=col>Division</th><th scope=col>PutOuts</th><th scope=col>Assists</th><th scope=col>Errors</th><th scope=col>Salary</th><th scope=col>NewLeague</th></tr>\n",
       "\t<tr><th></th><th scope=col>&lt;int&gt;</th><th scope=col>&lt;int&gt;</th><th scope=col>&lt;int&gt;</th><th scope=col>&lt;int&gt;</th><th scope=col>&lt;int&gt;</th><th scope=col>&lt;int&gt;</th><th scope=col>&lt;int&gt;</th><th scope=col>&lt;int&gt;</th><th scope=col>&lt;int&gt;</th><th scope=col>&lt;int&gt;</th><th scope=col>&lt;int&gt;</th><th scope=col>&lt;int&gt;</th><th scope=col>&lt;int&gt;</th><th scope=col>&lt;fct&gt;</th><th scope=col>&lt;fct&gt;</th><th scope=col>&lt;int&gt;</th><th scope=col>&lt;int&gt;</th><th scope=col>&lt;int&gt;</th><th scope=col>&lt;dbl&gt;</th><th scope=col>&lt;fct&gt;</th></tr>\n",
       "</thead>\n",
       "<tbody>\n",
       "\t<tr><th scope=row>-Alan Ashby</th><td>315</td><td> 81</td><td> 7</td><td>24</td><td>38</td><td>39</td><td>14</td><td>3449</td><td> 835</td><td> 69</td><td>321</td><td>414</td><td>375</td><td>N</td><td>W</td><td>632</td><td> 43</td><td>10</td><td>475.0</td><td>N</td></tr>\n",
       "\t<tr><th scope=row>-Alvin Davis</th><td>479</td><td>130</td><td>18</td><td>66</td><td>72</td><td>76</td><td> 3</td><td>1624</td><td> 457</td><td> 63</td><td>224</td><td>266</td><td>263</td><td>A</td><td>W</td><td>880</td><td> 82</td><td>14</td><td>480.0</td><td>A</td></tr>\n",
       "\t<tr><th scope=row>-Andre Dawson</th><td>496</td><td>141</td><td>20</td><td>65</td><td>78</td><td>37</td><td>11</td><td>5628</td><td>1575</td><td>225</td><td>828</td><td>838</td><td>354</td><td>N</td><td>E</td><td>200</td><td> 11</td><td> 3</td><td>500.0</td><td>N</td></tr>\n",
       "\t<tr><th scope=row>-Andres Galarraga</th><td>321</td><td> 87</td><td>10</td><td>39</td><td>42</td><td>30</td><td> 2</td><td> 396</td><td> 101</td><td> 12</td><td> 48</td><td> 46</td><td> 33</td><td>N</td><td>E</td><td>805</td><td> 40</td><td> 4</td><td> 91.5</td><td>N</td></tr>\n",
       "\t<tr><th scope=row>-Alfredo Griffin</th><td>594</td><td>169</td><td> 4</td><td>74</td><td>51</td><td>35</td><td>11</td><td>4408</td><td>1133</td><td> 19</td><td>501</td><td>336</td><td>194</td><td>A</td><td>W</td><td>282</td><td>421</td><td>25</td><td>750.0</td><td>A</td></tr>\n",
       "\t<tr><th scope=row>-Al Newman</th><td>185</td><td> 37</td><td> 1</td><td>23</td><td> 8</td><td>21</td><td> 2</td><td> 214</td><td>  42</td><td>  1</td><td> 30</td><td>  9</td><td> 24</td><td>N</td><td>E</td><td> 76</td><td>127</td><td> 7</td><td> 70.0</td><td>A</td></tr>\n",
       "</tbody>\n",
       "</table>\n"
      ],
      "text/latex": [
       "A data.frame: 6 × 20\n",
       "\\begin{tabular}{r|llllllllllllllllllll}\n",
       "  & AtBat & Hits & HmRun & Runs & RBI & Walks & Years & CAtBat & CHits & CHmRun & CRuns & CRBI & CWalks & League & Division & PutOuts & Assists & Errors & Salary & NewLeague\\\\\n",
       "  & <int> & <int> & <int> & <int> & <int> & <int> & <int> & <int> & <int> & <int> & <int> & <int> & <int> & <fct> & <fct> & <int> & <int> & <int> & <dbl> & <fct>\\\\\n",
       "\\hline\n",
       "\t-Alan Ashby & 315 &  81 &  7 & 24 & 38 & 39 & 14 & 3449 &  835 &  69 & 321 & 414 & 375 & N & W & 632 &  43 & 10 & 475.0 & N\\\\\n",
       "\t-Alvin Davis & 479 & 130 & 18 & 66 & 72 & 76 &  3 & 1624 &  457 &  63 & 224 & 266 & 263 & A & W & 880 &  82 & 14 & 480.0 & A\\\\\n",
       "\t-Andre Dawson & 496 & 141 & 20 & 65 & 78 & 37 & 11 & 5628 & 1575 & 225 & 828 & 838 & 354 & N & E & 200 &  11 &  3 & 500.0 & N\\\\\n",
       "\t-Andres Galarraga & 321 &  87 & 10 & 39 & 42 & 30 &  2 &  396 &  101 &  12 &  48 &  46 &  33 & N & E & 805 &  40 &  4 &  91.5 & N\\\\\n",
       "\t-Alfredo Griffin & 594 & 169 &  4 & 74 & 51 & 35 & 11 & 4408 & 1133 &  19 & 501 & 336 & 194 & A & W & 282 & 421 & 25 & 750.0 & A\\\\\n",
       "\t-Al Newman & 185 &  37 &  1 & 23 &  8 & 21 &  2 &  214 &   42 &   1 &  30 &   9 &  24 & N & E &  76 & 127 &  7 &  70.0 & A\\\\\n",
       "\\end{tabular}\n"
      ],
      "text/markdown": [
       "\n",
       "A data.frame: 6 × 20\n",
       "\n",
       "| <!--/--> | AtBat &lt;int&gt; | Hits &lt;int&gt; | HmRun &lt;int&gt; | Runs &lt;int&gt; | RBI &lt;int&gt; | Walks &lt;int&gt; | Years &lt;int&gt; | CAtBat &lt;int&gt; | CHits &lt;int&gt; | CHmRun &lt;int&gt; | CRuns &lt;int&gt; | CRBI &lt;int&gt; | CWalks &lt;int&gt; | League &lt;fct&gt; | Division &lt;fct&gt; | PutOuts &lt;int&gt; | Assists &lt;int&gt; | Errors &lt;int&gt; | Salary &lt;dbl&gt; | NewLeague &lt;fct&gt; |\n",
       "|---|---|---|---|---|---|---|---|---|---|---|---|---|---|---|---|---|---|---|---|---|\n",
       "| -Alan Ashby | 315 |  81 |  7 | 24 | 38 | 39 | 14 | 3449 |  835 |  69 | 321 | 414 | 375 | N | W | 632 |  43 | 10 | 475.0 | N |\n",
       "| -Alvin Davis | 479 | 130 | 18 | 66 | 72 | 76 |  3 | 1624 |  457 |  63 | 224 | 266 | 263 | A | W | 880 |  82 | 14 | 480.0 | A |\n",
       "| -Andre Dawson | 496 | 141 | 20 | 65 | 78 | 37 | 11 | 5628 | 1575 | 225 | 828 | 838 | 354 | N | E | 200 |  11 |  3 | 500.0 | N |\n",
       "| -Andres Galarraga | 321 |  87 | 10 | 39 | 42 | 30 |  2 |  396 |  101 |  12 |  48 |  46 |  33 | N | E | 805 |  40 |  4 |  91.5 | N |\n",
       "| -Alfredo Griffin | 594 | 169 |  4 | 74 | 51 | 35 | 11 | 4408 | 1133 |  19 | 501 | 336 | 194 | A | W | 282 | 421 | 25 | 750.0 | A |\n",
       "| -Al Newman | 185 |  37 |  1 | 23 |  8 | 21 |  2 |  214 |   42 |   1 |  30 |   9 |  24 | N | E |  76 | 127 |  7 |  70.0 | A |\n",
       "\n"
      ],
      "text/plain": [
       "                  AtBat Hits HmRun Runs RBI Walks Years CAtBat CHits CHmRun\n",
       "-Alan Ashby       315    81   7    24   38  39    14    3449    835   69   \n",
       "-Alvin Davis      479   130  18    66   72  76     3    1624    457   63   \n",
       "-Andre Dawson     496   141  20    65   78  37    11    5628   1575  225   \n",
       "-Andres Galarraga 321    87  10    39   42  30     2     396    101   12   \n",
       "-Alfredo Griffin  594   169   4    74   51  35    11    4408   1133   19   \n",
       "-Al Newman        185    37   1    23    8  21     2     214     42    1   \n",
       "                  CRuns CRBI CWalks League Division PutOuts Assists Errors\n",
       "-Alan Ashby       321   414  375    N      W        632      43     10    \n",
       "-Alvin Davis      224   266  263    A      W        880      82     14    \n",
       "-Andre Dawson     828   838  354    N      E        200      11      3    \n",
       "-Andres Galarraga  48    46   33    N      E        805      40      4    \n",
       "-Alfredo Griffin  501   336  194    A      W        282     421     25    \n",
       "-Al Newman         30     9   24    N      E         76     127      7    \n",
       "                  Salary NewLeague\n",
       "-Alan Ashby       475.0  N        \n",
       "-Alvin Davis      480.0  A        \n",
       "-Andre Dawson     500.0  N        \n",
       "-Andres Galarraga  91.5  N        \n",
       "-Alfredo Griffin  750.0  A        \n",
       "-Al Newman         70.0  A        "
      ]
     },
     "metadata": {},
     "output_type": "display_data"
    }
   ],
   "source": [
    "hitters <- Hitters\n",
    "hitters = na.omit(hitters)\n",
    "head(hitters)"
   ]
  },
  {
   "cell_type": "markdown",
   "metadata": {
    "colab_type": "text",
    "id": "OWDZsu7JdMPG"
   },
   "source": [
    "Based on the data present in the sample, you can assume that the most important factor in determining a players' salary would be the number of years (experience) and the number of hits. You can begin by plotting these two elements. How would you segment the observations into regions of the predictor space?\n",
    "\n",
    "In the example below, a regression tree is used to arrange or segment observations into regions of a predictor space. "
   ]
  },
  {
   "cell_type": "markdown",
   "metadata": {
    "colab_type": "text",
    "id": "EsB0eKKhdz2k"
   },
   "source": [
    "Split the data into training and testing sets for later use."
   ]
  },
  {
   "cell_type": "code",
   "execution_count": 5,
   "metadata": {
    "colab": {},
    "colab_type": "code",
    "id": "XPAyTg91dMO1"
   },
   "outputs": [],
   "source": [
    "# Set the seed for reproducibility.\n",
    "set.seed(1234)\n",
    "\n",
    "# Create the training and testing data sets.\n",
    "train <-  sample(nrow(hitters), nrow(hitters) / 2)\n",
    "hitters.train <-  hitters[train, ]\n",
    "hitters.test <-  hitters[-train, ]"
   ]
  },
  {
   "cell_type": "code",
   "execution_count": 6,
   "metadata": {
    "colab": {},
    "colab_type": "code",
    "id": "H5szmU5VdMPR",
    "outputId": "a6eab55a-9aa4-47b2-805b-7753495183ac",
    "scrolled": true
   },
   "outputs": [
    {
     "data": {
      "image/png": "[encoded data removed]",
      "text/plain": [
       "plot without title"
      ]
     },
     "metadata": {
      "image/png": {
       "height": 420,
       "width": 420
      }
     },
     "output_type": "display_data"
    }
   ],
   "source": [
    "plot(hitters$Years,hitters$Hits)"
   ]
  },
  {
   "cell_type": "markdown",
   "metadata": {
    "colab_type": "text",
    "id": "JSKiuj9JdMPl"
   },
   "source": [
    "### Step 3: Fitting, interpreting, and pruning a regression tree\n",
    "#### Fitting a tree\n",
    "Create a simple regression tree by using the `tree` package. By doing this, a simple regression model is created that attempts to model the salary of a player using only the years of experience and hits per player for all the data points. Note that this makes use of the parameter pretty which was set to 0 to include the category names in the output.\n",
    "\n",
    "Display the summary of the element created, and plot the tree with text descriptions."
   ]
  },
  {
   "cell_type": "code",
   "execution_count": null,
   "metadata": {
    "colab": {},
    "colab_type": "code",
    "id": "PnCmZdAodMPp",
    "outputId": "dcd392de-0c3b-4b1b-ccd9-cc0591d2895c"
   },
   "outputs": [],
   "source": [
    "# Create tree.\n",
    "reg.tree <- tree(Salary ~ Years + Hits, data = hitters)\n",
    "\n",
    "# Display the summary.\n",
    "summary(reg.tree)\n",
    "\n",
    "# Plot the tree with text descriptions.\n",
    "plot(reg.tree)\n",
    "text(reg.tree, pretty = 0, cex = 1)"
   ]
  },
  {
   "cell_type": "markdown",
   "metadata": {
    "colab_type": "text",
    "id": "q3ap9mWcdMQB"
   },
   "source": [
    "This output can be interpreted as follows:\n",
    "- The most important factor in salary is years (>= 4.5 years of experience)\n",
    "- The second most important factor is hits.\n",
    "\n",
    "Consider the `reg.tree` object that was created in order to better understand the splits observed in the figure."
   ]
  },
  {
   "cell_type": "code",
   "execution_count": null,
   "metadata": {
    "colab": {},
    "colab_type": "code",
    "id": "q1SfnD-LdMQG",
    "outputId": "f20e94b0-7e9b-4a99-c7e3-f2bc1fcd5bf7"
   },
   "outputs": [],
   "source": [
    "reg.tree"
   ]
  },
  {
   "cell_type": "markdown",
   "metadata": {
    "colab_type": "text",
    "id": "AU7-IQ9wdMQg"
   },
   "source": [
    "The output seems promising, but the role of other factors remains unclear. Demonstrate the impact of these factors by including additional predictor variables and specifying the use of a subset."
   ]
  },
  {
   "cell_type": "code",
   "execution_count": null,
   "metadata": {
    "colab": {},
    "colab_type": "code",
    "id": "koF4DzJddMQq",
    "outputId": "2538b2d0-51ed-45e4-b35d-0867d846698e"
   },
   "outputs": [],
   "source": [
    "# Create a more complex tree model.\n",
    "tree.baseball <- tree(Salary ~ Hits + HmRun + Runs + RBI + Walks + Years + Errors, \n",
    "                       data = hitters.train)\n",
    "\n",
    "# Display the summary data of our model.\n",
    "summary(tree.baseball)"
   ]
  },
  {
   "cell_type": "markdown",
   "metadata": {
    "colab_type": "text",
    "id": "zyCnNizodMRD"
   },
   "source": [
    "Before looking at the text output, plot the tree with labels in order to get a better understanding of the object created."
   ]
  },
  {
   "cell_type": "code",
   "execution_count": null,
   "metadata": {
    "colab": {},
    "colab_type": "code",
    "id": "yIK0-axJdMRP",
    "outputId": "99aa34c6-accd-4585-ffc1-d813d4af3c7e"
   },
   "outputs": [],
   "source": [
    "# Plot the new tree with labels.\n",
    "plot(tree.baseball)\n",
    "text(tree.baseball, pretty = 0, cex = 0.8)\n",
    "\n",
    "# Display text overview.\n",
    "tree.baseball"
   ]
  },
  {
   "cell_type": "markdown",
   "metadata": {
    "colab_type": "text",
    "id": "zG_y9pkCdMRk"
   },
   "source": [
    "As you can see in the example above, decision trees are relatively simple to execute and the visual results can be easily explained. As noted previously, the accuracy of these models can be relatively low. Methods to improve prediction accuracy will be introduced in the next unit. For now, you can move on to evaluating model complexity and pruning trees."
   ]
  },
  {
   "cell_type": "markdown",
   "metadata": {
    "colab_type": "text",
    "id": "x67QHpdLet6g"
   },
   "source": [
    "### Pruning trees.\n",
    "Pruning is done to avoid overfitting of the data. The convention is to have a small tree and the one with the least cross-validated errors.\n",
    "\n",
    "First, remove a single node from the tree and print a summary."
   ]
  },
  {
   "cell_type": "code",
   "execution_count": null,
   "metadata": {
    "colab": {},
    "colab_type": "code",
    "id": "r8350HkRdMRt",
    "outputId": "2b0764ea-6724-4a82-82dd-5b293913dd9d"
   },
   "outputs": [],
   "source": [
    "# Create new object 'prune1.baseball' where we remove one node from the tree object and print the summary.\n",
    "prune1.baseball=prune.tree(tree.baseball,best=7)\n",
    "summary(prune1.baseball)\n",
    "\n",
    "# Plot with labels.\n",
    "plot(prune1.baseball)\n",
    "text(prune1.baseball, pretty = 0, cex = 0.8)\n",
    "\n",
    "# Display text overview.\n",
    "prune1.baseball"
   ]
  },
  {
   "cell_type": "markdown",
   "metadata": {
    "colab_type": "text",
    "id": "A5JtuGxfdMR9"
   },
   "source": [
    "You will observe that we now have a simplified decision tree. This is both easier to interpret and carries a lower risk of overfitting, which was the intention of the exercise. \n",
    "\n",
    "Next, determine how many nodes should be used. In order to determine the optimal tree size, apply cross-validation to prune the tree. Select the size of tree with the lowest observed MSE."
   ]
  },
  {
   "cell_type": "code",
   "execution_count": null,
   "metadata": {
    "colab": {},
    "colab_type": "code",
    "id": "l0RIdGPTdMSB"
   },
   "outputs": [],
   "source": [
    "# Use cv.tree to perform cross-validation.\n",
    "cv.baseball <- cv.tree(tree.baseball)\n",
    "plot(cv.baseball$size,cv.baseball$dev,type='b',xlab = \"Tree Size\", ylab = \"CV-MSE\")"
   ]
  },
  {
   "cell_type": "code",
   "execution_count": null,
   "metadata": {
    "colab": {},
    "colab_type": "code",
    "id": "9slaSbi3M6sa",
    "outputId": "28fe91be-2431-4785-9969-2033549c3867"
   },
   "outputs": [],
   "source": [
    "names(cv.baseball)\n",
    "cv.baseball"
   ]
  },
  {
   "cell_type": "markdown",
   "metadata": {
    "colab_type": "text",
    "id": "yq2pOB8sdMSc"
   },
   "source": [
    "In this case, the optimal number of terminal nodes has been found to be five, and the steps that were used to remove a single node can be repeated. In this case, the number of nodes will be an informed choice, rather than a random demonstration of how to perform the function. Note that you should expect the improvement in test MSE observed, which can be confirmed by testing the predictions with the unpruned tree and the pruned tree model against the observed test data."
   ]
  },
  {
   "cell_type": "code",
   "execution_count": null,
   "metadata": {
    "colab": {},
    "colab_type": "code",
    "id": "DMu1WCFBdMSN",
    "outputId": "9dec7521-8b08-4937-e7ea-f90c4de8510c"
   },
   "outputs": [],
   "source": [
    "# Prune the tree, display pruned tree.\n",
    "prune.baseball <- prune.tree(tree.baseball,best=5)\n",
    "plot(prune.baseball)\n",
    "text(prune.baseball,pretty=0)"
   ]
  },
  {
   "cell_type": "code",
   "execution_count": null,
   "metadata": {
    "colab": {},
    "colab_type": "code",
    "id": "daNHOgpDM6tH",
    "outputId": "22edd819-1f35-4b9d-9162-90c5a9afb007"
   },
   "outputs": [],
   "source": [
    "# Compute the test error rate using the unpruned tree.\n",
    "yhat_unpruned <- predict(tree.baseball, newdata = hitters[-train,])\n",
    "# True values on the testing data.\n",
    "t2 <- hitters[-train, \"Salary\"]\n",
    "# Compute the test MSE unpruned tree.\n",
    "mean((yhat_unpruned - t2) ^ 2)"
   ]
  },
  {
   "cell_type": "code",
   "execution_count": null,
   "metadata": {
    "colab": {},
    "colab_type": "code",
    "id": "BxYrUWEqM6tW",
    "outputId": "25e120d3-5c99-47ec-cb69-95b0117ccdc6"
   },
   "outputs": [],
   "source": [
    "# Compute the test error rate using the pruned tree. \n",
    "yhat_pruned <- predict(prune.baseball, newdata = hitters[-train,])\n",
    "# True values on the testing data.\n",
    "t3 <- hitters[-train, \"Salary\"]\n",
    "# Compute the test MSE pruned tree.\n",
    "mean((yhat_pruned - t3) ^ 2)"
   ]
  },
  {
   "cell_type": "markdown",
   "metadata": {
    "colab_type": "text",
    "id": "fB-MkBECf6kG"
   },
   "source": [
    "## Section B: Execute a classification tree in R."
   ]
  },
  {
   "cell_type": "markdown",
   "metadata": {
    "colab_type": "text",
    "id": "TFiuvQ-hfwAc"
   },
   "source": [
    "### Step 4: Fitting, interpreting, and pruning a classification tree"
   ]
  },
  {
   "cell_type": "markdown",
   "metadata": {
    "colab_type": "text",
    "id": "DIJe3kHVdMSe"
   },
   "source": [
    "In the next example, a classification model is created in order to demonstrate pruning based on errors observed.\n",
    "\n",
    "In order to fit the classification tree, the first step is to predict a categorical value. In this case, a \"High\" variable is created based on the observed 3rd quartile of salaries in the data set."
   ]
  },
  {
   "cell_type": "code",
   "execution_count": 7,
   "metadata": {
    "colab": {},
    "colab_type": "code",
    "id": "G-jRGHlPdMSh",
    "outputId": "52a965fa-e544-4f56-9d83-0414778ced88"
   },
   "outputs": [
    {
     "data": {
      "text/plain": [
       "   Min. 1st Qu.  Median    Mean 3rd Qu.    Max. \n",
       "   67.5   190.0   425.0   535.9   750.0  2460.0 "
      ]
     },
     "metadata": {},
     "output_type": "display_data"
    }
   ],
   "source": [
    "# Display the summary values of salary to determine a suitable \"high\" threshold.\n",
    "summary(hitters$Salary)"
   ]
  },
  {
   "cell_type": "markdown",
   "metadata": {
    "colab_type": "text",
    "id": "tU2ybbJJdMSr"
   },
   "source": [
    "Create the new variable based on the values observed for salary in the hitters data set, and merge it with the input data using the `data.frame` function. Next, create a classification tree with the aim to predict the _**High**_ variable, using all the variables except _**Salary**_ as input variables. Finally, print the summary, full text information, and plot the tree that was created using similar commands to those demonstrated in the previous section."
   ]
  },
  {
   "cell_type": "code",
   "execution_count": 8,
   "metadata": {
    "colab": {},
    "colab_type": "code",
    "id": "hhugeiw_dMSt",
    "outputId": "03b57c0a-8d64-46e4-cb0a-02cf9ccf073e"
   },
   "outputs": [
    {
     "data": {
      "text/plain": [
       "\n",
       "Classification tree:\n",
       "tree(formula = High ~ . - Salary, data = hitters)\n",
       "Variables actually used in tree construction:\n",
       " [1] \"CAtBat\"   \"AtBat\"    \"Walks\"    \"RBI\"      \"League\"   \"HmRun\"   \n",
       " [7] \"PutOuts\"  \"CRBI\"     \"Years\"    \"Division\"\n",
       "Number of terminal nodes:  16 \n",
       "Residual mean deviance:  0.2615 = 64.59 / 247 \n",
       "Misclassification error rate: 0.05703 = 15 / 263 "
      ]
     },
     "metadata": {},
     "output_type": "display_data"
    },
    {
     "data": {
      "text/plain": [
       "node), split, n, deviance, yval, (yprob)\n",
       "      * denotes terminal node\n",
       "\n",
       "  1) root 263 304.800 No ( 0.73384 0.26616 )  \n",
       "    2) CAtBat < 1967 134  35.970 No ( 0.97015 0.02985 )  \n",
       "      4) AtBat < 147 5   6.730 No ( 0.60000 0.40000 ) *\n",
       "      5) AtBat > 147 129  20.640 No ( 0.98450 0.01550 )  \n",
       "       10) Walks < 71.5 122   0.000 No ( 1.00000 0.00000 ) *\n",
       "       11) Walks > 71.5 7   8.376 No ( 0.71429 0.28571 ) *\n",
       "    3) CAtBat > 1967 129 178.800 Yes ( 0.48837 0.51163 )  \n",
       "      6) AtBat < 421.5 51  50.480 No ( 0.80392 0.19608 )  \n",
       "       12) RBI < 56.5 45  35.340 No ( 0.86667 0.13333 )  \n",
       "         24) League: A 21   0.000 No ( 1.00000 0.00000 ) *\n",
       "         25) League: N 24  26.990 No ( 0.75000 0.25000 )  \n",
       "           50) RBI < 26.5 7   9.561 Yes ( 0.42857 0.57143 ) *\n",
       "           51) RBI > 26.5 17  12.320 No ( 0.88235 0.11765 )  \n",
       "            102) HmRun < 8.5 12   0.000 No ( 1.00000 0.00000 ) *\n",
       "            103) HmRun > 8.5 5   6.730 No ( 0.60000 0.40000 ) *\n",
       "       13) RBI > 56.5 6   7.638 Yes ( 0.33333 0.66667 ) *\n",
       "      7) AtBat > 421.5 78  92.800 Yes ( 0.28205 0.71795 )  \n",
       "       14) PutOuts < 367.5 57  75.020 Yes ( 0.36842 0.63158 )  \n",
       "         28) CAtBat < 5964.5 46  63.420 Yes ( 0.45652 0.54348 )  \n",
       "           56) CRBI < 246.5 5   0.000 No ( 1.00000 0.00000 ) *\n",
       "           57) CRBI > 246.5 41  54.850 Yes ( 0.39024 0.60976 )  \n",
       "            114) Years < 9.5 24  24.560 Yes ( 0.20833 0.79167 )  \n",
       "              228) PutOuts < 274.5 13   0.000 Yes ( 0.00000 1.00000 ) *\n",
       "              229) PutOuts > 274.5 11  15.160 Yes ( 0.45455 0.54545 )  \n",
       "                458) Division: E 6   5.407 No ( 0.83333 0.16667 ) *\n",
       "                459) Division: W 5   0.000 Yes ( 0.00000 1.00000 ) *\n",
       "            115) Years > 9.5 17  22.070 No ( 0.64706 0.35294 )  \n",
       "              230) PutOuts < 253 11   6.702 No ( 0.90909 0.09091 ) *\n",
       "              231) PutOuts > 253 6   5.407 Yes ( 0.16667 0.83333 ) *\n",
       "         29) CAtBat > 5964.5 11   0.000 Yes ( 0.00000 1.00000 ) *\n",
       "       15) PutOuts > 367.5 21   8.041 Yes ( 0.04762 0.95238 ) *"
      ]
     },
     "metadata": {},
     "output_type": "display_data"
    },
    {
     "data": {
      "image/png": "[encoded data removed]",
      "text/plain": [
       "plot without title"
      ]
     },
     "metadata": {
      "image/png": {
       "height": 420,
       "width": 420
      }
     },
     "output_type": "display_data"
    }
   ],
   "source": [
    "# Create the new variable.\n",
    "High <- ifelse(hitters$Salary < 750, \"No\", \"Yes\")\n",
    "\n",
    "# Merge the new variable with the data.\n",
    "hitters <- data.frame(hitters, High)\n",
    "\n",
    "# Create a classification tree.\n",
    "ctree.baseball <- tree(High ~. -Salary, data = hitters)\n",
    "\n",
    "# Print the tree summary.\n",
    "summary(ctree.baseball)\n",
    "\n",
    "# Plot and label the tree.\n",
    "plot(ctree.baseball)\n",
    "text(ctree.baseball, pretty = 0, cex = 1)\n",
    "\n",
    "# Print the tree information.\n",
    "ctree.baseball"
   ]
  },
  {
   "cell_type": "markdown",
   "metadata": {
    "colab_type": "text",
    "id": "zdoa14dRdMS0"
   },
   "source": [
    "Observe that the new defining criteria (salary above a specified threshold) results in a completely different tree, and the type of tree is now a classification tree, rather than the regression tree shown in the previous example.\n",
    "\n",
    "To demonstrate pruning a tree based on errors observed, recreate the training and testing data sets and then recreate the tree using the training subset of the data. This tree can be used to make predictions on the testing data. Note that the type is specified \"class\" for classification tree. Finally, review the predicted values versus the observed values in a confusion matrix and calculate the error rate."
   ]
  },
  {
   "cell_type": "code",
   "execution_count": null,
   "metadata": {
    "colab": {},
    "colab_type": "code",
    "id": "-wJBe0PqdMS2"
   },
   "outputs": [],
   "source": [
    "# Recreate training and testing data sets.\n",
    "set.seed(9005)\n",
    "train <-  sample(nrow(hitters), nrow(hitters) / 2)\n",
    "hitters.train <-  hitters[train, ]\n",
    "hitters.test <-  hitters[-train, ]\n",
    "High.test <- High[-train]"
   ]
  },
  {
   "cell_type": "code",
   "execution_count": null,
   "metadata": {
    "colab": {},
    "colab_type": "code",
    "id": "53z-Zo3IdMS_",
    "outputId": "860b3e9d-757f-4dcd-bc50-8590d0541f60"
   },
   "outputs": [],
   "source": [
    "# Create tree using training data.\n",
    "ctree.baseball <- tree(High ~ . -Salary, data = hitters, subset=train)\n",
    "\n",
    "# Predict the class on the test data.\n",
    "ctree.pred <-predict(ctree.baseball, hitters.test, type=\"class\")\n",
    "\n",
    "# Print the confusion matrix and test error rate.\n",
    "table(ctree.pred, High.test)\n",
    "mean(ctree.pred!=High.test)"
   ]
  },
  {
   "cell_type": "markdown",
   "metadata": {
    "colab_type": "text",
    "id": "XUMIZJ4wdMTI"
   },
   "source": [
    "Consider whether pruning the tree might lead to improved results, as demonstrated earlier when the regression tree was built on the hitters data set. \n",
    "\n",
    "To determine the optimal level of tree complexity, cross-validation can be performed using the `cv.tree` function. This type of cross-validation is also referred to as cost complexity pruning, and is commonly used to select a sequence of trees to be considered. The argument `FUN=prune.misclass` is used to indicate that the cross-validation and pruning process should be guided by the classification error rate, and not deviance, which is the default of the `cv.tree`function."
   ]
  },
  {
   "cell_type": "code",
   "execution_count": null,
   "metadata": {
    "colab": {},
    "colab_type": "code",
    "id": "KHqPsL1JdMTM",
    "outputId": "62200b75-3d21-42be-f6b3-c9a6dfa5bfc6"
   },
   "outputs": [],
   "source": [
    "# Perform cross-validation to determine optimal tree complexity.\n",
    "cv.cbaseball <-cv.tree(ctree.baseball, FUN = prune.misclass)\n",
    "\n",
    "# Print summary values.\n",
    "names(cv.cbaseball)\n",
    "cv.cbaseball"
   ]
  },
  {
   "cell_type": "markdown",
   "metadata": {
    "colab_type": "text",
    "id": "EhAhOnNJdMTe"
   },
   "source": [
    "In the output above, the \"size\" relates the number of terminal nodes of each tree considered, while \"dev\" indicates the corresponding error rate, and \"k\" indicates the value of the cost complexity parameter. This corresponds to alpha in the theoretical description.\n",
    "\n",
    "Plot the output, the index of the tree with the minimum error, and the number of terminal nodes for this tree."
   ]
  },
  {
   "cell_type": "code",
   "execution_count": null,
   "metadata": {
    "colab": {},
    "colab_type": "code",
    "id": "u0-nOwoddMTh",
    "outputId": "31a25033-90ba-4572-87b5-04aeacc5b0d2"
   },
   "outputs": [],
   "source": [
    "par(mfrow=c(1,2))\n",
    "plot(cv.cbaseball$size, cv.cbaseball$dev, type=\"b\")\n",
    "plot(cv.cbaseball$k, cv.cbaseball$dev, type=\"b\")\n",
    "\n",
    "# Index of tree with minimum error.\n",
    "min.idx <- which.min(cv.cbaseball$dev)\n",
    "min.idx\n",
    "\n",
    "# Number of terminal nodes in that tree.\n",
    "min.idx.tn <- cv.cbaseball$size[min.idx]\n",
    "min.idx.tn"
   ]
  },
  {
   "cell_type": "markdown",
   "metadata": {
    "colab_type": "text",
    "id": "T-OfsZrIdMTw"
   },
   "source": [
    "Prune and plot the tree, and then use the new model to predict values for the test data. The decrease in test error rate indicates the impact of the pruning exercise."
   ]
  },
  {
   "cell_type": "code",
   "execution_count": null,
   "metadata": {
    "colab": {},
    "colab_type": "code",
    "id": "TzFy025kdMTy",
    "outputId": "9f1f5aec-a0f2-4516-e691-b496496ee0cd"
   },
   "outputs": [],
   "source": [
    "# Prune the tree to be the specified number of terminal nodes.\n",
    "prune.baseball <- prune.misclass(ctree.baseball, best=3)\n",
    "\n",
    "# Plot the pruned tree.\n",
    "par(mfrow=c(1,1))\n",
    "plot(prune.baseball)\n",
    "text(prune.baseball, pretty=0)"
   ]
  },
  {
   "cell_type": "code",
   "execution_count": null,
   "metadata": {
    "colab": {},
    "colab_type": "code",
    "id": "pI-srxKedMT9",
    "outputId": "05892650-7273-4be1-b2f0-e0a7f33e180d"
   },
   "outputs": [],
   "source": [
    "# Compute the test error rate using the pruned tree. \n",
    "ctree2.pred <-predict(prune.baseball, hitters.test, type=\"class\")\n",
    "\n",
    "# Print the confusion matrix and test error rate.\n",
    "table(ctree2.pred,High.test)\n",
    "mean(ctree2.pred!=High.test)"
   ]
  },
  {
   "cell_type": "markdown",
   "metadata": {
    "colab_type": "text",
    "id": "VG5hPaDudMUI"
   },
   "source": [
    "In the example, it is clear that a significant reduction in complexity and an improvement in error rate is generated. Remember that a simpler tree generalises better to unseen data and is easier to explain and interpret."
   ]
  },
  {
   "cell_type": "code",
   "execution_count": null,
   "metadata": {
    "colab": {},
    "colab_type": "code",
    "id": "G4866WWk90CR"
   },
   "outputs": [],
   "source": []
  }
 ],
 "metadata": {
  "colab": {
   "collapsed_sections": [],
   "name": "LSE MNL M6 U1 IDE Activity notebook (Practice)_v07_BL.ipynb",
   "provenance": []
  },
  "kernelspec": {
   "display_name": "R",
   "language": "R",
   "name": "ir"
  },
  "language_info": {
   "codemirror_mode": "r",
   "file_extension": ".r",
   "mimetype": "text/x-r-source",
   "name": "R",
   "pygments_lexer": "r",
   "version": "3.6.3"
  }
 },
 "nbformat": 4,
 "nbformat_minor": 1
}
