{
 "cells": [
  {
   "cell_type": "markdown",
   "metadata": {
    "colab_type": "text",
    "deletable": false,
    "editable": false,
    "id": "sstxo7jrwNPD",
    "nbgrader": {
     "cell_type": "markdown",
     "checksum": "d17ed8688acdfd3009279ed29c62f70b",
     "grade": false,
     "grade_id": "cell-a7c8487885a679c1",
     "locked": true,
     "schema_version": 3,
     "solution": false,
     "task": false
    }
   },
   "source": [
    "# LSE Machine Learning: Practical Applications\n",
    "\n",
    "## Module 6 Unit 1 IDE Activity (Assessment) | Execute tree-based methods in R\n",
    "\n",
    "### In this IDE notebook, you are required to complete some of the steps to build and interpret a classification tree in R.\n",
    "The instructions for this IDE activity are positioned as text cells before each step. As a result, you are required to read the text cells above a code cell, familiarise yourself with the required step, and then execute the step. You are encouraged to refer back to the practice IDE activity to familiarise yourself with the different steps and how they are executed in R."
   ]
  },
  {
   "cell_type": "markdown",
   "metadata": {
    "colab_type": "text",
    "deletable": false,
    "editable": false,
    "id": "2Y7IcXbpMcgs",
    "nbgrader": {
     "cell_type": "markdown",
     "checksum": "9febeb47661a81075a3eda4f632f5703",
     "grade": false,
     "grade_id": "cell-a9ddc374f474d815",
     "locked": true,
     "schema_version": 3,
     "solution": false,
     "task": false
    }
   },
   "source": [
    "1. Load the relevant packages.\n",
    "\n",
    "To fit the classification tree onto a data set in R, the following packages are loaded: rpart, rpart.plot, caret, ROCR, and tree."
   ]
  },
  {
   "cell_type": "code",
   "execution_count": 1,
   "metadata": {
    "colab": {},
    "colab_type": "code",
    "id": "FhN5j1YRwNPE",
    "outputId": "733524e8-1cd4-424b-d4ad-7b28d5208078"
   },
   "outputs": [
    {
     "name": "stderr",
     "output_type": "stream",
     "text": [
      "Loading required package: lattice\n",
      "\n",
      "Loading required package: ggplot2\n",
      "\n",
      "Warning message in system(\"timedatectl\", intern = TRUE):\n",
      "“running command 'timedatectl' had status 1”\n"
     ]
    }
   ],
   "source": [
    "library('rpart')\n",
    "library('rpart.plot')\n",
    "library('caret')\n",
    "library('ROCR')\n",
    "library('tree')"
   ]
  },
  {
   "cell_type": "markdown",
   "metadata": {
    "colab_type": "text",
    "deletable": false,
    "editable": false,
    "id": "EOJM1TY1wNPI",
    "nbgrader": {
     "cell_type": "markdown",
     "checksum": "7c7640ee9b3ab52aa4267b2b7cb743bb",
     "grade": false,
     "grade_id": "cell-2fcc55b00be748e8",
     "locked": true,
     "schema_version": 3,
     "solution": false,
     "task": false
    }
   },
   "source": [
    "2. Load the data, and analyse the data format and quality distribution."
   ]
  },
  {
   "cell_type": "code",
   "execution_count": 2,
   "metadata": {
    "colab": {},
    "colab_type": "code",
    "id": "GtYAI_26wNPJ",
    "outputId": "0f5ce8ea-a05b-4c8f-a023-8acd9b0d5890"
   },
   "outputs": [
    {
     "name": "stdout",
     "output_type": "stream",
     "text": [
      "'data.frame':\t4898 obs. of  12 variables:\n",
      " $ fixed.acidity       : num  7 6.3 8.1 7.2 7.2 8.1 6.2 7 6.3 8.1 ...\n",
      " $ volatile.acidity    : num  0.27 0.3 0.28 0.23 0.23 0.28 0.32 0.27 0.3 0.22 ...\n",
      " $ citric.acid         : num  0.36 0.34 0.4 0.32 0.32 0.4 0.16 0.36 0.34 0.43 ...\n",
      " $ residual.sugar      : num  20.7 1.6 6.9 8.5 8.5 6.9 7 20.7 1.6 1.5 ...\n",
      " $ chlorides           : num  0.045 0.049 0.05 0.058 0.058 0.05 0.045 0.045 0.049 0.044 ...\n",
      " $ free.sulfur.dioxide : num  45 14 30 47 47 30 30 45 14 28 ...\n",
      " $ total.sulfur.dioxide: num  170 132 97 186 186 97 136 170 132 129 ...\n",
      " $ density             : num  1.001 0.994 0.995 0.996 0.996 ...\n",
      " $ pH                  : num  3 3.3 3.26 3.19 3.19 3.26 3.18 3 3.3 3.22 ...\n",
      " $ sulphates           : num  0.45 0.49 0.44 0.4 0.4 0.44 0.47 0.45 0.49 0.45 ...\n",
      " $ alcohol             : num  8.8 9.5 10.1 9.9 9.9 10.1 9.6 8.8 9.5 11 ...\n",
      " $ quality             : int  6 6 6 6 6 6 6 6 6 6 ...\n"
     ]
    }
   ],
   "source": [
    "# Load the data set\n",
    "wine <- read.csv('winequality-white.csv', sep=';', stringsAsFactors=F)\n",
    "# Review the data set\n",
    "str(wine)\n"
   ]
  },
  {
   "cell_type": "code",
   "execution_count": 3,
   "metadata": {
    "colab": {},
    "colab_type": "code",
    "id": "zQw0KdbAwNPM",
    "outputId": "9a50f207-af1c-475f-b3e3-ea9cc5f09b85"
   },
   "outputs": [
    {
     "data": {
      "image/png": "[encoded data removed]",
      "text/plain": [
       "Plot with title “Histogram of wine$quality”"
      ]
     },
     "metadata": {
      "image/png": {
       "height": 420,
       "width": 420
      }
     },
     "output_type": "display_data"
    }
   ],
   "source": [
    "# Review the quality distribution\n",
    "hist(wine$quality)"
   ]
  },
  {
   "cell_type": "code",
   "execution_count": 4,
   "metadata": {
    "colab": {},
    "colab_type": "code",
    "id": "RN4TYFTDwNPP",
    "outputId": "989d2b70-c3f7-44f0-e5f8-e3cebfd21122"
   },
   "outputs": [
    {
     "data": {
      "text/html": [
       "0"
      ],
      "text/latex": [
       "0"
      ],
      "text/markdown": [
       "0"
      ],
      "text/plain": [
       "[1] 0"
      ]
     },
     "metadata": {},
     "output_type": "display_data"
    }
   ],
   "source": [
    "# Check for missing values\n",
    "sum(is.na(wine))"
   ]
  },
  {
   "cell_type": "markdown",
   "metadata": {
    "colab_type": "text",
    "deletable": false,
    "editable": false,
    "id": "K-tsddq-wNPR",
    "nbgrader": {
     "cell_type": "markdown",
     "checksum": "b9995ecc6a34c88a9c33aeb97483a74d",
     "grade": false,
     "grade_id": "cell-91c034f8dcc3832a",
     "locked": true,
     "schema_version": 3,
     "solution": false,
     "task": false
    }
   },
   "source": [
    "3. Create the binary classifier. Assign a value of \"high\" to wines with a quality rating of 6 and higher, and a value of \"low\" to wines with a quality rating of less than 6."
   ]
  },
  {
   "cell_type": "code",
   "execution_count": 5,
   "metadata": {
    "colab": {},
    "colab_type": "code",
    "id": "LAWp5Gb3wNPS",
    "outputId": "0d682ba2-1d26-428c-d364-e90450b82cf4"
   },
   "outputs": [
    {
     "data": {
      "text/plain": [
       "\n",
       "high  low \n",
       "3258 1640 "
      ]
     },
     "metadata": {},
     "output_type": "display_data"
    },
    {
     "data": {
      "text/html": [
       "<table class=\"dataframe\">\n",
       "<caption>A data.frame: 6 × 13</caption>\n",
       "<thead>\n",
       "\t<tr><th></th><th scope=col>fixed.acidity</th><th scope=col>volatile.acidity</th><th scope=col>citric.acid</th><th scope=col>residual.sugar</th><th scope=col>chlorides</th><th scope=col>free.sulfur.dioxide</th><th scope=col>total.sulfur.dioxide</th><th scope=col>density</th><th scope=col>pH</th><th scope=col>sulphates</th><th scope=col>alcohol</th><th scope=col>quality</th><th scope=col>qF</th></tr>\n",
       "\t<tr><th></th><th scope=col>&lt;dbl&gt;</th><th scope=col>&lt;dbl&gt;</th><th scope=col>&lt;dbl&gt;</th><th scope=col>&lt;dbl&gt;</th><th scope=col>&lt;dbl&gt;</th><th scope=col>&lt;dbl&gt;</th><th scope=col>&lt;dbl&gt;</th><th scope=col>&lt;dbl&gt;</th><th scope=col>&lt;dbl&gt;</th><th scope=col>&lt;dbl&gt;</th><th scope=col>&lt;dbl&gt;</th><th scope=col>&lt;int&gt;</th><th scope=col>&lt;fct&gt;</th></tr>\n",
       "</thead>\n",
       "<tbody>\n",
       "\t<tr><th scope=row>1</th><td>7.0</td><td>0.27</td><td>0.36</td><td>20.7</td><td>0.045</td><td>45</td><td>170</td><td>1.0010</td><td>3.00</td><td>0.45</td><td> 8.8</td><td>6</td><td>high</td></tr>\n",
       "\t<tr><th scope=row>2</th><td>6.3</td><td>0.30</td><td>0.34</td><td> 1.6</td><td>0.049</td><td>14</td><td>132</td><td>0.9940</td><td>3.30</td><td>0.49</td><td> 9.5</td><td>6</td><td>high</td></tr>\n",
       "\t<tr><th scope=row>3</th><td>8.1</td><td>0.28</td><td>0.40</td><td> 6.9</td><td>0.050</td><td>30</td><td> 97</td><td>0.9951</td><td>3.26</td><td>0.44</td><td>10.1</td><td>6</td><td>high</td></tr>\n",
       "\t<tr><th scope=row>4</th><td>7.2</td><td>0.23</td><td>0.32</td><td> 8.5</td><td>0.058</td><td>47</td><td>186</td><td>0.9956</td><td>3.19</td><td>0.40</td><td> 9.9</td><td>6</td><td>high</td></tr>\n",
       "\t<tr><th scope=row>5</th><td>7.2</td><td>0.23</td><td>0.32</td><td> 8.5</td><td>0.058</td><td>47</td><td>186</td><td>0.9956</td><td>3.19</td><td>0.40</td><td> 9.9</td><td>6</td><td>high</td></tr>\n",
       "\t<tr><th scope=row>6</th><td>8.1</td><td>0.28</td><td>0.40</td><td> 6.9</td><td>0.050</td><td>30</td><td> 97</td><td>0.9951</td><td>3.26</td><td>0.44</td><td>10.1</td><td>6</td><td>high</td></tr>\n",
       "</tbody>\n",
       "</table>\n"
      ],
      "text/latex": [
       "A data.frame: 6 × 13\n",
       "\\begin{tabular}{r|lllllllllllll}\n",
       "  & fixed.acidity & volatile.acidity & citric.acid & residual.sugar & chlorides & free.sulfur.dioxide & total.sulfur.dioxide & density & pH & sulphates & alcohol & quality & qF\\\\\n",
       "  & <dbl> & <dbl> & <dbl> & <dbl> & <dbl> & <dbl> & <dbl> & <dbl> & <dbl> & <dbl> & <dbl> & <int> & <fct>\\\\\n",
       "\\hline\n",
       "\t1 & 7.0 & 0.27 & 0.36 & 20.7 & 0.045 & 45 & 170 & 1.0010 & 3.00 & 0.45 &  8.8 & 6 & high\\\\\n",
       "\t2 & 6.3 & 0.30 & 0.34 &  1.6 & 0.049 & 14 & 132 & 0.9940 & 3.30 & 0.49 &  9.5 & 6 & high\\\\\n",
       "\t3 & 8.1 & 0.28 & 0.40 &  6.9 & 0.050 & 30 &  97 & 0.9951 & 3.26 & 0.44 & 10.1 & 6 & high\\\\\n",
       "\t4 & 7.2 & 0.23 & 0.32 &  8.5 & 0.058 & 47 & 186 & 0.9956 & 3.19 & 0.40 &  9.9 & 6 & high\\\\\n",
       "\t5 & 7.2 & 0.23 & 0.32 &  8.5 & 0.058 & 47 & 186 & 0.9956 & 3.19 & 0.40 &  9.9 & 6 & high\\\\\n",
       "\t6 & 8.1 & 0.28 & 0.40 &  6.9 & 0.050 & 30 &  97 & 0.9951 & 3.26 & 0.44 & 10.1 & 6 & high\\\\\n",
       "\\end{tabular}\n"
      ],
      "text/markdown": [
       "\n",
       "A data.frame: 6 × 13\n",
       "\n",
       "| <!--/--> | fixed.acidity &lt;dbl&gt; | volatile.acidity &lt;dbl&gt; | citric.acid &lt;dbl&gt; | residual.sugar &lt;dbl&gt; | chlorides &lt;dbl&gt; | free.sulfur.dioxide &lt;dbl&gt; | total.sulfur.dioxide &lt;dbl&gt; | density &lt;dbl&gt; | pH &lt;dbl&gt; | sulphates &lt;dbl&gt; | alcohol &lt;dbl&gt; | quality &lt;int&gt; | qF &lt;fct&gt; |\n",
       "|---|---|---|---|---|---|---|---|---|---|---|---|---|---|\n",
       "| 1 | 7.0 | 0.27 | 0.36 | 20.7 | 0.045 | 45 | 170 | 1.0010 | 3.00 | 0.45 |  8.8 | 6 | high |\n",
       "| 2 | 6.3 | 0.30 | 0.34 |  1.6 | 0.049 | 14 | 132 | 0.9940 | 3.30 | 0.49 |  9.5 | 6 | high |\n",
       "| 3 | 8.1 | 0.28 | 0.40 |  6.9 | 0.050 | 30 |  97 | 0.9951 | 3.26 | 0.44 | 10.1 | 6 | high |\n",
       "| 4 | 7.2 | 0.23 | 0.32 |  8.5 | 0.058 | 47 | 186 | 0.9956 | 3.19 | 0.40 |  9.9 | 6 | high |\n",
       "| 5 | 7.2 | 0.23 | 0.32 |  8.5 | 0.058 | 47 | 186 | 0.9956 | 3.19 | 0.40 |  9.9 | 6 | high |\n",
       "| 6 | 8.1 | 0.28 | 0.40 |  6.9 | 0.050 | 30 |  97 | 0.9951 | 3.26 | 0.44 | 10.1 | 6 | high |\n",
       "\n"
      ],
      "text/plain": [
       "  fixed.acidity volatile.acidity citric.acid residual.sugar chlorides\n",
       "1 7.0           0.27             0.36        20.7           0.045    \n",
       "2 6.3           0.30             0.34         1.6           0.049    \n",
       "3 8.1           0.28             0.40         6.9           0.050    \n",
       "4 7.2           0.23             0.32         8.5           0.058    \n",
       "5 7.2           0.23             0.32         8.5           0.058    \n",
       "6 8.1           0.28             0.40         6.9           0.050    \n",
       "  free.sulfur.dioxide total.sulfur.dioxide density pH   sulphates alcohol\n",
       "1 45                  170                  1.0010  3.00 0.45       8.8   \n",
       "2 14                  132                  0.9940  3.30 0.49       9.5   \n",
       "3 30                   97                  0.9951  3.26 0.44      10.1   \n",
       "4 47                  186                  0.9956  3.19 0.40       9.9   \n",
       "5 47                  186                  0.9956  3.19 0.40       9.9   \n",
       "6 30                   97                  0.9951  3.26 0.44      10.1   \n",
       "  quality qF  \n",
       "1 6       high\n",
       "2 6       high\n",
       "3 6       high\n",
       "4 6       high\n",
       "5 6       high\n",
       "6 6       high"
      ]
     },
     "metadata": {},
     "output_type": "display_data"
    }
   ],
   "source": [
    "# Create a quality factor variable where the quality is equal to or higher than 6\n",
    "qF <- ifelse(wine$quality >= 6, \"high\", \"low\")\n",
    "wine <- data.frame(wine, qF)\n",
    "table(wine$qF)\n",
    "head(wine)"
   ]
  },
  {
   "cell_type": "markdown",
   "metadata": {
    "colab_type": "text",
    "deletable": false,
    "editable": false,
    "id": "zvDXqAETNq-M",
    "nbgrader": {
     "cell_type": "markdown",
     "checksum": "22c8b22d265c985acd9efca517252f0d",
     "grade": false,
     "grade_id": "cell-9fb39c982067fa55",
     "locked": true,
     "schema_version": 3,
     "solution": false,
     "task": false
    }
   },
   "source": [
    "**Note:** The next section includes the steps of fitting, pruning, and interpreting the classification tree. You are required to create a tree object titled \"tree.winequality\", and aim to predict the variable created in Step 3 (qF). This variable should be predicted using all the available variables in the data set. Remember to exclude the original quality variable from the variables used in the prediction."
   ]
  },
  {
   "cell_type": "markdown",
   "metadata": {
    "colab_type": "text",
    "deletable": false,
    "editable": false,
    "id": "r_WtWutKwNPV",
    "nbgrader": {
     "cell_type": "markdown",
     "checksum": "c6a9a5145439fb2dbb1ae7811567a010",
     "grade": false,
     "grade_id": "cell-ed613b03a127f94c",
     "locked": true,
     "schema_version": 3,
     "solution": false,
     "task": false
    }
   },
   "source": [
    "4. Create the tree and print the summary."
   ]
  },
  {
   "cell_type": "code",
   "execution_count": 6,
   "metadata": {
    "colab": {},
    "colab_type": "code",
    "deletable": false,
    "id": "xgrR2l2SwNPV",
    "nbgrader": {
     "cell_type": "code",
     "checksum": "dca5805e683a770d5dd8aff0d3aeb699",
     "grade": true,
     "grade_id": "cell-16f5a7cee6d6f968",
     "locked": false,
     "points": 0,
     "schema_version": 3,
     "solution": true,
     "task": false
    },
    "outputId": "c7a45bdc-4f60-4f3a-bbb7-c9f57bdea2b7"
   },
   "outputs": [],
   "source": "tree.winequality <- tree(qF ~. -quality, data = wine)"
  },
  {
   "cell_type": "markdown",
   "metadata": {
    "colab_type": "text",
    "deletable": false,
    "editable": false,
    "id": "OUZaD6UWOjEi",
    "nbgrader": {
     "cell_type": "markdown",
     "checksum": "2ff15731b614cbada7e76c99dec15eb9",
     "grade": false,
     "grade_id": "cell-b3090e8a562066fe",
     "locked": true,
     "schema_version": 3,
     "solution": false,
     "task": false
    }
   },
   "source": [
    "5. By using the `plot` and `text` functions respectively, plot the tree and add text descriptions."
   ]
  },
  {
   "cell_type": "code",
   "execution_count": 7,
   "metadata": {
    "colab": {},
    "colab_type": "code",
    "deletable": false,
    "id": "NuDKJVrnwNPY",
    "nbgrader": {
     "cell_type": "code",
     "checksum": "e3c721b86ecc51ca503817cc8cb2d374",
     "grade": true,
     "grade_id": "cell-105fbabab679866e",
     "locked": false,
     "points": 0,
     "schema_version": 3,
     "solution": true,
     "task": false
    },
    "outputId": "3029af3b-dc2f-4d67-cd2e-375e708e5617"
   },
   "outputs": [
    {
     "data": {
      "image/png": "[encoded data removed]",
      "text/plain": [
       "plot without title"
      ]
     },
     "metadata": {
      "image/png": {
       "height": 420,
       "width": 420
      }
     },
     "output_type": "display_data"
    }
   ],
   "source": [
    "plot(tree.winequality)\n",
    "text(tree.winequality , pretty = 0, cex=1)"
   ]
  },
  {
   "cell_type": "markdown",
   "metadata": {
    "colab_type": "text",
    "deletable": false,
    "editable": false,
    "id": "YsajeIiBwNPe",
    "nbgrader": {
     "cell_type": "markdown",
     "checksum": "9cf2191213ace90a7fd585a2e436ec9e",
     "grade": false,
     "grade_id": "cell-0018a1c52e49b478",
     "locked": true,
     "schema_version": 3,
     "solution": false,
     "task": false
    }
   },
   "source": [
    "6. Split the data into training and testing data sets."
   ]
  },
  {
   "cell_type": "code",
   "execution_count": 8,
   "metadata": {
    "colab": {},
    "colab_type": "code",
    "id": "rUsST8BWwNPf"
   },
   "outputs": [],
   "source": [
    "# Split the data into training and testing data\n",
    "set.seed(100)\n",
    "train <-sample(1:nrow(wine), nrow(wine) / 2)\n",
    "wine.test <- wine[-train,]\n",
    "qF.test <-qF[-train]"
   ]
  },
  {
   "cell_type": "markdown",
   "metadata": {
    "colab_type": "text",
    "deletable": false,
    "editable": false,
    "id": "yOlyyhv_wNPh",
    "nbgrader": {
     "cell_type": "markdown",
     "checksum": "a2579c30c44bb772c5d23165e24dcd9f",
     "grade": false,
     "grade_id": "cell-9dbe7480901159cf",
     "locked": true,
     "schema_version": 3,
     "solution": false,
     "task": false
    }
   },
   "source": [
    "7. Rebuild the classification tree using the same command as in Step 4, but add an appropriate model parameter to include only the training data set.\n",
    "\n",
    "**Hint:** To set this model parameter, add the following command at the end of the code cell: `subset=train`."
   ]
  },
  {
   "cell_type": "code",
   "execution_count": 9,
   "metadata": {
    "colab": {},
    "colab_type": "code",
    "deletable": false,
    "id": "OeedktY2wNPh",
    "nbgrader": {
     "cell_type": "code",
     "checksum": "bc5916a7edc110482b4677aa00aa4996",
     "grade": true,
     "grade_id": "cell-9bc06eab67694722",
     "locked": false,
     "points": 0,
     "schema_version": 3,
     "solution": true,
     "task": false
    }
   },
   "outputs": [],
   "source": "tree.winequality <- tree(qF~.-quality, data = wine, subset=train)"
  },
  {
   "cell_type": "markdown",
   "metadata": {
    "colab_type": "text",
    "deletable": false,
    "editable": false,
    "id": "Y7JjwGW3PiBc",
    "nbgrader": {
     "cell_type": "markdown",
     "checksum": "c297194bd0eefe8e4ad54ac61b3a057d",
     "grade": false,
     "grade_id": "cell-cf67459dac91609a",
     "locked": true,
     "schema_version": 3,
     "solution": false,
     "task": false
    }
   },
   "source": [
    "8. Predict the class on the test data set and print the confusion matrix."
   ]
  },
  {
   "cell_type": "code",
   "execution_count": 10,
   "metadata": {
    "colab": {},
    "colab_type": "code",
    "id": "4nr87XtSwNPj",
    "outputId": "be306e3d-2fee-4285-b718-9c9148ce6840"
   },
   "outputs": [
    {
     "data": {
      "text/plain": [
       "         qF.test\n",
       "tree.pred high  low\n",
       "     high 1461  525\n",
       "     low   148  315"
      ]
     },
     "metadata": {},
     "output_type": "display_data"
    }
   ],
   "source": [
    "tree.pred <-predict(tree.winequality, wine.test, type=\"class\")\n",
    "table(tree.pred, qF.test)"
   ]
  },
  {
   "cell_type": "markdown",
   "metadata": {
    "colab_type": "text",
    "deletable": false,
    "editable": false,
    "id": "2uuiuskbPoIr",
    "nbgrader": {
     "cell_type": "markdown",
     "checksum": "3e7e1fb037916173b6f0f6706cca21ee",
     "grade": false,
     "grade_id": "cell-38e8017114475dc7",
     "locked": true,
     "schema_version": 3,
     "solution": false,
     "task": false
    }
   },
   "source": [
    "**Pause and reflect:** Can you identify how many incorrect classifications were made by the model?"
   ]
  },
  {
   "cell_type": "markdown",
   "metadata": {
    "colab_type": "text",
    "deletable": false,
    "editable": false,
    "id": "qeFUDuGqPyF3",
    "nbgrader": {
     "cell_type": "markdown",
     "checksum": "d4e9f7a9bede916f2ae8c5e420622e42",
     "grade": false,
     "grade_id": "cell-fbcc2b6211ff3b3c",
     "locked": true,
     "schema_version": 3,
     "solution": false,
     "task": false
    }
   },
   "source": [
    "9. Calculate the misclassification rate of the classification tree."
   ]
  },
  {
   "cell_type": "code",
   "execution_count": 11,
   "metadata": {
    "colab": {},
    "colab_type": "code",
    "id": "jlmCvLYkwNPo",
    "outputId": "671d0650-9b67-4968-e2d3-64be0d190887"
   },
   "outputs": [
    {
     "data": {
      "text/html": [
       "0.274806043282973"
      ],
      "text/latex": [
       "0.274806043282973"
      ],
      "text/markdown": [
       "0.274806043282973"
      ],
      "text/plain": [
       "[1] 0.274806"
      ]
     },
     "metadata": {},
     "output_type": "display_data"
    }
   ],
   "source": [
    "# Misclassification error\n",
    "mean(tree.pred!=qF.test)"
   ]
  },
  {
   "cell_type": "markdown",
   "metadata": {
    "colab_type": "text",
    "deletable": false,
    "editable": false,
    "id": "PpV_fFLWwNPs",
    "nbgrader": {
     "cell_type": "markdown",
     "checksum": "aad824612f2d70655e618206ede4b46b",
     "grade": false,
     "grade_id": "cell-0adff493e23b614f",
     "locked": true,
     "schema_version": 3,
     "solution": false,
     "task": false
    }
   },
   "source": [
    "10. Apply cross-validation to determine the optimal level of complexity for the classification tree. \n",
    "\n",
    "**Hint:** Use the `prune.misclass` method demonstrated in the practice IDE activity, and set the parameter to `FUN`."
   ]
  },
  {
   "cell_type": "code",
   "execution_count": 12,
   "metadata": {
    "colab": {},
    "colab_type": "code",
    "id": "xNejyaSVwNPs",
    "outputId": "37489e68-4986-4fb1-b266-26680543fd0a"
   },
   "outputs": [
    {
     "data": {
      "text/html": [
       "<style>\n",
       ".list-inline {list-style: none; margin:0; padding: 0}\n",
       ".list-inline>li {display: inline-block}\n",
       ".list-inline>li:not(:last-child)::after {content: \"\\00b7\"; padding: 0 .5ex}\n",
       "</style>\n",
       "<ol class=list-inline><li>'size'</li><li>'dev'</li><li>'k'</li><li>'method'</li></ol>\n"
      ],
      "text/latex": [
       "\\begin{enumerate*}\n",
       "\\item 'size'\n",
       "\\item 'dev'\n",
       "\\item 'k'\n",
       "\\item 'method'\n",
       "\\end{enumerate*}\n"
      ],
      "text/markdown": [
       "1. 'size'\n",
       "2. 'dev'\n",
       "3. 'k'\n",
       "4. 'method'\n",
       "\n",
       "\n"
      ],
      "text/plain": [
       "[1] \"size\"   \"dev\"    \"k\"      \"method\""
      ]
     },
     "metadata": {},
     "output_type": "display_data"
    },
    {
     "data": {
      "text/plain": [
       "$size\n",
       "[1] 5 4 3 1\n",
       "\n",
       "$dev\n",
       "[1] 646 646 661 799\n",
       "\n",
       "$k\n",
       "[1] -Inf  0.0 12.0 80.5\n",
       "\n",
       "$method\n",
       "[1] \"misclass\"\n",
       "\n",
       "attr(,\"class\")\n",
       "[1] \"prune\"         \"tree.sequence\""
      ]
     },
     "metadata": {},
     "output_type": "display_data"
    }
   ],
   "source": [
    "# Perform cross-validation\n",
    "set.seed(3)\n",
    "cv.wine <-cv.tree(tree.winequality, FUN = prune.misclass)\n",
    "names(cv.wine)\n",
    "cv.wine"
   ]
  },
  {
   "cell_type": "markdown",
   "metadata": {
    "colab_type": "text",
    "deletable": false,
    "editable": false,
    "id": "daSl8g2cQYmx",
    "nbgrader": {
     "cell_type": "markdown",
     "checksum": "1de4dbb9472321753519ea07a0b25e16",
     "grade": false,
     "grade_id": "cell-f9d22b5443457748",
     "locked": true,
     "schema_version": 3,
     "solution": false,
     "task": false
    }
   },
   "source": [
    "11. Plot the output."
   ]
  },
  {
   "cell_type": "code",
   "execution_count": 13,
   "metadata": {
    "colab": {},
    "colab_type": "code",
    "id": "QtW7D4rtwNPu",
    "outputId": "92404fbe-3614-476f-8fd3-b3b9c12c43ef"
   },
   "outputs": [
    {
     "data": {
      "image/png": "[encoded data removed]",
      "text/plain": [
       "plot without title"
      ]
     },
     "metadata": {
      "image/png": {
       "height": 420,
       "width": 420
      }
     },
     "output_type": "display_data"
    }
   ],
   "source": [
    "# Plot the output using graphs\n",
    "par(mfrow=c(1,2))\n",
    "plot(cv.wine$size, cv.wine$dev, type=\"b\")\n",
    "plot(cv.wine$k, cv.wine$dev, type=\"b\")"
   ]
  },
  {
   "cell_type": "markdown",
   "metadata": {
    "colab_type": "text",
    "deletable": false,
    "editable": false,
    "id": "SvtDS0zkQdda",
    "nbgrader": {
     "cell_type": "markdown",
     "checksum": "3eb4c976965a5b5d3d7340c086033fb8",
     "grade": false,
     "grade_id": "cell-470fab848ad0d3c1",
     "locked": true,
     "schema_version": 3,
     "solution": false,
     "task": false
    }
   },
   "source": [
    "12. Plot the pruned tree using the `plot` function, and add text to the tree using the `text` function.\n",
    "\n",
    "**Hint:** Set pretty to 0, and select 4 terminal nodes, because it is the simplest model with the lowest `dev` value."
   ]
  },
  {
   "cell_type": "code",
   "execution_count": 14,
   "metadata": {
    "colab": {},
    "colab_type": "code",
    "deletable": false,
    "id": "4Q7MZjRIwNPx",
    "nbgrader": {
     "cell_type": "code",
     "checksum": "a323f08c303ad6bfd405f9bdc9760f98",
     "grade": true,
     "grade_id": "cell-261ca90cbcb690ea",
     "locked": false,
     "points": 0,
     "schema_version": 3,
     "solution": true,
     "task": false
    }
   },
   "outputs": [
    {
     "data": {
      "image/png": "[encoded data removed]",
      "text/plain": [
       "plot without title"
      ]
     },
     "metadata": {
      "image/png": {
       "height": 420,
       "width": 420
      }
     },
     "output_type": "display_data"
    }
   ],
   "source": [
    "# Plot the pruned tree\n",
    "par(mfrow = c(1,1))\n",
    "prune.wine <- prune.misclass(tree.winequality, best=4)\n",
    "# YOUR CODE HERE\n",
    "plot(prune.wine)\n",
    "text(prune.wine , pretty = 0, cex=1)"
   ]
  },
  {
   "cell_type": "markdown",
   "metadata": {
    "colab_type": "text",
    "deletable": false,
    "editable": false,
    "id": "sC8h6rg0Q2-N",
    "nbgrader": {
     "cell_type": "markdown",
     "checksum": "c28c8145b0ef14aff274156488249933",
     "grade": false,
     "grade_id": "cell-5c9a687cea46e877",
     "locked": true,
     "schema_version": 3,
     "solution": false,
     "task": false
    }
   },
   "source": [
    "13. Generate the confusion matrix and calculate the misclassification error rate of the pruned tree."
   ]
  },
  {
   "cell_type": "code",
   "execution_count": 15,
   "metadata": {
    "colab": {},
    "colab_type": "code",
    "id": "FL0-J3kkwNPz"
   },
   "outputs": [
    {
     "data": {
      "text/plain": [
       "         qF.test\n",
       "tree.pred high  low\n",
       "     high 1461  525\n",
       "     low   148  315"
      ]
     },
     "metadata": {},
     "output_type": "display_data"
    },
    {
     "data": {
      "text/html": [
       "0.274806043282973"
      ],
      "text/latex": [
       "0.274806043282973"
      ],
      "text/markdown": [
       "0.274806043282973"
      ],
      "text/plain": [
       "[1] 0.274806"
      ]
     },
     "metadata": {},
     "output_type": "display_data"
    }
   ],
   "source": [
    "# Compute the test error rate using the pruned tree \n",
    "tree.pred <-predict(prune.wine, wine.test, type=\"class\")\n",
    "table(tree.pred,qF.test)\n",
    "mean(tree.pred!=qF.test)"
   ]
  },
  {
   "cell_type": "markdown",
   "metadata": {
    "colab_type": "text",
    "deletable": false,
    "editable": false,
    "id": "lAGuNj29RDX-",
    "nbgrader": {
     "cell_type": "markdown",
     "checksum": "f9dba4fde98886e355208f901022788e",
     "grade": false,
     "grade_id": "cell-9040e3431769b7e6",
     "locked": true,
     "schema_version": 3,
     "solution": false,
     "task": false
    }
   },
   "source": [
    "**Pause and reflect:** How does the performance of the pruned tree compare to the performance of the unpruned tree?"
   ]
  },
  {
   "cell_type": "markdown",
   "metadata": {
    "colab_type": "text",
    "deletable": false,
    "editable": false,
    "id": "Twq004cvwNP2",
    "nbgrader": {
     "cell_type": "markdown",
     "checksum": "ea84f43219143b47ff8e62a47ccdb8a8",
     "grade": false,
     "grade_id": "cell-6488fd7fb3970367",
     "locked": true,
     "schema_version": 3,
     "solution": false,
     "task": false
    }
   },
   "source": [
    "**Note:** Remember to submit this IDE notebook after completion and navigate back to this component on the Online Campus to share your thoughts and reflections with your peers in the class-wide discussion forum."
   ]
  }
 ],
 "metadata": {
  "colab": {
   "collapsed_sections": [],
   "name": "LSE MNL M6U1 IDE activity notebook (assessment)_v12_BL.ipynb",
   "provenance": []
  },
  "kernelspec": {
   "display_name": "R",
   "language": "R",
   "name": "ir"
  },
  "language_info": {
   "codemirror_mode": "r",
   "file_extension": ".r",
   "mimetype": "text/x-r-source",
   "name": "R",
   "pygments_lexer": "r",
   "version": "3.6.3"
  }
 },
 "nbformat": 4,
 "nbformat_minor": 4
}
