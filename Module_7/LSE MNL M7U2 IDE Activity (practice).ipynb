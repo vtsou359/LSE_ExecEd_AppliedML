{
 "cells": [
  {
   "cell_type": "markdown",
   "metadata": {
    "colab_type": "text",
    "id": "Z5_WaZWK6IVB"
   },
   "source": [
    "# LSE Machine Learning: Practical Applications\n",
    "## Module 7 Unit 2 IDE Activity (Practice) | Practise fitting a neural network\n",
    "### In this IDE activity, a neural network is trained to calculate predictions from the Boston housing data set.\n",
    "As you complete this activity, you are required to read the text cells throughout the notebook and then run the code in the cells that follow. Be mindful of the syntax used to execute certain functionalities within R to produce a desired result. In completing this activity, you should gain the necessary practical skills to complete the IDE Activity (Assessment) that follows."
   ]
  },
  {
   "cell_type": "markdown",
   "metadata": {
    "colab_type": "text",
    "id": "8TNOf4p97Q0z"
   },
   "source": [
    "### Step 1: Load and install the relevant R packages"
   ]
  },
  {
   "cell_type": "markdown",
   "metadata": {
    "colab_type": "text",
    "id": "RLI-gq-J59F7"
   },
   "source": [
    "The first step is to load the necessary packages. For this example, tidyverse and caret are used. Tidyverse is used for data manipulation, and caret is used for hyperparameter tuning and cross-validation."
   ]
  },
  {
   "cell_type": "code",
   "execution_count": 1,
   "metadata": {
    "colab": {},
    "colab_type": "code",
    "id": "bm-QmTmRhygr"
   },
   "outputs": [],
   "source": [
    "options(warn=-1)"
   ]
  },
  {
   "cell_type": "code",
   "execution_count": 2,
   "metadata": {
    "colab": {},
    "colab_type": "code",
    "id": "2G_LNRrOHfe5"
   },
   "outputs": [
    {
     "name": "stderr",
     "output_type": "stream",
     "text": [
      "── \u001b[1mAttaching packages\u001b[22m ─────────────────────────────────────── tidyverse 1.3.0 ──\n",
      "\n",
      "\u001b[32m✔\u001b[39m \u001b[34mggplot2\u001b[39m 3.3.0     \u001b[32m✔\u001b[39m \u001b[34mpurrr  \u001b[39m 0.3.4\n",
      "\u001b[32m✔\u001b[39m \u001b[34mtibble \u001b[39m 3.1.2     \u001b[32m✔\u001b[39m \u001b[34mdplyr  \u001b[39m 1.0.4\n",
      "\u001b[32m✔\u001b[39m \u001b[34mtidyr  \u001b[39m 1.1.3     \u001b[32m✔\u001b[39m \u001b[34mstringr\u001b[39m 1.4.0\n",
      "\u001b[32m✔\u001b[39m \u001b[34mreadr  \u001b[39m 1.4.0     \u001b[32m✔\u001b[39m \u001b[34mforcats\u001b[39m 0.5.1\n",
      "\n",
      "── \u001b[1mConflicts\u001b[22m ────────────────────────────────────────── tidyverse_conflicts() ──\n",
      "\u001b[31m✖\u001b[39m \u001b[34mdplyr\u001b[39m::\u001b[32mfilter()\u001b[39m masks \u001b[34mstats\u001b[39m::filter()\n",
      "\u001b[31m✖\u001b[39m \u001b[34mdplyr\u001b[39m::\u001b[32mlag()\u001b[39m    masks \u001b[34mstats\u001b[39m::lag()\n",
      "\n",
      "Loading required package: lattice\n",
      "\n",
      "\n",
      "Attaching package: ‘caret’\n",
      "\n",
      "\n",
      "The following object is masked from ‘package:purrr’:\n",
      "\n",
      "    lift\n",
      "\n",
      "\n"
     ]
    }
   ],
   "source": [
    "library(tidyverse)\n",
    "library(caret)\n",
    "set.seed(123)"
   ]
  },
  {
   "cell_type": "markdown",
   "metadata": {
    "colab_type": "text",
    "id": "y8MYMkr-8U1e"
   },
   "source": [
    "### Step 2: Load the data"
   ]
  },
  {
   "cell_type": "markdown",
   "metadata": {
    "colab_type": "text",
    "id": "BTUMr5fz59GM"
   },
   "source": [
    "Load the Boston Housing data set using the `read_csv()` function.\n",
    "\n"
   ]
  },
  {
   "cell_type": "code",
   "execution_count": 3,
   "metadata": {
    "colab": {},
    "colab_type": "code",
    "id": "wwRUcHtxHffS"
   },
   "outputs": [
    {
     "name": "stderr",
     "output_type": "stream",
     "text": [
      "\n",
      "\u001b[36m──\u001b[39m \u001b[1m\u001b[1mColumn specification\u001b[1m\u001b[22m \u001b[36m────────────────────────────────────────────────────────\u001b[39m\n",
      "cols(\n",
      "  crim = \u001b[32mcol_double()\u001b[39m,\n",
      "  zn = \u001b[32mcol_double()\u001b[39m,\n",
      "  indus = \u001b[32mcol_double()\u001b[39m,\n",
      "  chas = \u001b[32mcol_double()\u001b[39m,\n",
      "  nox = \u001b[32mcol_double()\u001b[39m,\n",
      "  rm = \u001b[32mcol_double()\u001b[39m,\n",
      "  age = \u001b[32mcol_double()\u001b[39m,\n",
      "  dis = \u001b[32mcol_double()\u001b[39m,\n",
      "  rad = \u001b[32mcol_double()\u001b[39m,\n",
      "  tax = \u001b[32mcol_double()\u001b[39m,\n",
      "  ptratio = \u001b[32mcol_double()\u001b[39m,\n",
      "  lstat = \u001b[32mcol_double()\u001b[39m,\n",
      "  medv = \u001b[32mcol_double()\u001b[39m\n",
      ")\n",
      "\n",
      "\n"
     ]
    }
   ],
   "source": [
    "data <- read_csv(\"BostonHousing.csv\")"
   ]
  },
  {
   "cell_type": "markdown",
   "metadata": {
    "colab_type": "text",
    "id": "9OUNnPMrHffg"
   },
   "source": [
    "Once the data has been loaded into R, it must be split into training and test sets. To do this, use the `createDataPartition()` function, splitting the data into 70% training data and 30% test data."
   ]
  },
  {
   "cell_type": "code",
   "execution_count": 4,
   "metadata": {
    "colab": {},
    "colab_type": "code",
    "id": "p8cE_P91Hffk"
   },
   "outputs": [],
   "source": [
    "trainIndex <- createDataPartition(data$medv, p=.7, list=F)\n",
    "dataTrain <- data[trainIndex, ]\n",
    "dataTest <- data[-trainIndex, ]"
   ]
  },
  {
   "cell_type": "markdown",
   "metadata": {
    "colab_type": "text",
    "id": "rocQ9qjmHffx"
   },
   "source": [
    "Fit a regression model on the training data set."
   ]
  },
  {
   "cell_type": "code",
   "execution_count": 5,
   "metadata": {
    "colab": {},
    "colab_type": "code",
    "id": "K_-MjoSVHff1"
   },
   "outputs": [],
   "source": [
    "trainReg <- lm(medv ~ ., data = dataTrain)"
   ]
  },
  {
   "cell_type": "markdown",
   "metadata": {
    "colab_type": "text",
    "id": "nAXF5G4vHfgP"
   },
   "source": [
    "Once the regression model is fitted onto the data set, use it to calculate a prediction on the test data set."
   ]
  },
  {
   "cell_type": "code",
   "execution_count": 6,
   "metadata": {
    "colab": {},
    "colab_type": "code",
    "id": "5CHy-FlVHfga"
   },
   "outputs": [],
   "source": [
    "testRegPred <- predict(trainReg, newdata = dataTest)"
   ]
  },
  {
   "cell_type": "markdown",
   "metadata": {
    "colab_type": "text",
    "id": "bpbX2mP2Hfg6"
   },
   "source": [
    "From there, the RMSE can now be calculated."
   ]
  },
  {
   "cell_type": "code",
   "execution_count": 7,
   "metadata": {
    "colab": {},
    "colab_type": "code",
    "id": "4pzUo5IZHfhA"
   },
   "outputs": [
    {
     "data": {
      "text/html": [
       "4.58500644757175"
      ],
      "text/latex": [
       "4.58500644757175"
      ],
      "text/markdown": [
       "4.58500644757175"
      ],
      "text/plain": [
       "[1] 4.585006"
      ]
     },
     "metadata": {},
     "output_type": "display_data"
    }
   ],
   "source": [
    "regRMSE <- sqrt(mean((testRegPred - dataTest$medv)^2))\n",
    "regRMSE"
   ]
  },
  {
   "cell_type": "markdown",
   "metadata": {
    "colab_type": "text",
    "id": "DdAzRYNtIkna"
   },
   "source": [
    "This RMSE can later be compared to the RMSE value of the neural network."
   ]
  },
  {
   "cell_type": "markdown",
   "metadata": {
    "colab_type": "text",
    "id": "3gfYnUVNUg13"
   },
   "source": [
    "### Step 3: Set up the model parameters"
   ]
  },
  {
   "cell_type": "markdown",
   "metadata": {
    "colab_type": "text",
    "id": "fv77bsCLHfhP"
   },
   "source": [
    "Once the data is loaded and split, the control for the cross-validation process is set up. For this example, cross-validation with ten folds is used."
   ]
  },
  {
   "cell_type": "code",
   "execution_count": 8,
   "metadata": {
    "colab": {},
    "colab_type": "code",
    "id": "49jqM4-5HfhW"
   },
   "outputs": [],
   "source": [
    "tuneCtrl <- trainControl(method = \"cv\", n = 10)"
   ]
  },
  {
   "cell_type": "markdown",
   "metadata": {
    "colab_type": "text",
    "id": "APqcowneHfhi"
   },
   "source": [
    "Next, set up the grid parameters of the neural network. For the grid of hyperparameters, neural networks with a single hidden layer, in addition to the layers of the inputs and the output of 6, 8, 10, 12, or 24 nodes, are tested. The dropout rate is also varied."
   ]
  },
  {
   "cell_type": "code",
   "execution_count": 9,
   "metadata": {
    "colab": {},
    "colab_type": "code",
    "id": "lp5SHswXHfhm"
   },
   "outputs": [],
   "source": [
    "nnetGrid <- expand.grid(size = c(6, 8, 10, 12, 24),\n",
    "                        decay = c(0.01, 0.001, 0.1))"
   ]
  },
  {
   "cell_type": "markdown",
   "metadata": {
    "colab_type": "text",
    "id": "dtjfTgy9JF1T"
   },
   "source": [
    "The components can now be used to train the model."
   ]
  },
  {
   "cell_type": "markdown",
   "metadata": {
    "colab_type": "text",
    "id": "uwKstCttJH_Y"
   },
   "source": [
    "### Step 4: Train the model"
   ]
  },
  {
   "cell_type": "markdown",
   "metadata": {
    "colab_type": "text",
    "id": "oSlrWSsjHfh5"
   },
   "source": [
    "Train the model to estimate the median value, using RMSE as the performance metric. Remember, the linout parameter needs to be equal to 1, or true, as this is a regression problem and not a classification problem. Medv is the predicted variable. The method that is used is the `nnet` function, and RMSE as the metric to minimise. TuneGrid and trControl are the objects created in the previous step."
   ]
  },
  {
   "cell_type": "code",
   "execution_count": 10,
   "metadata": {
    "colab": {},
    "colab_type": "code",
    "id": "QJSqfgCHHfiA"
   },
   "outputs": [],
   "source": [
    "nnetFit <- train(medv ~ ., \n",
    "                data = dataTrain,\n",
    "                method = \"nnet\",\n",
    "                metric = \"RMSE\",\n",
    "                tuneGrid = nnetGrid,\n",
    "                trControl = tuneCtrl,\n",
    "                maxit = 200,\n",
    "                linout = TRUE, \n",
    "                trace = FALSE)"
   ]
  },
  {
   "cell_type": "markdown",
   "metadata": {
    "colab_type": "text",
    "id": "VlUWsNA-ZFWk"
   },
   "source": [
    "The model has now been trained and can be fitted onto the test data set."
   ]
  },
  {
   "cell_type": "markdown",
   "metadata": {
    "colab_type": "text",
    "id": "r_0sidGEJXV-"
   },
   "source": [
    "### Step 5: Construct a response to the problem"
   ]
  },
  {
   "cell_type": "markdown",
   "metadata": {
    "colab_type": "text",
    "id": "MLsV1SyLHfiW"
   },
   "source": [
    "With the model fitted, the output can be predicted on the test data and RMSE calculated. This is done using the `predict()` function and then calculating the square root of the average difference between the predicted value and the actual values squared."
   ]
  },
  {
   "cell_type": "code",
   "execution_count": 11,
   "metadata": {
    "colab": {},
    "colab_type": "code",
    "id": "oQB_4j8vHfib"
   },
   "outputs": [],
   "source": [
    "nnetPredict <- predict(nnetFit, newdata = dataTest)\n",
    "nnetRMSE <- sqrt(mean((nnetPredict - dataTest$medv)^2))"
   ]
  },
  {
   "cell_type": "markdown",
   "metadata": {
    "colab_type": "text",
    "id": "bxmndn-x0Z9q"
   },
   "source": [
    "Compare regression RMSE fitted earlier and the neural network RMSE."
   ]
  },
  {
   "cell_type": "code",
   "execution_count": 12,
   "metadata": {
    "colab": {},
    "colab_type": "code",
    "id": "5mg8hFr10Z9r"
   },
   "outputs": [
    {
     "data": {
      "text/html": [
       "4.58500644757175"
      ],
      "text/latex": [
       "4.58500644757175"
      ],
      "text/markdown": [
       "4.58500644757175"
      ],
      "text/plain": [
       "[1] 4.585006"
      ]
     },
     "metadata": {},
     "output_type": "display_data"
    },
    {
     "data": {
      "text/html": [
       "3.43255989834805"
      ],
      "text/latex": [
       "3.43255989834805"
      ],
      "text/markdown": [
       "3.43255989834805"
      ],
      "text/plain": [
       "[1] 3.43256"
      ]
     },
     "metadata": {},
     "output_type": "display_data"
    }
   ],
   "source": [
    "regRMSE\n",
    "nnetRMSE"
   ]
  },
  {
   "cell_type": "markdown",
   "metadata": {
    "colab_type": "text",
    "id": "Oa_JuH6VJiCQ"
   },
   "source": [
    "The neural network performs better than the regression model, as indicated by the smaller RMSE value. This is because a neural network model, unlike the linear regression model, provides a flexible model that allows for highly non-linear and complex associations between the inputs and output. This is typically the case in reality: Very few things are actually linear and additive. Neural networks are therefore more suitable for approximating how things really are."
   ]
  }
 ],
 "metadata": {
  "colab": {
   "collapsed_sections": [],
   "name": "LSE MNL M7 U2 IDE Activity notebook (practice)_v12_gg.ipynb",
   "provenance": []
  },
  "kernelspec": {
   "display_name": "LSE-MNL-R",
   "language": "R",
   "name": "lse-mnl-r"
  },
  "language_info": {
   "codemirror_mode": "r",
   "file_extension": ".r",
   "mimetype": "text/x-r-source",
   "name": "R",
   "pygments_lexer": "r",
   "version": "3.6.3"
  }
 },
 "nbformat": 4,
 "nbformat_minor": 1
}
