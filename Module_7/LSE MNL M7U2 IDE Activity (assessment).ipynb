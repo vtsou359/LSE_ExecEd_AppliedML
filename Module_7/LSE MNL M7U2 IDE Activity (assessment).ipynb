{
 "cells": [
  {
   "cell_type": "markdown",
   "metadata": {
    "colab_type": "text",
    "id": "M3rux0ey1Y91"
   },
   "source": [
    "# LSE Machine Learning: Practical Applications\n",
    "\n",
    "## Module 7 Unit 2 IDE Activity (Assessment) | Fit a neural network onto a suitable data set \n",
    "### In this activity, you are required to follow the different steps introduced in the practice activity to fit a neural network onto a suitable data set in R to calculate a prediction.\n",
    "The instructions for this IDE activity are positioned throughout this notebook as text cells before each step. As a result, you are required to first read the text cells above a code cell, familiarise yourself with the required step, and execute the step. You are encouraged to refer back to the practice IDE activity to familiarise yourself with the steps."
   ]
  },
  {
   "cell_type": "markdown",
   "metadata": {
    "colab_type": "text",
    "id": "FRd2d9Y9hVcF"
   },
   "source": [
    "1. Load the relevant packages.\n",
    "\n",
    "The packages you will need to load include tidyverse and caret."
   ]
  },
  {
   "cell_type": "code",
   "execution_count": 1,
   "metadata": {
    "colab": {},
    "colab_type": "code",
    "id": "ICWlV6KV1Y97",
    "outputId": "14a865cf-c100-4524-cee3-f46a4d7d1389"
   },
   "outputs": [
    {
     "name": "stderr",
     "output_type": "stream",
     "text": [
      "Warning message in system(\"timedatectl\", intern = TRUE):\n",
      "“running command 'timedatectl' had status 1”\n",
      "── \u001B[1mAttaching packages\u001B[22m ─────────────────────────────────────── tidyverse 1.3.0 ──\n",
      "\n",
      "\u001B[32m✔\u001B[39m \u001B[34mggplot2\u001B[39m 3.3.0     \u001B[32m✔\u001B[39m \u001B[34mpurrr  \u001B[39m 0.3.4\n",
      "\u001B[32m✔\u001B[39m \u001B[34mtibble \u001B[39m 3.1.2     \u001B[32m✔\u001B[39m \u001B[34mdplyr  \u001B[39m 1.0.4\n",
      "\u001B[32m✔\u001B[39m \u001B[34mtidyr  \u001B[39m 1.1.3     \u001B[32m✔\u001B[39m \u001B[34mstringr\u001B[39m 1.4.0\n",
      "\u001B[32m✔\u001B[39m \u001B[34mreadr  \u001B[39m 1.4.0     \u001B[32m✔\u001B[39m \u001B[34mforcats\u001B[39m 0.5.1\n",
      "\n",
      "── \u001B[1mConflicts\u001B[22m ────────────────────────────────────────── tidyverse_conflicts() ──\n",
      "\u001B[31m✖\u001B[39m \u001B[34mdplyr\u001B[39m::\u001B[32mfilter()\u001B[39m masks \u001B[34mstats\u001B[39m::filter()\n",
      "\u001B[31m✖\u001B[39m \u001B[34mdplyr\u001B[39m::\u001B[32mlag()\u001B[39m    masks \u001B[34mstats\u001B[39m::lag()\n",
      "\n",
      "Loading required package: lattice\n",
      "\n",
      "\n",
      "Attaching package: ‘caret’\n",
      "\n",
      "\n",
      "The following object is masked from ‘package:purrr’:\n",
      "\n",
      "    lift\n",
      "\n",
      "\n"
     ]
    }
   ],
   "source": [
    "# Load the required packages and set the parameters\n",
    "library(tidyverse)\n",
    "library(caret)\n",
    "set.seed(1)"
   ]
  },
  {
   "cell_type": "markdown",
   "metadata": {
    "colab_type": "text",
    "id": "cE0WdvQWhpBm"
   },
   "source": [
    "2. Load the data set."
   ]
  },
  {
   "cell_type": "code",
   "execution_count": 2,
   "metadata": {
    "colab": {},
    "colab_type": "code",
    "id": "a-NCdcO41Y-M",
    "outputId": "87401ef6-a816-4435-c4e8-d5eb0579127e"
   },
   "outputs": [
    {
     "name": "stderr",
     "output_type": "stream",
     "text": [
      "\n",
      "\u001B[36m──\u001B[39m \u001B[1m\u001B[1mColumn specification\u001B[1m\u001B[22m \u001B[36m────────────────────────────────────────────────────────\u001B[39m\n",
      "cols(\n",
      "  GENDER = \u001B[32mcol_double()\u001B[39m,\n",
      "  AGE = \u001B[32mcol_double()\u001B[39m,\n",
      "  MARSTAT = \u001B[32mcol_double()\u001B[39m,\n",
      "  EDUCATION = \u001B[32mcol_double()\u001B[39m,\n",
      "  ETHNICITY = \u001B[32mcol_double()\u001B[39m,\n",
      "  SMARSTAT = \u001B[32mcol_double()\u001B[39m,\n",
      "  SGENDER = \u001B[32mcol_double()\u001B[39m,\n",
      "  SAGE = \u001B[32mcol_double()\u001B[39m,\n",
      "  SEDUCATION = \u001B[32mcol_double()\u001B[39m,\n",
      "  NUMHH = \u001B[32mcol_double()\u001B[39m,\n",
      "  INCOME = \u001B[32mcol_double()\u001B[39m,\n",
      "  TOTINCOME = \u001B[32mcol_double()\u001B[39m,\n",
      "  CHARITY = \u001B[32mcol_double()\u001B[39m,\n",
      "  FACE = \u001B[32mcol_double()\u001B[39m,\n",
      "  FACECVLIFEPOLICIES = \u001B[32mcol_double()\u001B[39m,\n",
      "  CASHCVLIFEPOLICIES = \u001B[32mcol_double()\u001B[39m,\n",
      "  BORROWCVLIFEPOL = \u001B[32mcol_double()\u001B[39m,\n",
      "  NETVALUE = \u001B[32mcol_double()\u001B[39m\n",
      ")\n",
      "\n",
      "\n"
     ]
    }
   ],
   "source": [
    "# Load the data\n",
    "data <- read_csv(\"Term Life Insurance.csv\")"
   ]
  },
  {
   "cell_type": "markdown",
   "metadata": {
    "colab_type": "text",
    "id": "85kX2bEk1Y-v"
   },
   "source": [
    "3. Split the data into training and testing sets using the `createDataPartion` function. The training set should consist of 70% of the data. \n",
    "\n",
    "**Hint:** Create a training index, `trainIndex`, then create the subsets, `dataTrain` and `dataTest`, for later use."
   ]
  },
  {
   "cell_type": "code",
   "execution_count": 3,
   "metadata": {
    "colab": {},
    "colab_type": "code",
    "deletable": false,
    "id": "LzySRAHU1Y-x",
    "nbgrader": {
     "cell_type": "code",
     "checksum": "daa461adbc40f76f669efd1e6c5f05d1",
     "grade": true,
     "grade_id": "cell-0e067ec6007ca2a4",
     "locked": false,
     "points": 0,
     "schema_version": 3,
     "solution": true,
     "task": false
    }
   },
   "outputs": [],
   "source": [
    "trainIndex <- createDataPartition(data$FACE, p=.7, list=F)\n",
    "dataTrain <- data[trainIndex, ]\n",
    "dataTest <- data[-trainIndex, ]"
   ]
  },
  {
   "cell_type": "markdown",
   "metadata": {
    "colab_type": "text",
    "id": "LYtDdFMV1Y--"
   },
   "source": [
    "4. Fit the regression model onto the training data, and use the model to calculate a prediction on the test data.\n",
    "\n",
    "**Hint:** Use the `lm` function, and create a model called `trainReg` to predict the _**face**_ value using all the other variables as input variables. Next, use the `predict` function to create the `testRegPred` variable, to predict the `dataTest` subset."
   ]
  },
  {
   "cell_type": "code",
   "execution_count": 4,
   "metadata": {
    "colab": {},
    "colab_type": "code",
    "deletable": false,
    "id": "XGF5uh3u1Y_B",
    "nbgrader": {
     "cell_type": "code",
     "checksum": "fe06c07cfd7de351b942a936dd9ab414",
     "grade": true,
     "grade_id": "cell-82c5e1463304cb9e",
     "locked": false,
     "points": 0,
     "schema_version": 3,
     "solution": true,
     "task": false
    }
   },
   "outputs": [],
   "source": [
    "trainReg <- lm(FACE ~ ., data = dataTrain)\n",
    "testRegPred <- predict(trainReg, newdata = dataTest)"
   ]
  },
  {
   "cell_type": "markdown",
   "metadata": {
    "colab_type": "text",
    "id": "a0x4JfPu1Y_W"
   },
   "source": [
    "5. Calculate the RMSE value."
   ]
  },
  {
   "cell_type": "code",
   "execution_count": 5,
   "metadata": {
    "colab": {},
    "colab_type": "code",
    "id": "FHvnR6W-1Y_c",
    "outputId": "9e2348fe-2b40-4f46-cfbc-b552d21f3cb2"
   },
   "outputs": [
    {
     "data": {
      "text/html": [
       "2421612.0510441"
      ],
      "text/latex": [
       "2421612.0510441"
      ],
      "text/markdown": [
       "2421612.0510441"
      ],
      "text/plain": [
       "[1] 2421612"
      ]
     },
     "metadata": {},
     "output_type": "display_data"
    }
   ],
   "source": [
    "regRMSE <- sqrt(mean((testRegPred - dataTest$FACE)^2))\n",
    "regRMSE"
   ]
  },
  {
   "cell_type": "markdown",
   "metadata": {
    "colab_type": "text",
    "id": "SgsJ9UQV1Y_1"
   },
   "source": [
    "6. Set the model parameters of the neural network.\n",
    "\n",
    "**Note:** First apply cross-validation with 10 folds, then set up the grid parameters as follows: \n",
    "*   Use a neural network with a single layer, in addition to the layers of the inputs and the outputs of 6, 8, 10, 12, or 24 nodes tested.\n",
    "*   Use dropout rates of 0.1, 0.01, and 0.001."
   ]
  },
  {
   "cell_type": "code",
   "execution_count": 6,
   "metadata": {
    "colab": {},
    "colab_type": "code",
    "id": "aYMZSvHD1Y_3"
   },
   "outputs": [],
   "source": [
    "tuneCtrl <- trainControl(method = \"cv\", n = 10)"
   ]
  },
  {
   "cell_type": "code",
   "execution_count": 7,
   "metadata": {
    "colab": {},
    "colab_type": "code",
    "id": "iuIhP0F61ZAG"
   },
   "outputs": [],
   "source": [
    "nnetGrid <- expand.grid(size = c(6, 8, 10, 12, 24),\n",
    "                        decay = c(0.01, 0.001, 0.1))"
   ]
  },
  {
   "cell_type": "markdown",
   "metadata": {
    "colab_type": "text",
    "id": "nVAD7gEb1ZAd"
   },
   "source": [
    "7. Train the model to estimate the median value, and use RMSE as the performance metric. \n",
    "\n",
    "**Note:** The linout parameter needs to be equal to 1, or true, as this is a regression problem. _**Face**_ is the predicted variable. Apply the `nnet` function, and aim to minimise the RMSE value. Use the `nnetGrid` and `tuneCtrl` objects created in the previous step. Remember to use the training data set when building the model."
   ]
  },
  {
   "cell_type": "code",
   "execution_count": 8,
   "metadata": {
    "colab": {},
    "colab_type": "code",
    "deletable": false,
    "id": "SzZTHUD_1ZAh",
    "nbgrader": {
     "cell_type": "code",
     "checksum": "86fcabd133486fd69b8af0f004868425",
     "grade": true,
     "grade_id": "cell-a526ab5dc8b4dda7",
     "locked": false,
     "points": 0,
     "schema_version": 3,
     "solution": true,
     "task": false
    },
    "outputId": "45d06209-4d63-4488-dd50-aba8f307883f"
   },
   "outputs": [],
   "source": [
    "#set.seed(1)\n",
    "nnetFit <- train(FACE ~ ., \n",
    "                data = dataTrain,\n",
    "                method = \"nnet\",\n",
    "                metric = \"RMSE\",\n",
    "                tuneGrid = nnetGrid,\n",
    "                trControl = tuneCtrl,\n",
    "                maxit = 200,\n",
    "                linout = TRUE, \n",
    "                trace = FALSE)"
   ]
  },
  {
   "cell_type": "markdown",
   "metadata": {
    "colab_type": "text",
    "id": "X9OzK9OQoWDS"
   },
   "source": [
    "8. Use the `predict` function to generate an output based on the test data."
   ]
  },
  {
   "cell_type": "code",
   "execution_count": 9,
   "metadata": {
    "colab": {},
    "colab_type": "code",
    "deletable": false,
    "id": "tFj--OqQ1ZAv",
    "nbgrader": {
     "cell_type": "code",
     "checksum": "c6c759d21e0c4c4d1b474686ccf3542a",
     "grade": true,
     "grade_id": "cell-f98a627b9c03a877",
     "locked": false,
     "points": 0,
     "schema_version": 3,
     "solution": true,
     "task": false
    }
   },
   "outputs": [],
   "source": "nnetPredict <- predict(nnetFit, newdata = dataTest)"
  },
  {
   "cell_type": "markdown",
   "metadata": {
    "colab_type": "text",
    "id": "nDd3BhAU1ZBB"
   },
   "source": [
    "9. Calculate the RMSE value to compare this model's RMSE value with that of the regression model."
   ]
  },
  {
   "cell_type": "code",
   "execution_count": 10,
   "metadata": {
    "colab": {},
    "colab_type": "code",
    "id": "K5j-Z8I61ZBH",
    "outputId": "1b534119-fb33-4bb6-8208-415fea9d6774"
   },
   "outputs": [
    {
     "data": {
      "text/html": [
       "1254324.87565604"
      ],
      "text/latex": [
       "1254324.87565604"
      ],
      "text/markdown": [
       "1254324.87565604"
      ],
      "text/plain": [
       "[1] 1254325"
      ]
     },
     "metadata": {},
     "output_type": "display_data"
    }
   ],
   "source": [
    "nnetRMSE <- sqrt(mean((nnetPredict - dataTest$FACE)^2))\n",
    "nnetRMSE"
   ]
  },
  {
   "cell_type": "markdown",
   "metadata": {
    "colab_type": "text",
    "id": "8GpVCLCLpaOT"
   },
   "source": [
    "10. Calculate the difference between the RMSE values of the regression model and the neural network."
   ]
  },
  {
   "cell_type": "code",
   "execution_count": 11,
   "metadata": {
    "colab": {},
    "colab_type": "code",
    "id": "9xXBBjKb1ZBW",
    "outputId": "cea895f3-466b-452e-ca8b-662a3af53d28"
   },
   "outputs": [
    {
     "data": {
      "text/html": [
       "1167287.17538806"
      ],
      "text/latex": [
       "1167287.17538806"
      ],
      "text/markdown": [
       "1167287.17538806"
      ],
      "text/plain": [
       "[1] 1167287"
      ]
     },
     "metadata": {},
     "output_type": "display_data"
    }
   ],
   "source": [
    "regRMSE - nnetRMSE"
   ]
  },
  {
   "cell_type": "markdown",
   "metadata": {
    "colab_type": "text",
    "id": "uiucc_w1poNk"
   },
   "source": [
    "11. Convert the difference in the RMSE values into a percentage."
   ]
  },
  {
   "cell_type": "code",
   "execution_count": 12,
   "metadata": {
    "colab": {},
    "colab_type": "code",
    "id": "Zfpr_zUJ1ZBh",
    "outputId": "97ecf860-6123-4b4d-ccad-04c68bf9cec9"
   },
   "outputs": [
    {
     "data": {
      "text/html": [
       "0.482028975237703"
      ],
      "text/latex": [
       "0.482028975237703"
      ],
      "text/markdown": [
       "0.482028975237703"
      ],
      "text/plain": [
       "[1] 0.482029"
      ]
     },
     "metadata": {},
     "output_type": "display_data"
    }
   ],
   "source": [
    "(regRMSE - nnetRMSE) / regRMSE"
   ]
  },
  {
   "cell_type": "markdown",
   "metadata": {
    "colab_type": "text",
    "id": "rmHxZq-R1ZBu"
   },
   "source": [
    "**Pause and reflect:** Based on the difference in RMSE values between the regression model and the neural network, do you think the neural network performs better than the regression model?"
   ]
  },
  {
   "cell_type": "markdown",
   "metadata": {
    "colab_type": "text",
    "id": "ubjAwWpXKCDk"
   },
   "source": [
    "12. Make a prediction.\n",
    "\n",
    "**Note:** To demonstrate how the model would be used, you can manually provide the input values for a new observation. You would typically generate random data, but in this case, there are three hard-coded observations included that can serve as test cases.\n"
   ]
  },
  {
   "cell_type": "code",
   "execution_count": 13,
   "metadata": {
    "colab": {},
    "colab_type": "code",
    "id": "LLStUh4eJKQd"
   },
   "outputs": [],
   "source": [
    "# Add test cases to a new data frame\n",
    "predData <- data.frame(\n",
    "  \"GENDER\" = 1,\n",
    "  \"AGE\" = 44,\n",
    "  \"MARSTAT\" = 1,\n",
    "  \"EDUCATION\" = c(16,18,15),\n",
    "  \"ETHNICITY\" = 2,\n",
    "  \"SMARSTAT\" = 1,\n",
    "  \"SGENDER\" = 1,\n",
    "  \"SAGE\" = 33,\n",
    "  \"SEDUCATION\" = 10,\n",
    "  \"NUMHH\" = c(5,6,3),\n",
    "  \"INCOME\" = c(100000,110000,90000),\n",
    "  \"TOTINCOME\" = 200000,\n",
    "  \"CHARITY\" = 500,\n",
    "  \"FACECVLIFEPOLICIES\" = 0,\n",
    "  \"CASHCVLIFEPOLICIES\" = 0,\n",
    "  \"BORROWCVLIFEPOL\" = 0,\n",
    "  \"NETVALUE\" = 0)"
   ]
  },
  {
   "cell_type": "code",
   "execution_count": 14,
   "metadata": {
    "colab": {},
    "colab_type": "code",
    "id": "0_OiIk2nJKQj",
    "outputId": "e42e3615-cabf-41e2-9112-3e5dba759f83",
    "scrolled": true
   },
   "outputs": [
    {
     "data": {
      "text/html": [
       "<style>\n",
       ".dl-inline {width: auto; margin:0; padding: 0}\n",
       ".dl-inline>dt, .dl-inline>dd {float: none; width: auto; display: inline-block}\n",
       ".dl-inline>dt::after {content: \":\\0020\"; padding-right: .5ex}\n",
       ".dl-inline>dt:not(:first-of-type) {padding-left: .5ex}\n",
       "</style><dl class=dl-inline><dt>1</dt><dd>936199.995363875</dd><dt>2</dt><dd>936199.995363875</dd><dt>3</dt><dd>936199.995363875</dd></dl>\n"
      ],
      "text/latex": [
       "\\begin{description*}\n",
       "\\item[1] 936199.995363875\n",
       "\\item[2] 936199.995363875\n",
       "\\item[3] 936199.995363875\n",
       "\\end{description*}\n"
      ],
      "text/markdown": [
       "1\n",
       ":   936199.9953638752\n",
       ":   936199.9953638753\n",
       ":   936199.995363875\n",
       "\n"
      ],
      "text/plain": [
       "     1      2      3 \n",
       "936200 936200 936200 "
      ]
     },
     "metadata": {},
     "output_type": "display_data"
    },
    {
     "data": {
      "text/html": [
       "<table class=\"dataframe\">\n",
       "<caption>A data.frame: 3 × 17</caption>\n",
       "<thead>\n",
       "\t<tr><th scope=col>GENDER</th><th scope=col>AGE</th><th scope=col>MARSTAT</th><th scope=col>EDUCATION</th><th scope=col>ETHNICITY</th><th scope=col>SMARSTAT</th><th scope=col>SGENDER</th><th scope=col>SAGE</th><th scope=col>SEDUCATION</th><th scope=col>NUMHH</th><th scope=col>INCOME</th><th scope=col>TOTINCOME</th><th scope=col>CHARITY</th><th scope=col>FACECVLIFEPOLICIES</th><th scope=col>CASHCVLIFEPOLICIES</th><th scope=col>BORROWCVLIFEPOL</th><th scope=col>NETVALUE</th></tr>\n",
       "\t<tr><th scope=col>&lt;dbl&gt;</th><th scope=col>&lt;dbl&gt;</th><th scope=col>&lt;dbl&gt;</th><th scope=col>&lt;dbl&gt;</th><th scope=col>&lt;dbl&gt;</th><th scope=col>&lt;dbl&gt;</th><th scope=col>&lt;dbl&gt;</th><th scope=col>&lt;dbl&gt;</th><th scope=col>&lt;dbl&gt;</th><th scope=col>&lt;dbl&gt;</th><th scope=col>&lt;dbl&gt;</th><th scope=col>&lt;dbl&gt;</th><th scope=col>&lt;dbl&gt;</th><th scope=col>&lt;dbl&gt;</th><th scope=col>&lt;dbl&gt;</th><th scope=col>&lt;dbl&gt;</th><th scope=col>&lt;dbl&gt;</th></tr>\n",
       "</thead>\n",
       "<tbody>\n",
       "\t<tr><td>1</td><td>44</td><td>1</td><td>16</td><td>2</td><td>1</td><td>1</td><td>33</td><td>10</td><td>5</td><td>100000</td><td>2e+05</td><td>500</td><td>0</td><td>0</td><td>0</td><td>0</td></tr>\n",
       "\t<tr><td>1</td><td>44</td><td>1</td><td>18</td><td>2</td><td>1</td><td>1</td><td>33</td><td>10</td><td>6</td><td>110000</td><td>2e+05</td><td>500</td><td>0</td><td>0</td><td>0</td><td>0</td></tr>\n",
       "\t<tr><td>1</td><td>44</td><td>1</td><td>15</td><td>2</td><td>1</td><td>1</td><td>33</td><td>10</td><td>3</td><td> 90000</td><td>2e+05</td><td>500</td><td>0</td><td>0</td><td>0</td><td>0</td></tr>\n",
       "</tbody>\n",
       "</table>\n"
      ],
      "text/latex": [
       "A data.frame: 3 × 17\n",
       "\\begin{tabular}{lllllllllllllllll}\n",
       " GENDER & AGE & MARSTAT & EDUCATION & ETHNICITY & SMARSTAT & SGENDER & SAGE & SEDUCATION & NUMHH & INCOME & TOTINCOME & CHARITY & FACECVLIFEPOLICIES & CASHCVLIFEPOLICIES & BORROWCVLIFEPOL & NETVALUE\\\\\n",
       " <dbl> & <dbl> & <dbl> & <dbl> & <dbl> & <dbl> & <dbl> & <dbl> & <dbl> & <dbl> & <dbl> & <dbl> & <dbl> & <dbl> & <dbl> & <dbl> & <dbl>\\\\\n",
       "\\hline\n",
       "\t 1 & 44 & 1 & 16 & 2 & 1 & 1 & 33 & 10 & 5 & 100000 & 2e+05 & 500 & 0 & 0 & 0 & 0\\\\\n",
       "\t 1 & 44 & 1 & 18 & 2 & 1 & 1 & 33 & 10 & 6 & 110000 & 2e+05 & 500 & 0 & 0 & 0 & 0\\\\\n",
       "\t 1 & 44 & 1 & 15 & 2 & 1 & 1 & 33 & 10 & 3 &  90000 & 2e+05 & 500 & 0 & 0 & 0 & 0\\\\\n",
       "\\end{tabular}\n"
      ],
      "text/markdown": [
       "\n",
       "A data.frame: 3 × 17\n",
       "\n",
       "| GENDER &lt;dbl&gt; | AGE &lt;dbl&gt; | MARSTAT &lt;dbl&gt; | EDUCATION &lt;dbl&gt; | ETHNICITY &lt;dbl&gt; | SMARSTAT &lt;dbl&gt; | SGENDER &lt;dbl&gt; | SAGE &lt;dbl&gt; | SEDUCATION &lt;dbl&gt; | NUMHH &lt;dbl&gt; | INCOME &lt;dbl&gt; | TOTINCOME &lt;dbl&gt; | CHARITY &lt;dbl&gt; | FACECVLIFEPOLICIES &lt;dbl&gt; | CASHCVLIFEPOLICIES &lt;dbl&gt; | BORROWCVLIFEPOL &lt;dbl&gt; | NETVALUE &lt;dbl&gt; |\n",
       "|---|---|---|---|---|---|---|---|---|---|---|---|---|---|---|---|---|\n",
       "| 1 | 44 | 1 | 16 | 2 | 1 | 1 | 33 | 10 | 5 | 100000 | 2e+05 | 500 | 0 | 0 | 0 | 0 |\n",
       "| 1 | 44 | 1 | 18 | 2 | 1 | 1 | 33 | 10 | 6 | 110000 | 2e+05 | 500 | 0 | 0 | 0 | 0 |\n",
       "| 1 | 44 | 1 | 15 | 2 | 1 | 1 | 33 | 10 | 3 |  90000 | 2e+05 | 500 | 0 | 0 | 0 | 0 |\n",
       "\n"
      ],
      "text/plain": [
       "  GENDER AGE MARSTAT EDUCATION ETHNICITY SMARSTAT SGENDER SAGE SEDUCATION NUMHH\n",
       "1 1      44  1       16        2         1        1       33   10         5    \n",
       "2 1      44  1       18        2         1        1       33   10         6    \n",
       "3 1      44  1       15        2         1        1       33   10         3    \n",
       "  INCOME TOTINCOME CHARITY FACECVLIFEPOLICIES CASHCVLIFEPOLICIES\n",
       "1 100000 2e+05     500     0                  0                 \n",
       "2 110000 2e+05     500     0                  0                 \n",
       "3  90000 2e+05     500     0                  0                 \n",
       "  BORROWCVLIFEPOL NETVALUE\n",
       "1 0               0       \n",
       "2 0               0       \n",
       "3 0               0       "
      ]
     },
     "metadata": {},
     "output_type": "display_data"
    }
   ],
   "source": [
    "# Predict the balances for the test cases using the ANN\n",
    "nnetPredict <- predict(nnetFit, newdata = predData)\n",
    "nnetPredict\n",
    "predData"
   ]
  },
  {
   "cell_type": "code",
   "execution_count": 15,
   "metadata": {
    "colab": {},
    "colab_type": "code",
    "id": "Ls8pvvWpJKQr",
    "outputId": "b21d564c-aa41-4fde-9f22-3c549edb9d04"
   },
   "outputs": [
    {
     "data": {
      "text/html": [
       "<style>\n",
       ".dl-inline {width: auto; margin:0; padding: 0}\n",
       ".dl-inline>dt, .dl-inline>dd {float: none; width: auto; display: inline-block}\n",
       ".dl-inline>dt::after {content: \":\\0020\"; padding-right: .5ex}\n",
       ".dl-inline>dt:not(:first-of-type) {padding-left: .5ex}\n",
       "</style><dl class=dl-inline><dt>1</dt><dd>1066391.61210791</dd><dt>2</dt><dd>1334841.2756308</dd><dt>3</dt><dd>726110.097267228</dd></dl>\n"
      ],
      "text/latex": [
       "\\begin{description*}\n",
       "\\item[1] 1066391.61210791\n",
       "\\item[2] 1334841.2756308\n",
       "\\item[3] 726110.097267228\n",
       "\\end{description*}\n"
      ],
      "text/markdown": [
       "1\n",
       ":   1066391.612107912\n",
       ":   1334841.27563083\n",
       ":   726110.097267228\n",
       "\n"
      ],
      "text/plain": [
       "        1         2         3 \n",
       "1066391.6 1334841.3  726110.1 "
      ]
     },
     "metadata": {},
     "output_type": "display_data"
    }
   ],
   "source": [
    "# Predict the balances for the test cases using the regression model\n",
    "regPredict <- predict(trainReg, newdata = predData)\n",
    "regPredict"
   ]
  },
  {
   "cell_type": "markdown",
   "metadata": {
    "colab_type": "text",
    "id": "NTUkyVypqFmM"
   },
   "source": [
    "**Note:** Remember to submit this IDE notebook after completion and complete the written part of this assessment in the activity submission that follows."
   ]
  },
  {
   "cell_type": "code",
   "execution_count": null,
   "metadata": {
    "scrolled": true
   },
   "outputs": [],
   "source": []
  },
  {
   "cell_type": "code",
   "execution_count": null,
   "metadata": {},
   "outputs": [],
   "source": []
  }
 ],
 "metadata": {
  "colab": {
   "collapsed_sections": [],
   "name": "LSE_MNL_M7U2_IDE_activity_notebook_(assessment)_v14_ed.ipynb",
   "provenance": []
  },
  "kernelspec": {
   "display_name": "LSE-MNL-R",
   "language": "R",
   "name": "lse-mnl-r"
  },
  "language_info": {
   "codemirror_mode": "r",
   "file_extension": ".r",
   "mimetype": "text/x-r-source",
   "name": "R",
   "pygments_lexer": "r",
   "version": "3.6.3"
  }
 },
 "nbformat": 4,
 "nbformat_minor": 1
}
