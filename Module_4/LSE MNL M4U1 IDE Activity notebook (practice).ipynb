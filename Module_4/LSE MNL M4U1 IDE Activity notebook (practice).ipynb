{
 "cells": [
  {
   "cell_type": "markdown",
   "metadata": {
    "colab_type": "text",
    "id": "DgKs16_mcc8a"
   },
   "source": [
    "# LSE Machine Learning: Practical Applications\n",
    "\n",
    "## Module 4 Unit 1 IDE Activity (Practice) | Execute variable selection on a data set in R\n",
    "\n",
    "### In this notebook, variable selection is executed in R. In this example, the credit card data set is used. The aim of variable selection is to determine which variables are the most significant variables to use when predicting the balance of a customer's credit card using a variety of predictor variables."
   ]
  },
  {
   "cell_type": "markdown",
   "metadata": {
    "colab_type": "text",
    "id": "lesMZc9vd9Oj"
   },
   "source": [
    "### Step 1: Load and install the relevant packages"
   ]
  },
  {
   "cell_type": "markdown",
   "metadata": {
    "colab_type": "text",
    "id": "thJicrjKcLTs"
   },
   "source": [
    "In this notebook, the `ILSR` package is used to load the relevant data set, the `dplyr` package for data manipulation, and the `leaps` package for variable selection."
   ]
  },
  {
   "cell_type": "code",
   "execution_count": 1,
   "metadata": {
    "colab": {},
    "colab_type": "code",
    "id": "KRx4ZaAQcLTu",
    "outputId": "4e81fdb0-995a-4d66-b16f-4396dfb54905"
   },
   "outputs": [
    {
     "name": "stderr",
     "output_type": "stream",
     "text": [
      "\n",
      "Attaching package: ‘dplyr’\n",
      "\n",
      "\n",
      "The following objects are masked from ‘package:stats’:\n",
      "\n",
      "    filter, lag\n",
      "\n",
      "\n",
      "The following objects are masked from ‘package:base’:\n",
      "\n",
      "    intersect, setdiff, setequal, union\n",
      "\n",
      "\n"
     ]
    }
   ],
   "source": [
    "library(ISLR)\n",
    "library(leaps)\n",
    "library(dplyr)"
   ]
  },
  {
   "cell_type": "markdown",
   "metadata": {
    "colab_type": "text",
    "id": "hrCaIm1ze8Db"
   },
   "source": [
    "### Step 2: Load and prepare the data"
   ]
  },
  {
   "cell_type": "markdown",
   "metadata": {
    "colab_type": "text",
    "id": "nGckjvqjcLTz"
   },
   "source": [
    "Following the loading and installation of the packages, the data set can now be loaded into R. For this example, the credit card data set contained in the ISLR package is used. Review the summary and the first couple of rows of the data set in order to gain insights into the amount of data manipulation that would be required before further use."
   ]
  },
  {
   "cell_type": "code",
   "execution_count": 2,
   "metadata": {
    "colab": {},
    "colab_type": "code",
    "id": "hfeOlfJQcLT0",
    "outputId": "b2f66786-8605-4777-8f6d-3b28c87ef273"
   },
   "outputs": [
    {
     "name": "stdout",
     "output_type": "stream",
     "text": [
      "'data.frame':\t400 obs. of  12 variables:\n",
      " $ ID       : int  1 2 3 4 5 6 7 8 9 10 ...\n",
      " $ Income   : num  14.9 106 104.6 148.9 55.9 ...\n",
      " $ Limit    : int  3606 6645 7075 9504 4897 8047 3388 7114 3300 6819 ...\n",
      " $ Rating   : int  283 483 514 681 357 569 259 512 266 491 ...\n",
      " $ Cards    : int  2 3 4 3 2 4 2 2 5 3 ...\n",
      " $ Age      : int  34 82 71 36 68 77 37 87 66 41 ...\n",
      " $ Education: int  11 15 11 11 16 10 12 9 13 19 ...\n",
      " $ Gender   : Factor w/ 2 levels \" Male\",\"Female\": 1 2 1 2 1 1 2 1 2 2 ...\n",
      " $ Student  : Factor w/ 2 levels \"No\",\"Yes\": 1 2 1 1 1 1 1 1 1 2 ...\n",
      " $ Married  : Factor w/ 2 levels \"No\",\"Yes\": 2 2 1 1 2 1 1 1 1 2 ...\n",
      " $ Ethnicity: Factor w/ 3 levels \"African American\",..: 3 2 2 2 3 3 1 2 3 1 ...\n",
      " $ Balance  : int  333 903 580 964 331 1151 203 872 279 1350 ...\n"
     ]
    },
    {
     "data": {
      "text/html": [
       "<table class=\"dataframe\">\n",
       "<caption>A data.frame: 6 × 12</caption>\n",
       "<thead>\n",
       "\t<tr><th></th><th scope=col>ID</th><th scope=col>Income</th><th scope=col>Limit</th><th scope=col>Rating</th><th scope=col>Cards</th><th scope=col>Age</th><th scope=col>Education</th><th scope=col>Gender</th><th scope=col>Student</th><th scope=col>Married</th><th scope=col>Ethnicity</th><th scope=col>Balance</th></tr>\n",
       "\t<tr><th></th><th scope=col>&lt;int&gt;</th><th scope=col>&lt;dbl&gt;</th><th scope=col>&lt;int&gt;</th><th scope=col>&lt;int&gt;</th><th scope=col>&lt;int&gt;</th><th scope=col>&lt;int&gt;</th><th scope=col>&lt;int&gt;</th><th scope=col>&lt;fct&gt;</th><th scope=col>&lt;fct&gt;</th><th scope=col>&lt;fct&gt;</th><th scope=col>&lt;fct&gt;</th><th scope=col>&lt;int&gt;</th></tr>\n",
       "</thead>\n",
       "<tbody>\n",
       "\t<tr><th scope=row>1</th><td>1</td><td> 14.891</td><td>3606</td><td>283</td><td>2</td><td>34</td><td>11</td><td> Male </td><td>No </td><td>Yes</td><td>Caucasian</td><td> 333</td></tr>\n",
       "\t<tr><th scope=row>2</th><td>2</td><td>106.025</td><td>6645</td><td>483</td><td>3</td><td>82</td><td>15</td><td>Female</td><td>Yes</td><td>Yes</td><td>Asian    </td><td> 903</td></tr>\n",
       "\t<tr><th scope=row>3</th><td>3</td><td>104.593</td><td>7075</td><td>514</td><td>4</td><td>71</td><td>11</td><td> Male </td><td>No </td><td>No </td><td>Asian    </td><td> 580</td></tr>\n",
       "\t<tr><th scope=row>4</th><td>4</td><td>148.924</td><td>9504</td><td>681</td><td>3</td><td>36</td><td>11</td><td>Female</td><td>No </td><td>No </td><td>Asian    </td><td> 964</td></tr>\n",
       "\t<tr><th scope=row>5</th><td>5</td><td> 55.882</td><td>4897</td><td>357</td><td>2</td><td>68</td><td>16</td><td> Male </td><td>No </td><td>Yes</td><td>Caucasian</td><td> 331</td></tr>\n",
       "\t<tr><th scope=row>6</th><td>6</td><td> 80.180</td><td>8047</td><td>569</td><td>4</td><td>77</td><td>10</td><td> Male </td><td>No </td><td>No </td><td>Caucasian</td><td>1151</td></tr>\n",
       "</tbody>\n",
       "</table>\n"
      ],
      "text/latex": [
       "A data.frame: 6 × 12\n",
       "\\begin{tabular}{r|llllllllllll}\n",
       "  & ID & Income & Limit & Rating & Cards & Age & Education & Gender & Student & Married & Ethnicity & Balance\\\\\n",
       "  & <int> & <dbl> & <int> & <int> & <int> & <int> & <int> & <fct> & <fct> & <fct> & <fct> & <int>\\\\\n",
       "\\hline\n",
       "\t1 & 1 &  14.891 & 3606 & 283 & 2 & 34 & 11 &  Male  & No  & Yes & Caucasian &  333\\\\\n",
       "\t2 & 2 & 106.025 & 6645 & 483 & 3 & 82 & 15 & Female & Yes & Yes & Asian     &  903\\\\\n",
       "\t3 & 3 & 104.593 & 7075 & 514 & 4 & 71 & 11 &  Male  & No  & No  & Asian     &  580\\\\\n",
       "\t4 & 4 & 148.924 & 9504 & 681 & 3 & 36 & 11 & Female & No  & No  & Asian     &  964\\\\\n",
       "\t5 & 5 &  55.882 & 4897 & 357 & 2 & 68 & 16 &  Male  & No  & Yes & Caucasian &  331\\\\\n",
       "\t6 & 6 &  80.180 & 8047 & 569 & 4 & 77 & 10 &  Male  & No  & No  & Caucasian & 1151\\\\\n",
       "\\end{tabular}\n"
      ],
      "text/markdown": [
       "\n",
       "A data.frame: 6 × 12\n",
       "\n",
       "| <!--/--> | ID &lt;int&gt; | Income &lt;dbl&gt; | Limit &lt;int&gt; | Rating &lt;int&gt; | Cards &lt;int&gt; | Age &lt;int&gt; | Education &lt;int&gt; | Gender &lt;fct&gt; | Student &lt;fct&gt; | Married &lt;fct&gt; | Ethnicity &lt;fct&gt; | Balance &lt;int&gt; |\n",
       "|---|---|---|---|---|---|---|---|---|---|---|---|---|\n",
       "| 1 | 1 |  14.891 | 3606 | 283 | 2 | 34 | 11 |  Male  | No  | Yes | Caucasian |  333 |\n",
       "| 2 | 2 | 106.025 | 6645 | 483 | 3 | 82 | 15 | Female | Yes | Yes | Asian     |  903 |\n",
       "| 3 | 3 | 104.593 | 7075 | 514 | 4 | 71 | 11 |  Male  | No  | No  | Asian     |  580 |\n",
       "| 4 | 4 | 148.924 | 9504 | 681 | 3 | 36 | 11 | Female | No  | No  | Asian     |  964 |\n",
       "| 5 | 5 |  55.882 | 4897 | 357 | 2 | 68 | 16 |  Male  | No  | Yes | Caucasian |  331 |\n",
       "| 6 | 6 |  80.180 | 8047 | 569 | 4 | 77 | 10 |  Male  | No  | No  | Caucasian | 1151 |\n",
       "\n"
      ],
      "text/plain": [
       "  ID Income  Limit Rating Cards Age Education Gender Student Married Ethnicity\n",
       "1 1   14.891 3606  283    2     34  11         Male  No      Yes     Caucasian\n",
       "2 2  106.025 6645  483    3     82  15        Female Yes     Yes     Asian    \n",
       "3 3  104.593 7075  514    4     71  11         Male  No      No      Asian    \n",
       "4 4  148.924 9504  681    3     36  11        Female No      No      Asian    \n",
       "5 5   55.882 4897  357    2     68  16         Male  No      Yes     Caucasian\n",
       "6 6   80.180 8047  569    4     77  10         Male  No      No      Caucasian\n",
       "  Balance\n",
       "1  333   \n",
       "2  903   \n",
       "3  580   \n",
       "4  964   \n",
       "5  331   \n",
       "6 1151   "
      ]
     },
     "metadata": {},
     "output_type": "display_data"
    }
   ],
   "source": [
    "# Load the data\n",
    "credit <- Credit\n",
    "\n",
    "# Review summary of the data set\n",
    "str(credit)\n",
    "\n",
    "# Display the head of the data set\n",
    "head(credit)"
   ]
  },
  {
   "cell_type": "markdown",
   "metadata": {
    "colab_type": "text",
    "id": "yYQdtUiOcLT6"
   },
   "source": [
    "The first column, titled ID, needs to be removed for purposes of this example. This variable can be removed from the data set using dplyr's `select()` function."
   ]
  },
  {
   "cell_type": "code",
   "execution_count": null,
   "metadata": {
    "colab": {},
    "colab_type": "code",
    "id": "7aE16EXvcLT7"
   },
   "outputs": [],
   "source": [
    "credit <- credit %>% select(-ID)"
   ]
  },
  {
   "cell_type": "code",
   "execution_count": null,
   "metadata": {
    "colab": {},
    "colab_type": "code",
    "id": "FsHGOOuFhAHt",
    "outputId": "29e9c34f-1222-4e91-bb50-08de92a67634"
   },
   "outputs": [],
   "source": [
    "head(credit)"
   ]
  },
  {
   "cell_type": "markdown",
   "metadata": {
    "colab_type": "text",
    "id": "xW_livSxyUPf"
   },
   "source": [
    "The data is now ready to be used for variable selection."
   ]
  },
  {
   "cell_type": "markdown",
   "metadata": {
    "colab_type": "text",
    "id": "TH3lKxeZyWig"
   },
   "source": [
    "### Step 3: Variable selection"
   ]
  },
  {
   "cell_type": "markdown",
   "metadata": {
    "colab_type": "text",
    "id": "nVMlu52hh5HX"
   },
   "source": [
    "In this step, best subset selection as well as forward and backward stepwise selection are illustrated."
   ]
  },
  {
   "cell_type": "markdown",
   "metadata": {
    "colab_type": "text",
    "id": "4xjDog-xhxax"
   },
   "source": [
    "### Best subset selection"
   ]
  },
  {
   "cell_type": "markdown",
   "metadata": {
    "colab_type": "text",
    "id": "cZZdBLTSiFhl"
   },
   "source": [
    "Fitting all the possible combinations of the variables within the data set manually would be highly time-consuming. In this case, apply the `regsubsets()` function from the `leaps` package to perform the best subset selection task. The function identifies the best model that contains a given number of predictors, where the best is quantified by the smallest RSS and the highest R-squared value. Note that the default output size is up to size 8. In this case, increase that to the number of variables elements in the data set by specifying the optional parameter nvmax. \n",
    "\n",
    "Then create an object containing the summary, and continue to print out the R-squared and adjusted R-squared statistics for the model."
   ]
  },
  {
   "cell_type": "code",
   "execution_count": 3,
   "metadata": {
    "colab": {},
    "colab_type": "code",
    "id": "An5se2HDhAH8",
    "outputId": "6b9bad87-4ada-44e1-cc6c-47e329992db9"
   },
   "outputs": [
    {
     "data": {
      "text/html": [
       "<style>\n",
       ".list-inline {list-style: none; margin:0; padding: 0}\n",
       ".list-inline>li {display: inline-block}\n",
       ".list-inline>li:not(:last-child)::after {content: \"\\00b7\"; padding: 0 .5ex}\n",
       "</style>\n",
       "<ol class=list-inline><li>'which'</li><li>'rsq'</li><li>'rss'</li><li>'adjr2'</li><li>'cp'</li><li>'bic'</li><li>'outmat'</li><li>'obj'</li></ol>\n"
      ],
      "text/latex": [
       "\\begin{enumerate*}\n",
       "\\item 'which'\n",
       "\\item 'rsq'\n",
       "\\item 'rss'\n",
       "\\item 'adjr2'\n",
       "\\item 'cp'\n",
       "\\item 'bic'\n",
       "\\item 'outmat'\n",
       "\\item 'obj'\n",
       "\\end{enumerate*}\n"
      ],
      "text/markdown": [
       "1. 'which'\n",
       "2. 'rsq'\n",
       "3. 'rss'\n",
       "4. 'adjr2'\n",
       "5. 'cp'\n",
       "6. 'bic'\n",
       "7. 'outmat'\n",
       "8. 'obj'\n",
       "\n",
       "\n"
      ],
      "text/plain": [
       "[1] \"which\"  \"rsq\"    \"rss\"    \"adjr2\"  \"cp\"     \"bic\"    \"outmat\" \"obj\"   "
      ]
     },
     "metadata": {},
     "output_type": "display_data"
    },
    {
     "data": {
      "text/html": [
       "<style>\n",
       ".list-inline {list-style: none; margin:0; padding: 0}\n",
       ".list-inline>li {display: inline-block}\n",
       ".list-inline>li:not(:last-child)::after {content: \"\\00b7\"; padding: 0 .5ex}\n",
       "</style>\n",
       "<ol class=list-inline><li>0.745848418058504</li><li>0.875117947699436</li><li>0.94987877963262</li><li>0.953580002795413</li><li>0.954160597061235</li><li>0.954687886397459</li><li>0.954816661689953</li><li>0.954917818028204</li><li>0.954998593988727</li><li>0.955079983836908</li></ol>\n"
      ],
      "text/latex": [
       "\\begin{enumerate*}\n",
       "\\item 0.745848418058504\n",
       "\\item 0.875117947699436\n",
       "\\item 0.94987877963262\n",
       "\\item 0.953580002795413\n",
       "\\item 0.954160597061235\n",
       "\\item 0.954687886397459\n",
       "\\item 0.954816661689953\n",
       "\\item 0.954917818028204\n",
       "\\item 0.954998593988727\n",
       "\\item 0.955079983836908\n",
       "\\end{enumerate*}\n"
      ],
      "text/markdown": [
       "1. 0.745848418058504\n",
       "2. 0.875117947699436\n",
       "3. 0.94987877963262\n",
       "4. 0.953580002795413\n",
       "5. 0.954160597061235\n",
       "6. 0.954687886397459\n",
       "7. 0.954816661689953\n",
       "8. 0.954917818028204\n",
       "9. 0.954998593988727\n",
       "10. 0.955079983836908\n",
       "\n",
       "\n"
      ],
      "text/plain": [
       " [1] 0.7458484 0.8751179 0.9498788 0.9535800 0.9541606 0.9546879 0.9548167\n",
       " [8] 0.9549178 0.9549986 0.9550800"
      ]
     },
     "metadata": {},
     "output_type": "display_data"
    },
    {
     "data": {
      "text/html": [
       "<style>\n",
       ".list-inline {list-style: none; margin:0; padding: 0}\n",
       ".list-inline>li {display: inline-block}\n",
       ".list-inline>li:not(:last-child)::after {content: \"\\00b7\"; padding: 0 .5ex}\n",
       "</style>\n",
       "<ol class=list-inline><li>0.74520984624458</li><li>0.87448881897248</li><li>0.949499073417716</li><li>0.953109926874354</li><li>0.953578878749829</li><li>0.953996098403527</li><li>0.954009816362988</li><li>0.953995420443104</li><li>0.953960100003851</li><li>0.953925227637343</li></ol>\n"
      ],
      "text/latex": [
       "\\begin{enumerate*}\n",
       "\\item 0.74520984624458\n",
       "\\item 0.87448881897248\n",
       "\\item 0.949499073417716\n",
       "\\item 0.953109926874354\n",
       "\\item 0.953578878749829\n",
       "\\item 0.953996098403527\n",
       "\\item 0.954009816362988\n",
       "\\item 0.953995420443104\n",
       "\\item 0.953960100003851\n",
       "\\item 0.953925227637343\n",
       "\\end{enumerate*}\n"
      ],
      "text/markdown": [
       "1. 0.74520984624458\n",
       "2. 0.87448881897248\n",
       "3. 0.949499073417716\n",
       "4. 0.953109926874354\n",
       "5. 0.953578878749829\n",
       "6. 0.953996098403527\n",
       "7. 0.954009816362988\n",
       "8. 0.953995420443104\n",
       "9. 0.953960100003851\n",
       "10. 0.953925227637343\n",
       "\n",
       "\n"
      ],
      "text/plain": [
       " [1] 0.7452098 0.8744888 0.9494991 0.9531099 0.9535789 0.9539961 0.9540098\n",
       " [8] 0.9539954 0.9539601 0.9539252"
      ]
     },
     "metadata": {},
     "output_type": "display_data"
    }
   ],
   "source": [
    "# Fit regression model and print summary output\n",
    "regfit_full = regsubsets(Balance ~ ., data = credit, nvmax = 10)\n",
    "reg_summary = summary(regfit_full)\n",
    "\n",
    "# Review elements available in the summary\n",
    "names(reg_summary)\n",
    "\n",
    "# Review the R-squared and adjusted R-squared outputs\n",
    "reg_summary$rsq\n",
    "reg_summary$adjr2"
   ]
  },
  {
   "cell_type": "markdown",
   "metadata": {
    "colab_type": "text",
    "id": "zaoChwJ3hAIG"
   },
   "source": [
    "Based on the above summary, the model that considers all the variables has the highest R-squared value, and one that considers only seven variables, the highest adjusted R-squared value. \n",
    "\n",
    "In order to identify the best model to select for this example, plot the RSS, ajusted R-squared, Cp, and BIC values for all of the models at once. Note that Cp is an unbiased estimate of MSE and is proportional to AIC for a linear model fit using least squares, so only Cp values are displayed here and can be used to demonstrate the AIC values as a function of model size."
   ]
  },
  {
   "cell_type": "code",
   "execution_count": 4,
   "metadata": {
    "colab": {},
    "colab_type": "code",
    "id": "HwjJPt_zhAII",
    "outputId": "f01ae581-f037-4781-fb78-aa0a318ad214"
   },
   "outputs": [
    {
     "data": {
      "text/html": [
       "7"
      ],
      "text/latex": [
       "7"
      ],
      "text/markdown": [
       "7"
      ],
      "text/plain": [
       "[1] 7"
      ]
     },
     "metadata": {},
     "output_type": "display_data"
    },
    {
     "data": {
      "text/html": [
       "6"
      ],
      "text/latex": [
       "6"
      ],
      "text/markdown": [
       "6"
      ],
      "text/plain": [
       "[1] 6"
      ]
     },
     "metadata": {},
     "output_type": "display_data"
    },
    {
     "data": {
      "text/html": [
       "4"
      ],
      "text/latex": [
       "4"
      ],
      "text/markdown": [
       "4"
      ],
      "text/plain": [
       "[1] 4"
      ]
     },
     "metadata": {},
     "output_type": "display_data"
    },
    {
     "data": {
      "image/png": "[encoded data removed]",
      "text/plain": [
       "plot without title"
      ]
     },
     "metadata": {
      "image/png": {
       "height": 420,
       "width": 420
      }
     },
     "output_type": "display_data"
    }
   ],
   "source": [
    "# Plot required elements\n",
    "par(mfrow=c(2,2))\n",
    "plot(reg_summary$rss, xlab=\"Number of Variables\", ylab=\"RSS\")\n",
    "\n",
    "## Plot adjusted R2 vs Number of Variables\n",
    "plot(reg_summary$adjr2, xlab=\"Number of Variables\", ylab=\"Adjusted RSq\", type=\"l\")\n",
    "## which_max() function is used to identify the location of the maximum point of a vector\n",
    "(best_model = which.max(reg_summary$adjr2))\n",
    "## Plot a red dot to indicate the model with the largest adjusted R2\n",
    "points(best_model, reg_summary$adjr2[best_model], col=\"red\", cex=2, pch=20)\n",
    "\n",
    "## In a similar fashion, we can plot Cp and BIC\n",
    "plot(reg_summary$cp, xlab=\"Number of Variables\", ylab=\"Cp\", type=\"l\")\n",
    "(best_model = which.min(reg_summary$cp))\n",
    "points(best_model, reg_summary$cp[best_model], col=\"red\", cex=2, pch=20)\n",
    "\n",
    "plot(reg_summary$bic, xlab=\"Number of Variables\", ylab=\"BIC\", type=\"l\")\n",
    "(best_model = which.min(reg_summary$bic))\n",
    "points(best_model, reg_summary$bic[best_model], col=\"red\", cex=2, pch=20)"
   ]
  },
  {
   "cell_type": "markdown",
   "metadata": {
    "colab_type": "text",
    "id": "WYmHun21hAIO"
   },
   "source": [
    "In the output, it is clear that the best models to select according to adjusted R-squared contain seven variables, using the Cp and AIC statistic, six variables, and finally, using the BIC, only four variables. The BIC generally places a heavier penalty on models with many variables, and hence results in the selection of smaller models than Cp or AIC.\n",
    "\n",
    "Now use the `regsubsets()` function's built-in plot command to display the selected variables for the best model with a given number of predictors."
   ]
  },
  {
   "cell_type": "code",
   "execution_count": 5,
   "metadata": {
    "colab": {},
    "colab_type": "code",
    "id": "jRmsd7e1hAIP",
    "outputId": "7cf9130d-c675-44c6-e596-b133f0718f77"
   },
   "outputs": [
    {
     "data": {
      "image/png": "[encoded data removed]",
      "text/plain": [
       "plot without title"
      ]
     },
     "metadata": {
      "image/png": {
       "height": 420,
       "width": 420
      }
     },
     "output_type": "display_data"
    }
   ],
   "source": [
    "# Plot using regsubsets built-in plot function\n",
    "par(mfrow=c(2,2))\n",
    "plot(regfit_full, scale=\"r2\")\n",
    "plot(regfit_full, scale=\"adjr2\")\n",
    "plot(regfit_full, scale=\"Cp\")\n",
    "plot(regfit_full, scale=\"bic\")"
   ]
  },
  {
   "cell_type": "markdown",
   "metadata": {
    "colab_type": "text",
    "id": "dLTZKZccpEv3"
   },
   "source": [
    "The top row of each plot contains a black square for each variable selected according to the optimal model associated with that statistic. For example, for BIC, choose a four-variable model. Now make use of the `coef()` function to see the coefficient estimates associated with this model."
   ]
  },
  {
   "cell_type": "code",
   "execution_count": 6,
   "metadata": {
    "colab": {},
    "colab_type": "code",
    "id": "iuwKnQxdhAIV",
    "outputId": "864acd4c-2564-4a19-b498-8d68c4ff74e1"
   },
   "outputs": [
    {
     "data": {
      "text/html": [
       "<style>\n",
       ".dl-inline {width: auto; margin:0; padding: 0}\n",
       ".dl-inline>dt, .dl-inline>dd {float: none; width: auto; display: inline-block}\n",
       ".dl-inline>dt::after {content: \":\\0020\"; padding-right: .5ex}\n",
       ".dl-inline>dt:not(:first-of-type) {padding-left: .5ex}\n",
       "</style><dl class=dl-inline><dt>(Intercept)</dt><dd>-499.727211684443</dd><dt>Income</dt><dd>-7.83922882518126</dd><dt>Limit</dt><dd>0.266644474162063</dd><dt>Cards</dt><dd>23.1753793916443</dd><dt>StudentYes</dt><dd>429.606420263445</dd></dl>\n"
      ],
      "text/latex": [
       "\\begin{description*}\n",
       "\\item[(Intercept)] -499.727211684443\n",
       "\\item[Income] -7.83922882518126\n",
       "\\item[Limit] 0.266644474162063\n",
       "\\item[Cards] 23.1753793916443\n",
       "\\item[StudentYes] 429.606420263445\n",
       "\\end{description*}\n"
      ],
      "text/markdown": [
       "(Intercept)\n",
       ":   -499.727211684443Income\n",
       ":   -7.83922882518126Limit\n",
       ":   0.266644474162063Cards\n",
       ":   23.1753793916443StudentYes\n",
       ":   429.606420263445\n",
       "\n"
      ],
      "text/plain": [
       " (Intercept)       Income        Limit        Cards   StudentYes \n",
       "-499.7272117   -7.8392288    0.2666445   23.1753794  429.6064203 "
      ]
     },
     "metadata": {},
     "output_type": "display_data"
    }
   ],
   "source": [
    "# Print the coefficients\n",
    "coef(regfit_full, id = 4)"
   ]
  },
  {
   "cell_type": "markdown",
   "metadata": {
    "colab_type": "text",
    "id": "6kgHAsAhhAIb"
   },
   "source": [
    "The next method of variable selection is forward and backward stepwise selection."
   ]
  },
  {
   "cell_type": "markdown",
   "metadata": {
    "colab_type": "text",
    "id": "BOFpabHkphS6"
   },
   "source": [
    "### Forward and backward stepwise selection"
   ]
  },
  {
   "cell_type": "markdown",
   "metadata": {
    "colab_type": "text",
    "id": "-wKqTSgvhAIc"
   },
   "source": [
    "Forward stepwise selection is an iterative process whereby the most significant variables are added into the model. With backward stepwise selection, the model is chosen with all the variables as a starting point. The variable that leads to the largest RSS increment, meaning the least important, is removed. Then use the Cp, BIC, or adjusted R-squared value to select the optimal model.\n",
    "\n",
    "Use the `regsubsets()` function to perform both forward and backward stepwise selection."
   ]
  },
  {
   "cell_type": "code",
   "execution_count": 7,
   "metadata": {
    "colab": {},
    "colab_type": "code",
    "id": "BT2B7z-YhAId",
    "outputId": "d010deb9-b9a7-4976-a3d2-7443813faa04"
   },
   "outputs": [
    {
     "data": {
      "text/plain": [
       "Subset selection object\n",
       "Call: regsubsets.formula(Balance ~ ., data = credit, nvmax = 10, method = \"forward\")\n",
       "12 Variables  (and intercept)\n",
       "                   Forced in Forced out\n",
       "ID                     FALSE      FALSE\n",
       "Income                 FALSE      FALSE\n",
       "Limit                  FALSE      FALSE\n",
       "Rating                 FALSE      FALSE\n",
       "Cards                  FALSE      FALSE\n",
       "Age                    FALSE      FALSE\n",
       "Education              FALSE      FALSE\n",
       "GenderFemale           FALSE      FALSE\n",
       "StudentYes             FALSE      FALSE\n",
       "MarriedYes             FALSE      FALSE\n",
       "EthnicityAsian         FALSE      FALSE\n",
       "EthnicityCaucasian     FALSE      FALSE\n",
       "1 subsets of each size up to 10\n",
       "Selection Algorithm: forward\n",
       "          ID  Income Limit Rating Cards Age Education GenderFemale StudentYes\n",
       "1  ( 1 )  \" \" \" \"    \" \"   \"*\"    \" \"   \" \" \" \"       \" \"          \" \"       \n",
       "2  ( 1 )  \" \" \"*\"    \" \"   \"*\"    \" \"   \" \" \" \"       \" \"          \" \"       \n",
       "3  ( 1 )  \" \" \"*\"    \" \"   \"*\"    \" \"   \" \" \" \"       \" \"          \"*\"       \n",
       "4  ( 1 )  \" \" \"*\"    \"*\"   \"*\"    \" \"   \" \" \" \"       \" \"          \"*\"       \n",
       "5  ( 1 )  \" \" \"*\"    \"*\"   \"*\"    \"*\"   \" \" \" \"       \" \"          \"*\"       \n",
       "6  ( 1 )  \" \" \"*\"    \"*\"   \"*\"    \"*\"   \"*\" \" \"       \" \"          \"*\"       \n",
       "7  ( 1 )  \" \" \"*\"    \"*\"   \"*\"    \"*\"   \"*\" \" \"       \"*\"          \"*\"       \n",
       "8  ( 1 )  \"*\" \"*\"    \"*\"   \"*\"    \"*\"   \"*\" \" \"       \"*\"          \"*\"       \n",
       "9  ( 1 )  \"*\" \"*\"    \"*\"   \"*\"    \"*\"   \"*\" \" \"       \"*\"          \"*\"       \n",
       "10  ( 1 ) \"*\" \"*\"    \"*\"   \"*\"    \"*\"   \"*\" \" \"       \"*\"          \"*\"       \n",
       "          MarriedYes EthnicityAsian EthnicityCaucasian\n",
       "1  ( 1 )  \" \"        \" \"            \" \"               \n",
       "2  ( 1 )  \" \"        \" \"            \" \"               \n",
       "3  ( 1 )  \" \"        \" \"            \" \"               \n",
       "4  ( 1 )  \" \"        \" \"            \" \"               \n",
       "5  ( 1 )  \" \"        \" \"            \" \"               \n",
       "6  ( 1 )  \" \"        \" \"            \" \"               \n",
       "7  ( 1 )  \" \"        \" \"            \" \"               \n",
       "8  ( 1 )  \" \"        \" \"            \" \"               \n",
       "9  ( 1 )  \" \"        \"*\"            \" \"               \n",
       "10  ( 1 ) \"*\"        \"*\"            \" \"               "
      ]
     },
     "metadata": {},
     "output_type": "display_data"
    },
    {
     "data": {
      "image/png": "[encoded data removed]",
      "text/plain": [
       "plot without title"
      ]
     },
     "metadata": {
      "image/png": {
       "height": 420,
       "width": 420
      }
     },
     "output_type": "display_data"
    }
   ],
   "source": [
    "# Use regsubsets() to perform forward stepwise selection\n",
    "regfit_fwd = regsubsets(Balance ~ .,\n",
    "                        data = credit,\n",
    "                        nvmax = 10,\n",
    "                        method = \"forward\")\n",
    "# Print the summary\n",
    "summary(regfit_fwd)\n",
    "\n",
    "# Plot the output\n",
    "par(mfrow = c(2, 2))\n",
    "plot(regfit_fwd, scale = \"r2\")\n",
    "plot(regfit_fwd, scale = \"adjr2\")\n",
    "plot(regfit_fwd, scale = \"Cp\")\n",
    "plot(regfit_fwd, scale = \"bic\")"
   ]
  },
  {
   "cell_type": "code",
   "execution_count": 8,
   "metadata": {
    "colab": {},
    "colab_type": "code",
    "id": "KPcqCnf_hAIh",
    "outputId": "ed0b6b04-16ad-4c9c-c954-9cb63bb5e438"
   },
   "outputs": [
    {
     "data": {
      "text/plain": [
       "Subset selection object\n",
       "Call: regsubsets.formula(Balance ~ ., data = credit, nvmax = 10, method = \"backward\")\n",
       "12 Variables  (and intercept)\n",
       "                   Forced in Forced out\n",
       "ID                     FALSE      FALSE\n",
       "Income                 FALSE      FALSE\n",
       "Limit                  FALSE      FALSE\n",
       "Rating                 FALSE      FALSE\n",
       "Cards                  FALSE      FALSE\n",
       "Age                    FALSE      FALSE\n",
       "Education              FALSE      FALSE\n",
       "GenderFemale           FALSE      FALSE\n",
       "StudentYes             FALSE      FALSE\n",
       "MarriedYes             FALSE      FALSE\n",
       "EthnicityAsian         FALSE      FALSE\n",
       "EthnicityCaucasian     FALSE      FALSE\n",
       "1 subsets of each size up to 10\n",
       "Selection Algorithm: backward\n",
       "          ID  Income Limit Rating Cards Age Education GenderFemale StudentYes\n",
       "1  ( 1 )  \" \" \" \"    \"*\"   \" \"    \" \"   \" \" \" \"       \" \"          \" \"       \n",
       "2  ( 1 )  \" \" \"*\"    \"*\"   \" \"    \" \"   \" \" \" \"       \" \"          \" \"       \n",
       "3  ( 1 )  \" \" \"*\"    \"*\"   \" \"    \" \"   \" \" \" \"       \" \"          \"*\"       \n",
       "4  ( 1 )  \" \" \"*\"    \"*\"   \" \"    \"*\"   \" \" \" \"       \" \"          \"*\"       \n",
       "5  ( 1 )  \" \" \"*\"    \"*\"   \"*\"    \"*\"   \" \" \" \"       \" \"          \"*\"       \n",
       "6  ( 1 )  \" \" \"*\"    \"*\"   \"*\"    \"*\"   \"*\" \" \"       \" \"          \"*\"       \n",
       "7  ( 1 )  \" \" \"*\"    \"*\"   \"*\"    \"*\"   \"*\" \" \"       \"*\"          \"*\"       \n",
       "8  ( 1 )  \"*\" \"*\"    \"*\"   \"*\"    \"*\"   \"*\" \" \"       \"*\"          \"*\"       \n",
       "9  ( 1 )  \"*\" \"*\"    \"*\"   \"*\"    \"*\"   \"*\" \" \"       \"*\"          \"*\"       \n",
       "10  ( 1 ) \"*\" \"*\"    \"*\"   \"*\"    \"*\"   \"*\" \" \"       \"*\"          \"*\"       \n",
       "          MarriedYes EthnicityAsian EthnicityCaucasian\n",
       "1  ( 1 )  \" \"        \" \"            \" \"               \n",
       "2  ( 1 )  \" \"        \" \"            \" \"               \n",
       "3  ( 1 )  \" \"        \" \"            \" \"               \n",
       "4  ( 1 )  \" \"        \" \"            \" \"               \n",
       "5  ( 1 )  \" \"        \" \"            \" \"               \n",
       "6  ( 1 )  \" \"        \" \"            \" \"               \n",
       "7  ( 1 )  \" \"        \" \"            \" \"               \n",
       "8  ( 1 )  \" \"        \" \"            \" \"               \n",
       "9  ( 1 )  \" \"        \"*\"            \" \"               \n",
       "10  ( 1 ) \"*\"        \"*\"            \" \"               "
      ]
     },
     "metadata": {},
     "output_type": "display_data"
    },
    {
     "data": {
      "image/png": "[encoded data removed]",
      "text/plain": [
       "plot without title"
      ]
     },
     "metadata": {
      "image/png": {
       "height": 420,
       "width": 420
      }
     },
     "output_type": "display_data"
    }
   ],
   "source": [
    "# Use regsubsets() to perform backward stepwise selection\n",
    "regfit_bwd = regsubsets(Balance ~ .,\n",
    "                        data = credit,\n",
    "                        nvmax = 10,\n",
    "                        method = \"backward\")\n",
    "\n",
    "# Print the summary\n",
    "summary(regfit_bwd)\n",
    "\n",
    "# Plot the output\n",
    "par(mfrow = c(2, 2))\n",
    "plot(regfit_bwd, scale = \"r2\")\n",
    "plot(regfit_bwd, scale = \"adjr2\")\n",
    "plot(regfit_bwd, scale = \"Cp\")\n",
    "plot(regfit_bwd, scale = \"bic\")"
   ]
  },
  {
   "cell_type": "markdown",
   "metadata": {
    "colab_type": "text",
    "id": "RJZkG2IBhAIl"
   },
   "source": [
    "Using the adjusted R-squared value, observe that the two stepwise selection methods lead to the same selection of variables, including limit, income, student, cards, rating, age, and gender. These variables are the same as those selected by the best subset selection.\n",
    "\n",
    "Finally, review the coefficient estimates associated with the models using different approaches. Print the output of seven for best subset selection, forward stepwise selection, and backward stepwise selection. These values would typically be used in predictions."
   ]
  },
  {
   "cell_type": "code",
   "execution_count": 9,
   "metadata": {
    "colab": {},
    "colab_type": "code",
    "id": "Qd_-Qr7VhAIm",
    "outputId": "03eaef18-bc49-4263-84a0-ede9304ea1b2"
   },
   "outputs": [
    {
     "data": {
      "text/html": [
       "<style>\n",
       ".dl-inline {width: auto; margin:0; padding: 0}\n",
       ".dl-inline>dt, .dl-inline>dd {float: none; width: auto; display: inline-block}\n",
       ".dl-inline>dt::after {content: \":\\0020\"; padding-right: .5ex}\n",
       ".dl-inline>dt:not(:first-of-type) {padding-left: .5ex}\n",
       "</style><dl class=dl-inline><dt>(Intercept)</dt><dd>-488.615869529054</dd><dt>Income</dt><dd>-7.80363382242431</dd><dt>Limit</dt><dd>0.193623720796595</dd><dt>Rating</dt><dd>1.09404898929532</dd><dt>Cards</dt><dd>18.1091708119971</dd><dt>Age</dt><dd>-0.620653760706895</dd><dt>GenderFemale</dt><dd>-10.4531520640606</dd><dt>StudentYes</dt><dd>426.581262033585</dd></dl>\n"
      ],
      "text/latex": [
       "\\begin{description*}\n",
       "\\item[(Intercept)] -488.615869529054\n",
       "\\item[Income] -7.80363382242431\n",
       "\\item[Limit] 0.193623720796595\n",
       "\\item[Rating] 1.09404898929532\n",
       "\\item[Cards] 18.1091708119971\n",
       "\\item[Age] -0.620653760706895\n",
       "\\item[GenderFemale] -10.4531520640606\n",
       "\\item[StudentYes] 426.581262033585\n",
       "\\end{description*}\n"
      ],
      "text/markdown": [
       "(Intercept)\n",
       ":   -488.615869529054Income\n",
       ":   -7.80363382242431Limit\n",
       ":   0.193623720796595Rating\n",
       ":   1.09404898929532Cards\n",
       ":   18.1091708119971Age\n",
       ":   -0.620653760706895GenderFemale\n",
       ":   -10.4531520640606StudentYes\n",
       ":   426.581262033585\n",
       "\n"
      ],
      "text/plain": [
       " (Intercept)       Income        Limit       Rating        Cards          Age \n",
       "-488.6158695   -7.8036338    0.1936237    1.0940490   18.1091708   -0.6206538 \n",
       "GenderFemale   StudentYes \n",
       " -10.4531521  426.5812620 "
      ]
     },
     "metadata": {},
     "output_type": "display_data"
    },
    {
     "data": {
      "text/html": [
       "<style>\n",
       ".dl-inline {width: auto; margin:0; padding: 0}\n",
       ".dl-inline>dt, .dl-inline>dd {float: none; width: auto; display: inline-block}\n",
       ".dl-inline>dt::after {content: \":\\0020\"; padding-right: .5ex}\n",
       ".dl-inline>dt:not(:first-of-type) {padding-left: .5ex}\n",
       "</style><dl class=dl-inline><dt>(Intercept)</dt><dd>-488.615869529053</dd><dt>Income</dt><dd>-7.80363382242431</dd><dt>Limit</dt><dd>0.193623720796595</dd><dt>Rating</dt><dd>1.09404898929531</dd><dt>Cards</dt><dd>18.1091708119971</dd><dt>Age</dt><dd>-0.620653760706896</dd><dt>GenderFemale</dt><dd>-10.4531520640606</dd><dt>StudentYes</dt><dd>426.581262033586</dd></dl>\n"
      ],
      "text/latex": [
       "\\begin{description*}\n",
       "\\item[(Intercept)] -488.615869529053\n",
       "\\item[Income] -7.80363382242431\n",
       "\\item[Limit] 0.193623720796595\n",
       "\\item[Rating] 1.09404898929531\n",
       "\\item[Cards] 18.1091708119971\n",
       "\\item[Age] -0.620653760706896\n",
       "\\item[GenderFemale] -10.4531520640606\n",
       "\\item[StudentYes] 426.581262033586\n",
       "\\end{description*}\n"
      ],
      "text/markdown": [
       "(Intercept)\n",
       ":   -488.615869529053Income\n",
       ":   -7.80363382242431Limit\n",
       ":   0.193623720796595Rating\n",
       ":   1.09404898929531Cards\n",
       ":   18.1091708119971Age\n",
       ":   -0.620653760706896GenderFemale\n",
       ":   -10.4531520640606StudentYes\n",
       ":   426.581262033586\n",
       "\n"
      ],
      "text/plain": [
       " (Intercept)       Income        Limit       Rating        Cards          Age \n",
       "-488.6158695   -7.8036338    0.1936237    1.0940490   18.1091708   -0.6206538 \n",
       "GenderFemale   StudentYes \n",
       " -10.4531521  426.5812620 "
      ]
     },
     "metadata": {},
     "output_type": "display_data"
    },
    {
     "data": {
      "text/html": [
       "<style>\n",
       ".dl-inline {width: auto; margin:0; padding: 0}\n",
       ".dl-inline>dt, .dl-inline>dd {float: none; width: auto; display: inline-block}\n",
       ".dl-inline>dt::after {content: \":\\0020\"; padding-right: .5ex}\n",
       ".dl-inline>dt:not(:first-of-type) {padding-left: .5ex}\n",
       "</style><dl class=dl-inline><dt>(Intercept)</dt><dd>-488.615869529053</dd><dt>Income</dt><dd>-7.80363382242431</dd><dt>Limit</dt><dd>0.193623720796595</dd><dt>Rating</dt><dd>1.09404898929531</dd><dt>Cards</dt><dd>18.1091708119971</dd><dt>Age</dt><dd>-0.620653760706896</dd><dt>GenderFemale</dt><dd>-10.4531520640606</dd><dt>StudentYes</dt><dd>426.581262033586</dd></dl>\n"
      ],
      "text/latex": [
       "\\begin{description*}\n",
       "\\item[(Intercept)] -488.615869529053\n",
       "\\item[Income] -7.80363382242431\n",
       "\\item[Limit] 0.193623720796595\n",
       "\\item[Rating] 1.09404898929531\n",
       "\\item[Cards] 18.1091708119971\n",
       "\\item[Age] -0.620653760706896\n",
       "\\item[GenderFemale] -10.4531520640606\n",
       "\\item[StudentYes] 426.581262033586\n",
       "\\end{description*}\n"
      ],
      "text/markdown": [
       "(Intercept)\n",
       ":   -488.615869529053Income\n",
       ":   -7.80363382242431Limit\n",
       ":   0.193623720796595Rating\n",
       ":   1.09404898929531Cards\n",
       ":   18.1091708119971Age\n",
       ":   -0.620653760706896GenderFemale\n",
       ":   -10.4531520640606StudentYes\n",
       ":   426.581262033586\n",
       "\n"
      ],
      "text/plain": [
       " (Intercept)       Income        Limit       Rating        Cards          Age \n",
       "-488.6158695   -7.8036338    0.1936237    1.0940490   18.1091708   -0.6206538 \n",
       "GenderFemale   StudentYes \n",
       " -10.4531521  426.5812620 "
      ]
     },
     "metadata": {},
     "output_type": "display_data"
    }
   ],
   "source": [
    "# Review coefficient outputs for our models\n",
    "coef(regfit_full, 7)\n",
    "coef(regfit_fwd, 7)\n",
    "coef(regfit_bwd, 7)"
   ]
  },
  {
   "cell_type": "markdown",
   "metadata": {
    "colab_type": "text",
    "id": "A1gNvL6ORkSp"
   },
   "source": [
    "All three methods result in the selection of the same variables and hence the same estimated coefficients under the least squares fit."
   ]
  }
 ],
 "metadata": {
  "colab": {
   "collapsed_sections": [],
   "name": "LSE MNL M4 U1 IDE Activity notebook (practice)_v010_GG.ipynb",
   "provenance": []
  },
  "kernelspec": {
   "display_name": "R",
   "language": "R",
   "name": "ir"
  },
  "language_info": {
   "codemirror_mode": "r",
   "file_extension": ".r",
   "mimetype": "text/x-r-source",
   "name": "R",
   "pygments_lexer": "r",
   "version": "3.6.3"
  }
 },
 "nbformat": 4,
 "nbformat_minor": 1
}
