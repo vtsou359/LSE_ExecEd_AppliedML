{
 "cells": [
  {
   "cell_type": "markdown",
   "metadata": {
    "colab_type": "text",
    "id": "DgKs16_mcc8a"
   },
   "source": [
    "# LSE Machine Learning: Practical Applications\n",
    "\n",
    "## Module 4 Unit 1 IDE Activity (Assessment) | Execute variable selection in R\n",
    "\n",
    "### In this IDE notebook, you are required to complete some of the steps to apply different variable selection methods to select the most significant variables to include in the model.\n",
    "The instructions for this IDE activity are positioned as text cells before each step. You are required to read the text cells above a code cell, familiarise yourself with the required step, and execute the step. You are encouraged to refer back to the practice IDE activity to familiarise yourself with the different steps and how they are executed in R."
   ]
  },
  {
   "cell_type": "markdown",
   "metadata": {
    "colab_type": "text",
    "id": "lesMZc9vd9Oj"
   },
   "source": [
    "### Step 1: Load and install the relevant packages"
   ]
  },
  {
   "cell_type": "code",
   "execution_count": 1,
   "metadata": {
    "colab": {},
    "colab_type": "code",
    "id": "KRx4ZaAQcLTu"
   },
   "outputs": [
    {
     "name": "stderr",
     "output_type": "stream",
     "text": [
      "\n",
      "Attaching package: ‘dplyr’\n",
      "\n",
      "\n",
      "The following objects are masked from ‘package:stats’:\n",
      "\n",
      "    filter, lag\n",
      "\n",
      "\n",
      "The following objects are masked from ‘package:base’:\n",
      "\n",
      "    intersect, setdiff, setequal, union\n",
      "\n",
      "\n",
      "── \u001B[1mAttaching packages\u001B[22m ─────────────────────────────────────── tidyverse 1.3.0 ──\n",
      "\n",
      "\u001B[32m✔\u001B[39m \u001B[34mggplot2\u001B[39m 3.3.5     \u001B[32m✔\u001B[39m \u001B[34mpurrr  \u001B[39m 0.3.4\n",
      "\u001B[32m✔\u001B[39m \u001B[34mtibble \u001B[39m 3.1.6     \u001B[32m✔\u001B[39m \u001B[34mstringr\u001B[39m 1.4.0\n",
      "\u001B[32m✔\u001B[39m \u001B[34mtidyr  \u001B[39m 1.2.0     \u001B[32m✔\u001B[39m \u001B[34mforcats\u001B[39m 0.5.1\n",
      "\u001B[32m✔\u001B[39m \u001B[34mreadr  \u001B[39m 2.1.2     \n",
      "\n",
      "── \u001B[1mConflicts\u001B[22m ────────────────────────────────────────── tidyverse_conflicts() ──\n",
      "\u001B[31m✖\u001B[39m \u001B[34mdplyr\u001B[39m::\u001B[32mfilter()\u001B[39m masks \u001B[34mstats\u001B[39m::filter()\n",
      "\u001B[31m✖\u001B[39m \u001B[34mdplyr\u001B[39m::\u001B[32mlag()\u001B[39m    masks \u001B[34mstats\u001B[39m::lag()\n",
      "\n",
      "Loading required package: lattice\n",
      "\n",
      "\n",
      "Attaching package: ‘caret’\n",
      "\n",
      "\n",
      "The following object is masked from ‘package:purrr’:\n",
      "\n",
      "    lift\n",
      "\n",
      "\n"
     ]
    }
   ],
   "source": [
    "library(ISLR)\n",
    "library(leaps)\n",
    "library(dplyr)\n",
    "library(tidyverse)\n",
    "library(caret)"
   ]
  },
  {
   "cell_type": "markdown",
   "metadata": {
    "colab_type": "text",
    "id": "hrCaIm1ze8Db"
   },
   "source": [
    "### Step 2: Load and prepare the data"
   ]
  },
  {
   "cell_type": "code",
   "execution_count": 2,
   "metadata": {
    "colab": {},
    "colab_type": "code",
    "id": "jCSeN_svbE21",
    "outputId": "2189eb0a-50c7-4fe8-92e3-e5bab13432ac"
   },
   "outputs": [
    {
     "name": "stdout",
     "output_type": "stream",
     "text": [
      "'data.frame':\t506 obs. of  13 variables:\n",
      " $ crim   : num  0.00632 0.02731 0.02729 0.03237 0.06905 ...\n",
      " $ zn     : num  18 0 0 0 0 0 12.5 12.5 12.5 12.5 ...\n",
      " $ indus  : num  2.31 7.07 7.07 2.18 2.18 2.18 7.87 7.87 7.87 7.87 ...\n",
      " $ chas   : int  0 0 0 0 0 0 0 0 0 0 ...\n",
      " $ nox    : num  0.538 0.469 0.469 0.458 0.458 0.458 0.524 0.524 0.524 0.524 ...\n",
      " $ rm     : num  6.58 6.42 7.18 7 7.15 ...\n",
      " $ age    : num  65.2 78.9 61.1 45.8 54.2 58.7 66.6 96.1 100 85.9 ...\n",
      " $ dis    : num  4.09 4.97 4.97 6.06 6.06 ...\n",
      " $ rad    : int  1 2 2 3 3 3 5 5 5 5 ...\n",
      " $ tax    : int  296 242 242 222 222 222 311 311 311 311 ...\n",
      " $ ptratio: num  15.3 17.8 17.8 18.7 18.7 18.7 15.2 15.2 15.2 15.2 ...\n",
      " $ lstat  : num  4.98 9.14 4.03 2.94 5.33 ...\n",
      " $ medv   : num  24 21.6 34.7 33.4 36.2 28.7 22.9 27.1 16.5 18.9 ...\n"
     ]
    },
    {
     "data": {
      "text/html": [
       "<table class=\"dataframe\">\n",
       "<caption>A data.frame: 6 × 13</caption>\n",
       "<thead>\n",
       "\t<tr><th></th><th scope=col>crim</th><th scope=col>zn</th><th scope=col>indus</th><th scope=col>chas</th><th scope=col>nox</th><th scope=col>rm</th><th scope=col>age</th><th scope=col>dis</th><th scope=col>rad</th><th scope=col>tax</th><th scope=col>ptratio</th><th scope=col>lstat</th><th scope=col>medv</th></tr>\n",
       "\t<tr><th></th><th scope=col>&lt;dbl&gt;</th><th scope=col>&lt;dbl&gt;</th><th scope=col>&lt;dbl&gt;</th><th scope=col>&lt;int&gt;</th><th scope=col>&lt;dbl&gt;</th><th scope=col>&lt;dbl&gt;</th><th scope=col>&lt;dbl&gt;</th><th scope=col>&lt;dbl&gt;</th><th scope=col>&lt;int&gt;</th><th scope=col>&lt;int&gt;</th><th scope=col>&lt;dbl&gt;</th><th scope=col>&lt;dbl&gt;</th><th scope=col>&lt;dbl&gt;</th></tr>\n",
       "</thead>\n",
       "<tbody>\n",
       "\t<tr><th scope=row>1</th><td>0.00632</td><td>18</td><td>2.31</td><td>0</td><td>0.538</td><td>6.575</td><td>65.2</td><td>4.0900</td><td>1</td><td>296</td><td>15.3</td><td>4.98</td><td>24.0</td></tr>\n",
       "\t<tr><th scope=row>2</th><td>0.02731</td><td> 0</td><td>7.07</td><td>0</td><td>0.469</td><td>6.421</td><td>78.9</td><td>4.9671</td><td>2</td><td>242</td><td>17.8</td><td>9.14</td><td>21.6</td></tr>\n",
       "\t<tr><th scope=row>3</th><td>0.02729</td><td> 0</td><td>7.07</td><td>0</td><td>0.469</td><td>7.185</td><td>61.1</td><td>4.9671</td><td>2</td><td>242</td><td>17.8</td><td>4.03</td><td>34.7</td></tr>\n",
       "\t<tr><th scope=row>4</th><td>0.03237</td><td> 0</td><td>2.18</td><td>0</td><td>0.458</td><td>6.998</td><td>45.8</td><td>6.0622</td><td>3</td><td>222</td><td>18.7</td><td>2.94</td><td>33.4</td></tr>\n",
       "\t<tr><th scope=row>5</th><td>0.06905</td><td> 0</td><td>2.18</td><td>0</td><td>0.458</td><td>7.147</td><td>54.2</td><td>6.0622</td><td>3</td><td>222</td><td>18.7</td><td>5.33</td><td>36.2</td></tr>\n",
       "\t<tr><th scope=row>6</th><td>0.02985</td><td> 0</td><td>2.18</td><td>0</td><td>0.458</td><td>6.430</td><td>58.7</td><td>6.0622</td><td>3</td><td>222</td><td>18.7</td><td>5.21</td><td>28.7</td></tr>\n",
       "</tbody>\n",
       "</table>\n"
      ],
      "text/latex": [
       "A data.frame: 6 × 13\n",
       "\\begin{tabular}{r|lllllllllllll}\n",
       "  & crim & zn & indus & chas & nox & rm & age & dis & rad & tax & ptratio & lstat & medv\\\\\n",
       "  & <dbl> & <dbl> & <dbl> & <int> & <dbl> & <dbl> & <dbl> & <dbl> & <int> & <int> & <dbl> & <dbl> & <dbl>\\\\\n",
       "\\hline\n",
       "\t1 & 0.00632 & 18 & 2.31 & 0 & 0.538 & 6.575 & 65.2 & 4.0900 & 1 & 296 & 15.3 & 4.98 & 24.0\\\\\n",
       "\t2 & 0.02731 &  0 & 7.07 & 0 & 0.469 & 6.421 & 78.9 & 4.9671 & 2 & 242 & 17.8 & 9.14 & 21.6\\\\\n",
       "\t3 & 0.02729 &  0 & 7.07 & 0 & 0.469 & 7.185 & 61.1 & 4.9671 & 2 & 242 & 17.8 & 4.03 & 34.7\\\\\n",
       "\t4 & 0.03237 &  0 & 2.18 & 0 & 0.458 & 6.998 & 45.8 & 6.0622 & 3 & 222 & 18.7 & 2.94 & 33.4\\\\\n",
       "\t5 & 0.06905 &  0 & 2.18 & 0 & 0.458 & 7.147 & 54.2 & 6.0622 & 3 & 222 & 18.7 & 5.33 & 36.2\\\\\n",
       "\t6 & 0.02985 &  0 & 2.18 & 0 & 0.458 & 6.430 & 58.7 & 6.0622 & 3 & 222 & 18.7 & 5.21 & 28.7\\\\\n",
       "\\end{tabular}\n"
      ],
      "text/markdown": [
       "\n",
       "A data.frame: 6 × 13\n",
       "\n",
       "| <!--/--> | crim &lt;dbl&gt; | zn &lt;dbl&gt; | indus &lt;dbl&gt; | chas &lt;int&gt; | nox &lt;dbl&gt; | rm &lt;dbl&gt; | age &lt;dbl&gt; | dis &lt;dbl&gt; | rad &lt;int&gt; | tax &lt;int&gt; | ptratio &lt;dbl&gt; | lstat &lt;dbl&gt; | medv &lt;dbl&gt; |\n",
       "|---|---|---|---|---|---|---|---|---|---|---|---|---|---|\n",
       "| 1 | 0.00632 | 18 | 2.31 | 0 | 0.538 | 6.575 | 65.2 | 4.0900 | 1 | 296 | 15.3 | 4.98 | 24.0 |\n",
       "| 2 | 0.02731 |  0 | 7.07 | 0 | 0.469 | 6.421 | 78.9 | 4.9671 | 2 | 242 | 17.8 | 9.14 | 21.6 |\n",
       "| 3 | 0.02729 |  0 | 7.07 | 0 | 0.469 | 7.185 | 61.1 | 4.9671 | 2 | 242 | 17.8 | 4.03 | 34.7 |\n",
       "| 4 | 0.03237 |  0 | 2.18 | 0 | 0.458 | 6.998 | 45.8 | 6.0622 | 3 | 222 | 18.7 | 2.94 | 33.4 |\n",
       "| 5 | 0.06905 |  0 | 2.18 | 0 | 0.458 | 7.147 | 54.2 | 6.0622 | 3 | 222 | 18.7 | 5.33 | 36.2 |\n",
       "| 6 | 0.02985 |  0 | 2.18 | 0 | 0.458 | 6.430 | 58.7 | 6.0622 | 3 | 222 | 18.7 | 5.21 | 28.7 |\n",
       "\n"
      ],
      "text/plain": [
       "  crim    zn indus chas nox   rm    age  dis    rad tax ptratio lstat medv\n",
       "1 0.00632 18 2.31  0    0.538 6.575 65.2 4.0900 1   296 15.3    4.98  24.0\n",
       "2 0.02731  0 7.07  0    0.469 6.421 78.9 4.9671 2   242 17.8    9.14  21.6\n",
       "3 0.02729  0 7.07  0    0.469 7.185 61.1 4.9671 2   242 17.8    4.03  34.7\n",
       "4 0.03237  0 2.18  0    0.458 6.998 45.8 6.0622 3   222 18.7    2.94  33.4\n",
       "5 0.06905  0 2.18  0    0.458 7.147 54.2 6.0622 3   222 18.7    5.33  36.2\n",
       "6 0.02985  0 2.18  0    0.458 6.430 58.7 6.0622 3   222 18.7    5.21  28.7"
      ]
     },
     "metadata": {},
     "output_type": "display_data"
    }
   ],
   "source": [
    "# Load the data\n",
    "house <- read.csv(\"BostonHousing.csv\")\n",
    "\n",
    "# Review summary of the data set\n",
    "str(house)\n",
    "\n",
    "# Display the head of the data set\n",
    "head(house)"
   ]
  },
  {
   "cell_type": "markdown",
   "metadata": {
    "colab_type": "text",
    "id": "xW_livSxyUPf"
   },
   "source": [
    "The data is now ready to be used for variable selection."
   ]
  },
  {
   "cell_type": "markdown",
   "metadata": {
    "colab_type": "text",
    "id": "TH3lKxeZyWig"
   },
   "source": [
    "### Step 3: Execute variable selection"
   ]
  },
  {
   "cell_type": "markdown",
   "metadata": {
    "colab_type": "text",
    "id": "4xjDog-xhxax"
   },
   "source": [
    "#### Section A: Best subset selection"
   ]
  },
  {
   "cell_type": "markdown",
   "metadata": {
    "colab_type": "text",
    "id": "cZZdBLTSiFhl"
   },
   "source": [
    "1. Apply the `regsubsets` function from the `leaps` package to perform the best subset selection task. \n",
    "\n",
    "**Note:** Set the optimal parameter (nvmax) to 12, representing the total number of variables of the Boston housing data set. Also set the dependent variable as ***medv***. The name of the data is \"house\". \n",
    "\n",
    "Once this has been done, an object containing the summary can be created, and then print out the R-squared and adjusted R-squared statistics for the model."
   ]
  },
  {
   "cell_type": "code",
   "execution_count": 3,
   "metadata": {
    "colab": {},
    "colab_type": "code",
    "deletable": false,
    "id": "An5se2HDhAH8",
    "nbgrader": {
     "cell_type": "code",
     "checksum": "deb6d36e5446f8ee34d3a109dc30b057",
     "grade": true,
     "grade_id": "cell-907ccff91df788e8",
     "locked": false,
     "points": 0,
     "schema_version": 3,
     "solution": true,
     "task": false
    },
    "outputId": "6b9bad87-4ada-44e1-cc6c-47e329992db9"
   },
   "outputs": [
    {
     "data": {
      "text/html": [
       "<style>\n",
       ".list-inline {list-style: none; margin:0; padding: 0}\n",
       ".list-inline>li {display: inline-block}\n",
       ".list-inline>li:not(:last-child)::after {content: \"\\00b7\"; padding: 0 .5ex}\n",
       "</style>\n",
       "<ol class=list-inline><li>'which'</li><li>'rsq'</li><li>'rss'</li><li>'adjr2'</li><li>'cp'</li><li>'bic'</li><li>'outmat'</li><li>'obj'</li></ol>\n"
      ],
      "text/latex": [
       "\\begin{enumerate*}\n",
       "\\item 'which'\n",
       "\\item 'rsq'\n",
       "\\item 'rss'\n",
       "\\item 'adjr2'\n",
       "\\item 'cp'\n",
       "\\item 'bic'\n",
       "\\item 'outmat'\n",
       "\\item 'obj'\n",
       "\\end{enumerate*}\n"
      ],
      "text/markdown": [
       "1. 'which'\n",
       "2. 'rsq'\n",
       "3. 'rss'\n",
       "4. 'adjr2'\n",
       "5. 'cp'\n",
       "6. 'bic'\n",
       "7. 'outmat'\n",
       "8. 'obj'\n",
       "\n",
       "\n"
      ],
      "text/plain": [
       "[1] \"which\"  \"rsq\"    \"rss\"    \"adjr2\"  \"cp\"     \"bic\"    \"outmat\" \"obj\"   "
      ]
     },
     "metadata": {},
     "output_type": "display_data"
    },
    {
     "data": {
      "text/html": [
       "<style>\n",
       ".list-inline {list-style: none; margin:0; padding: 0}\n",
       ".list-inline>li {display: inline-block}\n",
       ".list-inline>li:not(:last-child)::after {content: \"\\00b7\"; padding: 0 .5ex}\n",
       "</style>\n",
       "<ol class=list-inline><li>0.54414629758648</li><li>0.638561606260341</li><li>0.678624160161311</li><li>0.690307701684254</li><li>0.708089289352966</li><li>0.715774211739608</li><li>0.719623002372334</li><li>0.723623857696406</li><li>0.728291096689126</li><li>0.734242251838249</li><li>0.734281732643345</li><li>0.734307043761308</li></ol>\n"
      ],
      "text/latex": [
       "\\begin{enumerate*}\n",
       "\\item 0.54414629758648\n",
       "\\item 0.638561606260341\n",
       "\\item 0.678624160161311\n",
       "\\item 0.690307701684254\n",
       "\\item 0.708089289352966\n",
       "\\item 0.715774211739608\n",
       "\\item 0.719623002372334\n",
       "\\item 0.723623857696406\n",
       "\\item 0.728291096689126\n",
       "\\item 0.734242251838249\n",
       "\\item 0.734281732643345\n",
       "\\item 0.734307043761308\n",
       "\\end{enumerate*}\n"
      ],
      "text/markdown": [
       "1. 0.54414629758648\n",
       "2. 0.638561606260341\n",
       "3. 0.678624160161311\n",
       "4. 0.690307701684254\n",
       "5. 0.708089289352966\n",
       "6. 0.715774211739608\n",
       "7. 0.719623002372334\n",
       "8. 0.723623857696406\n",
       "9. 0.728291096689126\n",
       "10. 0.734242251838249\n",
       "11. 0.734281732643345\n",
       "12. 0.734307043761308\n",
       "\n",
       "\n"
      ],
      "text/plain": [
       " [1] 0.5441463 0.6385616 0.6786242 0.6903077 0.7080893 0.7157742 0.7196230\n",
       " [8] 0.7236239 0.7282911 0.7342423 0.7342817 0.7343070"
      ]
     },
     "metadata": {},
     "output_type": "display_data"
    },
    {
     "data": {
      "text/html": [
       "<style>\n",
       ".list-inline {list-style: none; margin:0; padding: 0}\n",
       ".list-inline>li {display: inline-block}\n",
       ".list-inline>li:not(:last-child)::after {content: \"\\00b7\"; padding: 0 .5ex}\n",
       "</style>\n",
       "<ol class=list-inline><li>0.543241825954707</li><li>0.637124475470124</li><li>0.676703587413271</li><li>0.687835108484128</li><li>0.705170182246496</li><li>0.712356667191387</li><li>0.715681960237005</li><li>0.719175147156307</li><li>0.723360894814534</li><li>0.728873408441042</li><li>0.728364929119209</li><li>0.727839872412698</li></ol>\n"
      ],
      "text/latex": [
       "\\begin{enumerate*}\n",
       "\\item 0.543241825954707\n",
       "\\item 0.637124475470124\n",
       "\\item 0.676703587413271\n",
       "\\item 0.687835108484128\n",
       "\\item 0.705170182246496\n",
       "\\item 0.712356667191387\n",
       "\\item 0.715681960237005\n",
       "\\item 0.719175147156307\n",
       "\\item 0.723360894814534\n",
       "\\item 0.728873408441042\n",
       "\\item 0.728364929119209\n",
       "\\item 0.727839872412698\n",
       "\\end{enumerate*}\n"
      ],
      "text/markdown": [
       "1. 0.543241825954707\n",
       "2. 0.637124475470124\n",
       "3. 0.676703587413271\n",
       "4. 0.687835108484128\n",
       "5. 0.705170182246496\n",
       "6. 0.712356667191387\n",
       "7. 0.715681960237005\n",
       "8. 0.719175147156307\n",
       "9. 0.723360894814534\n",
       "10. 0.728873408441042\n",
       "11. 0.728364929119209\n",
       "12. 0.727839872412698\n",
       "\n",
       "\n"
      ],
      "text/plain": [
       " [1] 0.5432418 0.6371245 0.6767036 0.6878351 0.7051702 0.7123567 0.7156820\n",
       " [8] 0.7191751 0.7233609 0.7288734 0.7283649 0.7278399"
      ]
     },
     "metadata": {},
     "output_type": "display_data"
    }
   ],
   "source": [
    "# Fit regression model and print summary output\n",
    "# YOUR CODE HERE\n",
    "#house$rad <- as.factor(house$rad)\n",
    "#house$chas <- as.factor(house$chas)\n",
    "\n",
    "regfit<-regsubsets(medv~.,data=house, nvmax=12)\n",
    "reg_summary<-summary(regfit)\n",
    "\n",
    "# Review elements available in the summary\n",
    "names(reg_summary)\n",
    "\n",
    "# Review the R-squared and adjusted R-squared outputs\n",
    "reg_summary$rsq\n",
    "reg_summary$adjr2"
   ]
  },
  {
   "cell_type": "markdown",
   "metadata": {
    "colab_type": "text",
    "id": "zaoChwJ3hAIG"
   },
   "source": [
    "__Pause and reflect:__\n",
    "\n",
    "Consider the model that has the highest adjusted R-squared value."
   ]
  },
  {
   "cell_type": "markdown",
   "metadata": {
    "colab_type": "text",
    "id": "SnB69y9MfxBr"
   },
   "source": [
    "2. In order to identify the best model, plot the RSS, adjusted R-squared, Cp, and BIC values for all the models simultaneously using the `par` and `plot` functions."
   ]
  },
  {
   "cell_type": "code",
   "execution_count": 4,
   "metadata": {
    "colab": {},
    "colab_type": "code",
    "deletable": false,
    "id": "HwjJPt_zhAII",
    "nbgrader": {
     "cell_type": "code",
     "checksum": "6f93022b138bc9bf7430f78e1c7547e8",
     "grade": true,
     "grade_id": "cell-bd72b3f3445f6bc9",
     "locked": false,
     "points": 0,
     "schema_version": 3,
     "solution": true,
     "task": false
    },
    "outputId": "f01ae581-f037-4781-fb78-aa0a318ad214"
   },
   "outputs": [
    {
     "data": {
      "text/html": [
       "10"
      ],
      "text/latex": [
       "10"
      ],
      "text/markdown": [
       "10"
      ],
      "text/plain": [
       "[1] 10"
      ]
     },
     "metadata": {},
     "output_type": "display_data"
    },
    {
     "data": {
      "text/html": [
       "10"
      ],
      "text/latex": [
       "10"
      ],
      "text/markdown": [
       "10"
      ],
      "text/plain": [
       "[1] 10"
      ]
     },
     "metadata": {},
     "output_type": "display_data"
    },
    {
     "data": {
      "text/html": [
       "10"
      ],
      "text/latex": [
       "10"
      ],
      "text/markdown": [
       "10"
      ],
      "text/plain": [
       "[1] 10"
      ]
     },
     "metadata": {},
     "output_type": "display_data"
    },
    {
     "data": {
      "image/png": "[encoded data removed]",
      "text/plain": [
       "plot without title"
      ]
     },
     "metadata": {
      "image/png": {
       "height": 420,
       "width": 420
      }
     },
     "output_type": "display_data"
    }
   ],
   "source": [
    "# Plot required elements\n",
    "# YOUR CODE HERE\n",
    "par(mfrow=c(2,2))\n",
    "plot(reg_summary$rss, xlab=\"Number of Variables\", ylab=\"RSS\")\n",
    "\n",
    "\n",
    "## Plot adjusted R-squared vs number of variables\n",
    "# YOUR CODE HERE\n",
    "plot(reg_summary$adjr2, xlab=\"Number of Variables\", ylab=\"Adjusted RSq\", type=\"l\")\n",
    "## which_max() function is used to identify the location of the maximum point of a vector\n",
    "(best_model = which.max(reg_summary$adjr2))\n",
    "## Plot a red dot to indicate the model with the largest adjusted R2\n",
    "points(best_model, reg_summary$adjr2[best_model], col=\"red\", cex=2, pch=20)\n",
    "\n",
    "\n",
    "## In a similar fashion, plot Cp and BIC\n",
    "# YOUR CODE HERE\n",
    "plot(reg_summary$cp, xlab=\"Number of Variables\", ylab=\"Cp\", type=\"l\")\n",
    "(best_model = which.min(reg_summary$cp))\n",
    "points(best_model, reg_summary$cp[best_model], col=\"red\", cex=2, pch=20)\n",
    "\n",
    "plot(reg_summary$bic, xlab=\"Number of Variables\", ylab=\"BIC\", type=\"l\")\n",
    "(best_model = which.min(reg_summary$bic))\n",
    "points(best_model, reg_summary$bic[best_model], col=\"red\", cex=2, pch=20)"
   ]
  },
  {
   "cell_type": "markdown",
   "metadata": {
    "colab_type": "text",
    "id": "H3hDvJ-vgnXO"
   },
   "source": [
    "__Pause and reflect:__\n",
    "\n",
    "How many variables should be selected using the different metrics?"
   ]
  },
  {
   "cell_type": "markdown",
   "metadata": {
    "colab_type": "text",
    "id": "WYmHun21hAIO"
   },
   "source": [
    "3. Use the `regsubsets` function's built-in plot command to display the selected variables for the best model with a given number of independent variables."
   ]
  },
  {
   "cell_type": "code",
   "execution_count": 5,
   "metadata": {
    "colab": {},
    "colab_type": "code",
    "deletable": false,
    "id": "jRmsd7e1hAIP",
    "nbgrader": {
     "cell_type": "code",
     "checksum": "564d44f6eb11b3ecb862759cc6ef86bb",
     "grade": true,
     "grade_id": "cell-5af43fe8abc856ba",
     "locked": false,
     "points": 0,
     "schema_version": 3,
     "solution": true,
     "task": false
    },
    "outputId": "7cf9130d-c675-44c6-e596-b133f0718f77"
   },
   "outputs": [
    {
     "data": {
      "image/png": "[encoded data removed]",
      "text/plain": [
       "plot without title"
      ]
     },
     "metadata": {
      "image/png": {
       "height": 420,
       "width": 420
      }
     },
     "output_type": "display_data"
    }
   ],
   "source": [
    "# Plot using regsubsets's built-in plot function\n",
    "par(mfrow=c(2,2))\n",
    "# YOUR CODE HERE\n",
    "plot(regfit, scale=\"r2\")\n",
    "plot(regfit, scale=\"adjr2\")\n",
    "plot(regfit, scale=\"Cp\")\n",
    "plot(regfit, scale=\"bic\")"
   ]
  },
  {
   "cell_type": "markdown",
   "metadata": {
    "colab_type": "text",
    "id": "dLTZKZccpEv3"
   },
   "source": [
    "__Pause and reflect:__\n",
    "\n",
    "Based on the plots generated above, which variables are considered the most significant for each of the four criteria?"
   ]
  },
  {
   "cell_type": "markdown",
   "metadata": {
    "colab_type": "text",
    "id": "ZfUr1P-hhyMy"
   },
   "source": [
    "4. Use the `coef` function to see the coefficient estimates associated with this model."
   ]
  },
  {
   "cell_type": "code",
   "execution_count": 6,
   "metadata": {
    "colab": {},
    "colab_type": "code",
    "id": "iuwKnQxdhAIV",
    "outputId": "864acd4c-2564-4a19-b498-8d68c4ff74e1"
   },
   "outputs": [
    {
     "data": {
      "text/html": [
       "<style>\n",
       ".dl-inline {width: auto; margin:0; padding: 0}\n",
       ".dl-inline>dt, .dl-inline>dd {float: none; width: auto; display: inline-block}\n",
       ".dl-inline>dt::after {content: \":\\0020\"; padding-right: .5ex}\n",
       ".dl-inline>dt:not(:first-of-type) {padding-left: .5ex}\n",
       "</style><dl class=dl-inline><dt>(Intercept)</dt><dd>41.4517474779034</dd><dt>crim</dt><dd>-0.121664882595831</dd><dt>zn</dt><dd>0.0461911865796742</dd><dt>chas</dt><dd>2.87187264655048</dd><dt>nox</dt><dd>-18.2624266393636</dd><dt>rm</dt><dd>3.67295746579644</dd><dt>dis</dt><dd>-1.51595105051283</dd><dt>rad</dt><dd>0.283932258611199</dd><dt>tax</dt><dd>-0.0122915000015806</dd><dt>ptratio</dt><dd>-0.930961442028079</dd><dt>lstat</dt><dd>-0.546509162452881</dd></dl>\n"
      ],
      "text/latex": [
       "\\begin{description*}\n",
       "\\item[(Intercept)] 41.4517474779034\n",
       "\\item[crim] -0.121664882595831\n",
       "\\item[zn] 0.0461911865796742\n",
       "\\item[chas] 2.87187264655048\n",
       "\\item[nox] -18.2624266393636\n",
       "\\item[rm] 3.67295746579644\n",
       "\\item[dis] -1.51595105051283\n",
       "\\item[rad] 0.283932258611199\n",
       "\\item[tax] -0.0122915000015806\n",
       "\\item[ptratio] -0.930961442028079\n",
       "\\item[lstat] -0.546509162452881\n",
       "\\end{description*}\n"
      ],
      "text/markdown": [
       "(Intercept)\n",
       ":   41.4517474779034crim\n",
       ":   -0.121664882595831zn\n",
       ":   0.0461911865796742chas\n",
       ":   2.87187264655048nox\n",
       ":   -18.2624266393636rm\n",
       ":   3.67295746579644dis\n",
       ":   -1.51595105051283rad\n",
       ":   0.283932258611199tax\n",
       ":   -0.0122915000015806ptratio\n",
       ":   -0.930961442028079lstat\n",
       ":   -0.546509162452881\n",
       "\n"
      ],
      "text/plain": [
       " (Intercept)         crim           zn         chas          nox           rm \n",
       " 41.45174748  -0.12166488   0.04619119   2.87187265 -18.26242664   3.67295747 \n",
       "         dis          rad          tax      ptratio        lstat \n",
       " -1.51595105   0.28393226  -0.01229150  -0.93096144  -0.54650916 "
      ]
     },
     "metadata": {},
     "output_type": "display_data"
    }
   ],
   "source": [
    "# Print the coefficients\n",
    "coef(regfit, id = 10)"
   ]
  },
  {
   "cell_type": "markdown",
   "metadata": {
    "colab_type": "text",
    "id": "6kgHAsAhhAIb"
   },
   "source": [
    "In the next section, apply forward and backward stepwise selection to the Boston housing data set."
   ]
  },
  {
   "cell_type": "markdown",
   "metadata": {
    "colab_type": "text",
    "id": "BOFpabHkphS6"
   },
   "source": [
    "#### Section B: Stepwise selection"
   ]
  },
  {
   "cell_type": "markdown",
   "metadata": {
    "colab_type": "text",
    "id": "-wKqTSgvhAIc"
   },
   "source": [
    "1. Use the `regsubsets` function to perform forward stepwise selection, print the summary, and plot the output.\n",
    "\n",
    "**Note:** As a result of variable selection applied in the previous step, only 10 variables are retained. Update the nvmax parameter to 10 based on the output from the previous section."
   ]
  },
  {
   "cell_type": "code",
   "execution_count": 7,
   "metadata": {
    "colab": {},
    "colab_type": "code",
    "deletable": false,
    "id": "BT2B7z-YhAId",
    "nbgrader": {
     "cell_type": "code",
     "checksum": "134a06af5cbc0aba6ee0ddfe1efa2dae",
     "grade": true,
     "grade_id": "cell-25c7697b674da14a",
     "locked": false,
     "points": 0,
     "schema_version": 3,
     "solution": true,
     "task": false
    },
    "outputId": "d010deb9-b9a7-4976-a3d2-7443813faa04"
   },
   "outputs": [
    {
     "data": {
      "text/plain": [
       "Subset selection object\n",
       "Call: regsubsets.formula(medv ~ ., data = house, nvmax = 10, method = \"forward\")\n",
       "12 Variables  (and intercept)\n",
       "        Forced in Forced out\n",
       "crim        FALSE      FALSE\n",
       "zn          FALSE      FALSE\n",
       "indus       FALSE      FALSE\n",
       "chas        FALSE      FALSE\n",
       "nox         FALSE      FALSE\n",
       "rm          FALSE      FALSE\n",
       "age         FALSE      FALSE\n",
       "dis         FALSE      FALSE\n",
       "rad         FALSE      FALSE\n",
       "tax         FALSE      FALSE\n",
       "ptratio     FALSE      FALSE\n",
       "lstat       FALSE      FALSE\n",
       "1 subsets of each size up to 10\n",
       "Selection Algorithm: forward\n",
       "          crim zn  indus chas nox rm  age dis rad tax ptratio lstat\n",
       "1  ( 1 )  \" \"  \" \" \" \"   \" \"  \" \" \" \" \" \" \" \" \" \" \" \" \" \"     \"*\"  \n",
       "2  ( 1 )  \" \"  \" \" \" \"   \" \"  \" \" \"*\" \" \" \" \" \" \" \" \" \" \"     \"*\"  \n",
       "3  ( 1 )  \" \"  \" \" \" \"   \" \"  \" \" \"*\" \" \" \" \" \" \" \" \" \"*\"     \"*\"  \n",
       "4  ( 1 )  \" \"  \" \" \" \"   \" \"  \" \" \"*\" \" \" \"*\" \" \" \" \" \"*\"     \"*\"  \n",
       "5  ( 1 )  \" \"  \" \" \" \"   \" \"  \"*\" \"*\" \" \" \"*\" \" \" \" \" \"*\"     \"*\"  \n",
       "6  ( 1 )  \" \"  \" \" \" \"   \"*\"  \"*\" \"*\" \" \" \"*\" \" \" \" \" \"*\"     \"*\"  \n",
       "7  ( 1 )  \" \"  \"*\" \" \"   \"*\"  \"*\" \"*\" \" \" \"*\" \" \" \" \" \"*\"     \"*\"  \n",
       "8  ( 1 )  \"*\"  \"*\" \" \"   \"*\"  \"*\" \"*\" \" \" \"*\" \" \" \" \" \"*\"     \"*\"  \n",
       "9  ( 1 )  \"*\"  \"*\" \" \"   \"*\"  \"*\" \"*\" \" \" \"*\" \"*\" \" \" \"*\"     \"*\"  \n",
       "10  ( 1 ) \"*\"  \"*\" \" \"   \"*\"  \"*\" \"*\" \" \" \"*\" \"*\" \"*\" \"*\"     \"*\"  "
      ]
     },
     "metadata": {},
     "output_type": "display_data"
    },
    {
     "data": {
      "image/png": "[encoded data removed]",
      "text/plain": [
       "plot without title"
      ]
     },
     "metadata": {
      "image/png": {
       "height": 420,
       "width": 420
      }
     },
     "output_type": "display_data"
    }
   ],
   "source": [
    "# Use regsubsets to perform FSS\n",
    "# YOUR CODE HERE\n",
    "regfit_fwd = regsubsets(medv ~ .,\n",
    "                        data = house,\n",
    "                        nvmax = 10,\n",
    "                        method = \"forward\")\n",
    "\n",
    "# Print the summary\n",
    "# YOUR CODE HERE\n",
    "summary(regfit_fwd)\n",
    "\n",
    "\n",
    "# Plot the output\n",
    "# YOUR CODE HERE\n",
    "par(mfrow = c(2, 2))\n",
    "plot(regfit_fwd, scale = \"r2\")\n",
    "plot(regfit_fwd, scale = \"adjr2\")\n",
    "plot(regfit_fwd, scale = \"Cp\")\n",
    "plot(regfit_fwd, scale = \"bic\")"
   ]
  },
  {
   "cell_type": "markdown",
   "metadata": {
    "colab_type": "text",
    "id": "kMqmsmS5jTag"
   },
   "source": [
    "The steps above are duplicated to perform backward stepwise selection.\n",
    "\n",
    "2. Use the `regsubsets` function to perform BSS, print the summary, and plot the output."
   ]
  },
  {
   "cell_type": "code",
   "execution_count": 8,
   "metadata": {
    "colab": {},
    "colab_type": "code",
    "id": "KPcqCnf_hAIh",
    "outputId": "ed0b6b04-16ad-4c9c-c954-9cb63bb5e438"
   },
   "outputs": [
    {
     "data": {
      "text/plain": [
       "Subset selection object\n",
       "Call: regsubsets.formula(medv ~ ., data = house, nvmax = 10, method = \"backward\")\n",
       "12 Variables  (and intercept)\n",
       "        Forced in Forced out\n",
       "crim        FALSE      FALSE\n",
       "zn          FALSE      FALSE\n",
       "indus       FALSE      FALSE\n",
       "chas        FALSE      FALSE\n",
       "nox         FALSE      FALSE\n",
       "rm          FALSE      FALSE\n",
       "age         FALSE      FALSE\n",
       "dis         FALSE      FALSE\n",
       "rad         FALSE      FALSE\n",
       "tax         FALSE      FALSE\n",
       "ptratio     FALSE      FALSE\n",
       "lstat       FALSE      FALSE\n",
       "1 subsets of each size up to 10\n",
       "Selection Algorithm: backward\n",
       "          crim zn  indus chas nox rm  age dis rad tax ptratio lstat\n",
       "1  ( 1 )  \" \"  \" \" \" \"   \" \"  \" \" \" \" \" \" \" \" \" \" \" \" \" \"     \"*\"  \n",
       "2  ( 1 )  \" \"  \" \" \" \"   \" \"  \" \" \"*\" \" \" \" \" \" \" \" \" \" \"     \"*\"  \n",
       "3  ( 1 )  \" \"  \" \" \" \"   \" \"  \" \" \"*\" \" \" \" \" \" \" \" \" \"*\"     \"*\"  \n",
       "4  ( 1 )  \" \"  \" \" \" \"   \" \"  \" \" \"*\" \" \" \"*\" \" \" \" \" \"*\"     \"*\"  \n",
       "5  ( 1 )  \" \"  \" \" \" \"   \" \"  \"*\" \"*\" \" \" \"*\" \" \" \" \" \"*\"     \"*\"  \n",
       "6  ( 1 )  \"*\"  \" \" \" \"   \" \"  \"*\" \"*\" \" \" \"*\" \" \" \" \" \"*\"     \"*\"  \n",
       "7  ( 1 )  \"*\"  \" \" \" \"   \" \"  \"*\" \"*\" \" \" \"*\" \"*\" \" \" \"*\"     \"*\"  \n",
       "8  ( 1 )  \"*\"  \" \" \" \"   \" \"  \"*\" \"*\" \" \" \"*\" \"*\" \"*\" \"*\"     \"*\"  \n",
       "9  ( 1 )  \"*\"  \"*\" \" \"   \" \"  \"*\" \"*\" \" \" \"*\" \"*\" \"*\" \"*\"     \"*\"  \n",
       "10  ( 1 ) \"*\"  \"*\" \" \"   \"*\"  \"*\" \"*\" \" \" \"*\" \"*\" \"*\" \"*\"     \"*\"  "
      ]
     },
     "metadata": {},
     "output_type": "display_data"
    },
    {
     "data": {
      "image/png": "[encoded data removed]",
      "text/plain": [
       "plot without title"
      ]
     },
     "metadata": {
      "image/png": {
       "height": 420,
       "width": 420
      }
     },
     "output_type": "display_data"
    }
   ],
   "source": [
    "# Use regsubsets to perform BSS\n",
    "regfit_bwd = regsubsets(medv ~ .,\n",
    "                        data = house,\n",
    "                        nvmax = 10,\n",
    "                        method = \"backward\")\n",
    "\n",
    "# Print the summary\n",
    "summary(regfit_bwd)\n",
    "\n",
    "# Plot the output\n",
    "par(mfrow = c(2, 2))\n",
    "plot(regfit_bwd, scale = \"r2\")\n",
    "plot(regfit_bwd, scale = \"adjr2\")\n",
    "plot(regfit_bwd, scale = \"Cp\")\n",
    "plot(regfit_bwd, scale = \"bic\")"
   ]
  },
  {
   "cell_type": "markdown",
   "metadata": {
    "colab_type": "text",
    "id": "yu3ysEXfjlfR"
   },
   "source": [
    "__Pause and reflect:__\n",
    "\n",
    "How do the FSS and BSS outputs differ in terms of the significant variables identified? "
   ]
  },
  {
   "cell_type": "markdown",
   "metadata": {
    "colab_type": "text",
    "id": "RJZkG2IBhAIl"
   },
   "source": [
    "3. Review the coefficient estimates associated with the models using different approaches. Print the outputs of the following variable selection methods:\n",
    "- Best subset selection\n",
    "- Forward stepwise selection \n",
    "- Backward stepwise selection\n",
    "\n",
    "**Note:** Set the model to 10 variables."
   ]
  },
  {
   "cell_type": "code",
   "execution_count": 9,
   "metadata": {
    "colab": {},
    "colab_type": "code",
    "deletable": false,
    "id": "Qd_-Qr7VhAIm",
    "nbgrader": {
     "cell_type": "code",
     "checksum": "605984368d77d20b1f594f1730e55bc9",
     "grade": true,
     "grade_id": "cell-2bce0c6622a2813b",
     "locked": false,
     "points": 0,
     "schema_version": 3,
     "solution": true,
     "task": false
    },
    "outputId": "03eaef18-bc49-4263-84a0-ede9304ea1b2"
   },
   "outputs": [
    {
     "data": {
      "text/html": [
       "<style>\n",
       ".dl-inline {width: auto; margin:0; padding: 0}\n",
       ".dl-inline>dt, .dl-inline>dd {float: none; width: auto; display: inline-block}\n",
       ".dl-inline>dt::after {content: \":\\0020\"; padding-right: .5ex}\n",
       ".dl-inline>dt:not(:first-of-type) {padding-left: .5ex}\n",
       "</style><dl class=dl-inline><dt>(Intercept)</dt><dd>41.4517474779034</dd><dt>crim</dt><dd>-0.121664882595831</dd><dt>zn</dt><dd>0.0461911865796742</dd><dt>chas</dt><dd>2.87187264655048</dd><dt>nox</dt><dd>-18.2624266393636</dd><dt>rm</dt><dd>3.67295746579644</dd><dt>dis</dt><dd>-1.51595105051283</dd><dt>rad</dt><dd>0.283932258611199</dd><dt>tax</dt><dd>-0.0122915000015806</dd><dt>ptratio</dt><dd>-0.930961442028079</dd><dt>lstat</dt><dd>-0.546509162452881</dd></dl>\n"
      ],
      "text/latex": [
       "\\begin{description*}\n",
       "\\item[(Intercept)] 41.4517474779034\n",
       "\\item[crim] -0.121664882595831\n",
       "\\item[zn] 0.0461911865796742\n",
       "\\item[chas] 2.87187264655048\n",
       "\\item[nox] -18.2624266393636\n",
       "\\item[rm] 3.67295746579644\n",
       "\\item[dis] -1.51595105051283\n",
       "\\item[rad] 0.283932258611199\n",
       "\\item[tax] -0.0122915000015806\n",
       "\\item[ptratio] -0.930961442028079\n",
       "\\item[lstat] -0.546509162452881\n",
       "\\end{description*}\n"
      ],
      "text/markdown": [
       "(Intercept)\n",
       ":   41.4517474779034crim\n",
       ":   -0.121664882595831zn\n",
       ":   0.0461911865796742chas\n",
       ":   2.87187264655048nox\n",
       ":   -18.2624266393636rm\n",
       ":   3.67295746579644dis\n",
       ":   -1.51595105051283rad\n",
       ":   0.283932258611199tax\n",
       ":   -0.0122915000015806ptratio\n",
       ":   -0.930961442028079lstat\n",
       ":   -0.546509162452881\n",
       "\n"
      ],
      "text/plain": [
       " (Intercept)         crim           zn         chas          nox           rm \n",
       " 41.45174748  -0.12166488   0.04619119   2.87187265 -18.26242664   3.67295747 \n",
       "         dis          rad          tax      ptratio        lstat \n",
       " -1.51595105   0.28393226  -0.01229150  -0.93096144  -0.54650916 "
      ]
     },
     "metadata": {},
     "output_type": "display_data"
    },
    {
     "data": {
      "text/html": [
       "<style>\n",
       ".dl-inline {width: auto; margin:0; padding: 0}\n",
       ".dl-inline>dt, .dl-inline>dd {float: none; width: auto; display: inline-block}\n",
       ".dl-inline>dt::after {content: \":\\0020\"; padding-right: .5ex}\n",
       ".dl-inline>dt:not(:first-of-type) {padding-left: .5ex}\n",
       "</style><dl class=dl-inline><dt>(Intercept)</dt><dd>41.4517474779034</dd><dt>crim</dt><dd>-0.121664882595831</dd><dt>zn</dt><dd>0.046191186579674</dd><dt>chas</dt><dd>2.87187264655048</dd><dt>nox</dt><dd>-18.2624266393636</dd><dt>rm</dt><dd>3.67295746579644</dd><dt>dis</dt><dd>-1.51595105051283</dd><dt>rad</dt><dd>0.283932258611198</dd><dt>tax</dt><dd>-0.0122915000015806</dd><dt>ptratio</dt><dd>-0.930961442028081</dd><dt>lstat</dt><dd>-0.546509162452882</dd></dl>\n"
      ],
      "text/latex": [
       "\\begin{description*}\n",
       "\\item[(Intercept)] 41.4517474779034\n",
       "\\item[crim] -0.121664882595831\n",
       "\\item[zn] 0.046191186579674\n",
       "\\item[chas] 2.87187264655048\n",
       "\\item[nox] -18.2624266393636\n",
       "\\item[rm] 3.67295746579644\n",
       "\\item[dis] -1.51595105051283\n",
       "\\item[rad] 0.283932258611198\n",
       "\\item[tax] -0.0122915000015806\n",
       "\\item[ptratio] -0.930961442028081\n",
       "\\item[lstat] -0.546509162452882\n",
       "\\end{description*}\n"
      ],
      "text/markdown": [
       "(Intercept)\n",
       ":   41.4517474779034crim\n",
       ":   -0.121664882595831zn\n",
       ":   0.046191186579674chas\n",
       ":   2.87187264655048nox\n",
       ":   -18.2624266393636rm\n",
       ":   3.67295746579644dis\n",
       ":   -1.51595105051283rad\n",
       ":   0.283932258611198tax\n",
       ":   -0.0122915000015806ptratio\n",
       ":   -0.930961442028081lstat\n",
       ":   -0.546509162452882\n",
       "\n"
      ],
      "text/plain": [
       " (Intercept)         crim           zn         chas          nox           rm \n",
       " 41.45174748  -0.12166488   0.04619119   2.87187265 -18.26242664   3.67295747 \n",
       "         dis          rad          tax      ptratio        lstat \n",
       " -1.51595105   0.28393226  -0.01229150  -0.93096144  -0.54650916 "
      ]
     },
     "metadata": {},
     "output_type": "display_data"
    },
    {
     "data": {
      "text/html": [
       "<style>\n",
       ".dl-inline {width: auto; margin:0; padding: 0}\n",
       ".dl-inline>dt, .dl-inline>dd {float: none; width: auto; display: inline-block}\n",
       ".dl-inline>dt::after {content: \":\\0020\"; padding-right: .5ex}\n",
       ".dl-inline>dt:not(:first-of-type) {padding-left: .5ex}\n",
       "</style><dl class=dl-inline><dt>(Intercept)</dt><dd>41.4517474779034</dd><dt>crim</dt><dd>-0.121664882595831</dd><dt>zn</dt><dd>0.046191186579674</dd><dt>chas</dt><dd>2.87187264655048</dd><dt>nox</dt><dd>-18.2624266393636</dd><dt>rm</dt><dd>3.67295746579644</dd><dt>dis</dt><dd>-1.51595105051283</dd><dt>rad</dt><dd>0.283932258611198</dd><dt>tax</dt><dd>-0.0122915000015806</dd><dt>ptratio</dt><dd>-0.930961442028081</dd><dt>lstat</dt><dd>-0.546509162452882</dd></dl>\n"
      ],
      "text/latex": [
       "\\begin{description*}\n",
       "\\item[(Intercept)] 41.4517474779034\n",
       "\\item[crim] -0.121664882595831\n",
       "\\item[zn] 0.046191186579674\n",
       "\\item[chas] 2.87187264655048\n",
       "\\item[nox] -18.2624266393636\n",
       "\\item[rm] 3.67295746579644\n",
       "\\item[dis] -1.51595105051283\n",
       "\\item[rad] 0.283932258611198\n",
       "\\item[tax] -0.0122915000015806\n",
       "\\item[ptratio] -0.930961442028081\n",
       "\\item[lstat] -0.546509162452882\n",
       "\\end{description*}\n"
      ],
      "text/markdown": [
       "(Intercept)\n",
       ":   41.4517474779034crim\n",
       ":   -0.121664882595831zn\n",
       ":   0.046191186579674chas\n",
       ":   2.87187264655048nox\n",
       ":   -18.2624266393636rm\n",
       ":   3.67295746579644dis\n",
       ":   -1.51595105051283rad\n",
       ":   0.283932258611198tax\n",
       ":   -0.0122915000015806ptratio\n",
       ":   -0.930961442028081lstat\n",
       ":   -0.546509162452882\n",
       "\n"
      ],
      "text/plain": [
       " (Intercept)         crim           zn         chas          nox           rm \n",
       " 41.45174748  -0.12166488   0.04619119   2.87187265 -18.26242664   3.67295747 \n",
       "         dis          rad          tax      ptratio        lstat \n",
       " -1.51595105   0.28393226  -0.01229150  -0.93096144  -0.54650916 "
      ]
     },
     "metadata": {},
     "output_type": "display_data"
    }
   ],
   "source": [
    "# Review coefficient outputs for the models\n",
    "# YOUR CODE HERE\n",
    "coef(regfit, 10)\n",
    "coef(regfit_fwd, 10)\n",
    "coef(regfit_bwd, 10)"
   ]
  },
  {
   "cell_type": "markdown",
   "metadata": {
    "colab_type": "text",
    "id": "A1gNvL6ORkSp"
   },
   "source": [
    "**Note:** Remember to submit this IDE notebook after completion and navigate back to the component on the Online Campus to complete the second part of this assessment where you have the opportunity to share your thoughts and reflections regarding the output of this notebook with your peers in the class-wide discussion forum."
   ]
  },
  {
   "cell_type": "code",
   "execution_count": null,
   "metadata": {},
   "outputs": [],
   "source": []
  }
 ],
 "metadata": {
  "colab": {
   "collapsed_sections": [],
   "name": "LSE MNL M4U1 IDE Activity notebook (assessment)_v13_BL.ipynb",
   "provenance": []
  },
  "kernelspec": {
   "display_name": "R",
   "language": "R",
   "name": "ir"
  },
  "language_info": {
   "codemirror_mode": "r",
   "file_extension": ".r",
   "mimetype": "text/x-r-source",
   "name": "R",
   "pygments_lexer": "r",
   "version": "3.6.3"
  }
 },
 "nbformat": 4,
 "nbformat_minor": 1
}
